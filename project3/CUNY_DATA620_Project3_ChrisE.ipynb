{
 "cells": [
  {
   "cell_type": "markdown",
   "metadata": {},
   "source": [
    "## Project 3:\n",
    "## CUNY MSDS DATA620 - Web Analytics\n",
    "---\n",
    "### Team5: Christopher Estevez, Meaghan Burke, Rickidon Singh,  Ritesh Lohiya, Rose Koh\n",
    "### 07/02/2018 (due date)\n",
    "##### python version: 2.7\n",
    "---\n"
   ]
  },
  {
   "cell_type": "markdown",
   "metadata": {},
   "source": [
    "\n",
    "<h2> Assignment Details </h2>\n",
    "\n",
    "For this project, please work with the entire class as one collaborative group!Your project should be\n",
    "submitted (as a Jupyter Notebook via GitHub) by end of the due date. The group should present their\n",
    "code and findings in our meetup.\n",
    "\n",
    "<i>The ability to be an effective member of a virtual team is highly valued in the data science job market. </i>\n",
    "\n",
    "\n",
    "-------------------------------------------------------------------------------------------------------------\n",
    "\n",
    "Using any of the three classifiers described in chapter 6 of <b>Natural Language Processing with Python</b>,\n",
    "and any features you can think of, build the best name gender classifier you can.\n",
    "\n",
    "Begin by splitting the Names Corpus into three subsets: 500 words for the test set, 500 words for the devtest\n",
    "set, and the remaining 6900 words for the training set. Then, starting with the example name gender\n",
    "classifier, make incremental improvements. Use the dev-test set to check your progress. Once you are\n",
    "satisfied with your classifier, check its final performance on the test set.\n",
    "\n",
    "How does the performance on the test set compare to the performance on the dev-test set? Is this what\n",
    "you'd expect?\n",
    "\n",
    "Source: Natural Language Processing with Python, exercise 6.10.2.\n",
    "\n"
   ]
  },
  {
   "cell_type": "code",
   "execution_count": 1,
   "metadata": {},
   "outputs": [],
   "source": [
    "import nltk\n",
    "from nltk.classify import apply_features\n",
    "import random\n",
    "import math"
   ]
  },
  {
   "cell_type": "code",
   "execution_count": 14,
   "metadata": {},
   "outputs": [
    {
     "name": "stdout",
     "output_type": "stream",
     "text": [
      "[nltk_data] Downloading package names to\n",
      "[nltk_data]     C:\\Users\\OmegaCel\\AppData\\Roaming\\nltk_data...\n",
      "[nltk_data]   Unzipping corpora\\names.zip.\n"
     ]
    },
    {
     "data": {
      "text/plain": [
       "True"
      ]
     },
     "execution_count": 14,
     "metadata": {},
     "output_type": "execute_result"
    }
   ],
   "source": []
  },
  {
   "cell_type": "code",
   "execution_count": 4,
   "metadata": {
    "scrolled": true
   },
   "outputs": [
    {
     "name": "stdout",
     "output_type": "stream",
     "text": [
      "[nltk_data] Downloading package names to\n",
      "[nltk_data]     C:\\Users\\OmegaCel\\AppData\\Roaming\\nltk_data...\n",
      "[nltk_data]   Package names is already up-to-date!\n"
     ]
    }
   ],
   "source": [
    "from nltk.corpus import names\n",
    "nltk.download(\"names\")\n",
    "\n",
    "names = ([(name, \"male\") for name in names.words(\"male.txt\")] +\n",
    "           [(name, \"female\") for name in names.words(\"female.txt\")])\n",
    "random.shuffle(names)"
   ]
  },
  {
   "cell_type": "code",
   "execution_count": 6,
   "metadata": {},
   "outputs": [
    {
     "data": {
      "text/plain": [
       "7944"
      ]
     },
     "execution_count": 6,
     "metadata": {},
     "output_type": "execute_result"
    }
   ],
   "source": [
    "len(names)"
   ]
  },
  {
   "cell_type": "markdown",
   "metadata": {},
   "source": [
    "# Data sets"
   ]
  },
  {
   "cell_type": "code",
   "execution_count": 55,
   "metadata": {},
   "outputs": [
    {
     "name": "stdout",
     "output_type": "stream",
     "text": [
      "test_set:  500\n",
      "devtest_set:  500\n",
      "train_set:  6944\n"
     ]
    }
   ],
   "source": [
    "\n",
    "test_set = names[:500]\n",
    "print \"test_set: \", len(test_set)\n",
    "\n",
    "# Error-analysis set\n",
    "devtest_set = names[500:1000]\n",
    "print \"devtest_set: \", len(devtest_set)\n",
    "\n",
    "# Training set\n",
    "train_set = names[1000:]\n",
    "print \"train_set: \", len(train_set)"
   ]
  },
  {
   "cell_type": "code",
   "execution_count": 83,
   "metadata": {},
   "outputs": [],
   "source": [
    "def gender_features2(name):\n",
    "    features = {}\n",
    "    features[\"firstletter\"] = name[0].lower()\n",
    "    features[\"lastletter\"] = name[-1].lower()\n",
    "    features[\"suffix2\"]= name[-2:].lower()\n",
    "    features[\"preffix2\"]= name[:2].lower()\n",
    "    for letter in 'aeiou':\n",
    "        features[\"count(%s)\" % letter] = name.lower().count(letter)\n",
    "        features[\"has(%s)\" % letter] = (letter in name.lower())\n",
    "    return features"
   ]
  },
  {
   "cell_type": "code",
   "execution_count": 84,
   "metadata": {},
   "outputs": [],
   "source": [
    "featuresets = [(gender_features2(n), g) for (n,g) in names]\n",
    "train_set_fe = featuresets[1000:]\n",
    "test_set_fe =featuresets[:500]\n",
    "devtest_set_fe =featuresets[500:1000]\n",
    "classifier = nltk.NaiveBayesClassifier.train(train_set_fe)\n"
   ]
  },
  {
   "cell_type": "code",
   "execution_count": 85,
   "metadata": {},
   "outputs": [
    {
     "data": {
      "text/plain": [
       "({'count(a)': 1,\n",
       "  'count(e)': 1,\n",
       "  'count(i)': 1,\n",
       "  'count(o)': 0,\n",
       "  'count(u)': 0,\n",
       "  'firstletter': u'c',\n",
       "  'has(a)': True,\n",
       "  'has(e)': True,\n",
       "  'has(i)': True,\n",
       "  'has(o)': False,\n",
       "  'has(u)': False,\n",
       "  'lastletter': u'e',\n",
       "  'preffix2': u'ca',\n",
       "  'suffix2': u'ie'},\n",
       " 'female')"
      ]
     },
     "execution_count": 85,
     "metadata": {},
     "output_type": "execute_result"
    }
   ],
   "source": [
    "featuresets[0]"
   ]
  },
  {
   "cell_type": "code",
   "execution_count": 87,
   "metadata": {},
   "outputs": [
    {
     "name": "stdout",
     "output_type": "stream",
     "text": [
      "male\n",
      "male\n"
     ]
    }
   ],
   "source": [
    "print classifier.classify(gender_features2('Neo')) #male\n",
    "print classifier.classify(gender_features2('Trinity')) #female"
   ]
  },
  {
   "cell_type": "code",
   "execution_count": 91,
   "metadata": {},
   "outputs": [
    {
     "name": "stdout",
     "output_type": "stream",
     "text": [
      "train_set\n",
      "0.807747695853\n",
      "test_set\n",
      "0.822\n",
      "devtest_set\n",
      "0.786\n"
     ]
    }
   ],
   "source": [
    "print \"train_set\"\n",
    "print nltk.classify.accuracy(classifier, train_set_fe)\n",
    "print \"test_set\"\n",
    "print nltk.classify.accuracy(classifier, test_set_fe)\n",
    "print \"devtest_set\"\n",
    "print nltk.classify.accuracy(classifier, devtest_set_fe)"
   ]
  },
  {
   "cell_type": "code",
   "execution_count": 77,
   "metadata": {},
   "outputs": [
    {
     "name": "stdout",
     "output_type": "stream",
     "text": [
      "Most Informative Features\n",
      "                 suffix2 = u'na'          female : male   =    156.6 : 1.0\n",
      "                 suffix2 = u'ia'          female : male   =     88.8 : 1.0\n",
      "              lastletter = u'a'           female : male   =     39.2 : 1.0\n",
      "                 suffix2 = u'sa'          female : male   =     35.1 : 1.0\n",
      "                 suffix2 = u'ta'          female : male   =     30.2 : 1.0\n",
      "                 suffix2 = u'rd'            male : female =     30.2 : 1.0\n",
      "              lastletter = u'k'             male : female =     28.8 : 1.0\n",
      "                 suffix2 = u'us'            male : female =     27.8 : 1.0\n",
      "                 suffix2 = u'do'            male : female =     26.0 : 1.0\n",
      "                 suffix2 = u'ra'          female : male   =     25.2 : 1.0\n",
      "                 suffix2 = u'ld'            male : female =     21.6 : 1.0\n",
      "                 suffix2 = u'rt'            male : female =     21.1 : 1.0\n",
      "              lastletter = u'p'             male : female =     18.6 : 1.0\n",
      "                preffix2 = u'hu'            male : female =     18.3 : 1.0\n",
      "                 suffix2 = u'os'            male : female =     17.2 : 1.0\n",
      "                preffix2 = u'fo'            male : female =     16.1 : 1.0\n",
      "              lastletter = u'f'             male : female =     15.2 : 1.0\n",
      "                 suffix2 = u'ch'            male : female =     15.0 : 1.0\n",
      "                 suffix2 = u'ka'          female : male   =     13.0 : 1.0\n",
      "                 suffix2 = u'io'            male : female =     13.0 : 1.0\n",
      "                preffix2 = u'ya'            male : female =     11.7 : 1.0\n",
      "                 suffix2 = u'ti'          female : male   =     11.0 : 1.0\n",
      "                 suffix2 = u'ig'            male : female =     10.5 : 1.0\n",
      "                 suffix2 = u'ud'            male : female =     10.5 : 1.0\n",
      "                 suffix2 = u'ns'            male : female =     10.5 : 1.0\n",
      "                 suffix2 = u'on'            male : female =     10.4 : 1.0\n",
      "                 suffix2 = u'im'            male : female =     10.3 : 1.0\n",
      "              lastletter = u'd'             male : female =     10.3 : 1.0\n",
      "                 suffix2 = u'ya'          female : male   =     10.2 : 1.0\n",
      "                preffix2 = u'wa'            male : female =     10.1 : 1.0\n",
      "                preffix2 = u'ce'          female : male   =      9.8 : 1.0\n",
      "                 suffix2 = u'rn'            male : female =      9.4 : 1.0\n",
      "                 suffix2 = u'ar'            male : female =      8.7 : 1.0\n",
      "              lastletter = u'm'             male : female =      8.5 : 1.0\n",
      "              lastletter = u'u'             male : female =      8.5 : 1.0\n",
      "              lastletter = u'v'             male : female =      8.5 : 1.0\n",
      "                preffix2 = u'tu'            male : female =      8.3 : 1.0\n",
      "                 suffix2 = u'ff'            male : female =      8.3 : 1.0\n",
      "                 suffix2 = u'as'            male : female =      8.3 : 1.0\n",
      "                 suffix2 = u'st'            male : female =      8.3 : 1.0\n",
      "                 suffix2 = u'ip'            male : female =      8.3 : 1.0\n",
      "                 suffix2 = u'ea'          female : male   =      7.8 : 1.0\n",
      "              lastletter = u'o'             male : female =      7.7 : 1.0\n",
      "                 suffix2 = u'lo'            male : female =      7.6 : 1.0\n",
      "                 suffix2 = u'go'            male : female =      7.2 : 1.0\n",
      "                 suffix2 = u'rk'            male : female =      7.2 : 1.0\n",
      "                 suffix2 = u'di'          female : male   =      7.1 : 1.0\n",
      "                 suffix2 = u'er'            male : female =      7.0 : 1.0\n",
      "                 suffix2 = u'ed'            male : female =      6.8 : 1.0\n",
      "              lastletter = u'r'             male : female =      6.6 : 1.0\n",
      "                 suffix2 = u'ro'            male : female =      6.4 : 1.0\n",
      "                 suffix2 = u'ew'            male : female =      6.3 : 1.0\n",
      "                 suffix2 = u'em'            male : female =      6.3 : 1.0\n",
      "              lastletter = u'g'             male : female =      6.3 : 1.0\n",
      "                 suffix2 = u'am'            male : female =      6.3 : 1.0\n",
      "                 suffix2 = u'ni'          female : male   =      6.2 : 1.0\n",
      "                preffix2 = u'we'            male : female =      5.8 : 1.0\n",
      "                 suffix2 = u'ke'            male : female =      5.8 : 1.0\n",
      "                 suffix2 = u'te'          female : male   =      5.7 : 1.0\n",
      "                 suffix2 = u'ee'          female : male   =      5.5 : 1.0\n",
      "                 suffix2 = u'nt'            male : female =      5.5 : 1.0\n",
      "                 suffix2 = u'yn'          female : male   =      5.5 : 1.0\n",
      "                preffix2 = u'ka'          female : male   =      5.4 : 1.0\n",
      "                 suffix2 = u'es'            male : female =      5.2 : 1.0\n",
      "                 suffix2 = u'nd'            male : female =      5.1 : 1.0\n",
      "              lastletter = u'z'             male : female =      5.1 : 1.0\n",
      "                 suffix2 = u'ev'            male : female =      5.0 : 1.0\n",
      "                 suffix2 = u'sh'            male : female =      5.0 : 1.0\n",
      "                 suffix2 = u'eb'            male : female =      5.0 : 1.0\n",
      "             firstletter = u'w'             male : female =      4.8 : 1.0\n",
      "              lastletter = u'w'             male : female =      4.8 : 1.0\n",
      "                 suffix2 = u'ha'          female : male   =      4.7 : 1.0\n",
      "                preffix2 = u'ze'            male : female =      4.6 : 1.0\n",
      "                preffix2 = u'rh'          female : male   =      4.6 : 1.0\n",
      "                preffix2 = u'ty'            male : female =      4.5 : 1.0\n",
      "                 suffix2 = u'ir'            male : female =      4.5 : 1.0\n",
      "                 suffix2 = u'or'            male : female =      4.4 : 1.0\n",
      "                preffix2 = u'fa'          female : male   =      4.2 : 1.0\n",
      "              lastletter = u's'             male : female =      4.2 : 1.0\n",
      "              lastletter = u't'             male : female =      4.1 : 1.0\n",
      "                preffix2 = u'ul'            male : female =      4.0 : 1.0\n",
      "                 suffix2 = u'eo'            male : female =      4.0 : 1.0\n",
      "                preffix2 = u'ia'            male : female =      3.9 : 1.0\n",
      "                 suffix2 = u'ex'            male : female =      3.9 : 1.0\n",
      "                 suffix2 = u'nk'            male : female =      3.9 : 1.0\n",
      "                 suffix2 = u'ax'            male : female =      3.9 : 1.0\n",
      "                 suffix2 = u'ba'          female : male   =      3.8 : 1.0\n",
      "                 suffix2 = u'ko'          female : male   =      3.8 : 1.0\n",
      "                preffix2 = u'zo'          female : male   =      3.8 : 1.0\n",
      "                preffix2 = u'bu'            male : female =      3.8 : 1.0\n",
      "                 suffix2 = u'ne'          female : male   =      3.8 : 1.0\n",
      "                 suffix2 = u'ad'            male : female =      3.7 : 1.0\n",
      "                preffix2 = u'ru'            male : female =      3.7 : 1.0\n",
      "                preffix2 = u'li'          female : male   =      3.7 : 1.0\n",
      "                 suffix2 = u'sy'          female : male   =      3.7 : 1.0\n",
      "                preffix2 = u'ly'          female : male   =      3.7 : 1.0\n",
      "              lastletter = u'i'           female : male   =      3.6 : 1.0\n",
      "                preffix2 = u'sc'            male : female =      3.6 : 1.0\n",
      "                preffix2 = u'gl'          female : male   =      3.5 : 1.0\n",
      "                 suffix2 = u'si'          female : male   =      3.5 : 1.0\n",
      "              lastletter = u'b'             male : female =      3.5 : 1.0\n",
      "                preffix2 = u'go'            male : female =      3.2 : 1.0\n",
      "                 suffix2 = u'ye'          female : male   =      3.2 : 1.0\n",
      "                preffix2 = u'ev'          female : male   =      3.2 : 1.0\n",
      "             firstletter = u'u'             male : female =      3.2 : 1.0\n",
      "                 suffix2 = u'li'          female : male   =      3.1 : 1.0\n",
      "                 suffix2 = u'tt'            male : female =      3.1 : 1.0\n",
      "                 suffix2 = u'gh'            male : female =      3.1 : 1.0\n",
      "                preffix2 = u'ba'            male : female =      3.0 : 1.0\n",
      "                 suffix2 = u'an'            male : female =      3.0 : 1.0\n",
      "                preffix2 = u'dy'          female : male   =      3.0 : 1.0\n",
      "                preffix2 = u'ky'          female : male   =      3.0 : 1.0\n",
      "                 suffix2 = u'ai'            male : female =      3.0 : 1.0\n",
      "                preffix2 = u'ca'          female : male   =      2.9 : 1.0\n",
      "                preffix2 = u'su'          female : male   =      2.9 : 1.0\n",
      "                preffix2 = u'th'            male : female =      2.9 : 1.0\n",
      "              lastletter = u'j'             male : female =      2.8 : 1.0\n",
      "                preffix2 = u'aj'            male : female =      2.8 : 1.0\n",
      "                preffix2 = u'pi'            male : female =      2.8 : 1.0\n",
      "                preffix2 = u'za'            male : female =      2.8 : 1.0\n",
      "                 suffix2 = u'um'            male : female =      2.8 : 1.0\n",
      "                 suffix2 = u'af'            male : female =      2.8 : 1.0\n",
      "                 suffix2 = u'rr'            male : female =      2.8 : 1.0\n",
      "                 suffix2 = u'we'            male : female =      2.8 : 1.0\n",
      "                 suffix2 = u'bo'            male : female =      2.8 : 1.0\n",
      "                 suffix2 = u'ok'            male : female =      2.8 : 1.0\n",
      "                 suffix2 = u'ez'            male : female =      2.8 : 1.0\n",
      "                 suffix2 = u'au'            male : female =      2.8 : 1.0\n",
      "                 suffix2 = u'oy'            male : female =      2.8 : 1.0\n",
      "                 suffix2 = u'ks'            male : female =      2.8 : 1.0\n",
      "                 suffix2 = u'bi'          female : male   =      2.8 : 1.0\n",
      "             firstletter = u'q'             male : female =      2.7 : 1.0\n",
      "                 suffix2 = u'in'            male : female =      2.7 : 1.0\n",
      "                preffix2 = u'es'          female : male   =      2.7 : 1.0\n",
      "                preffix2 = u'qu'            male : female =      2.6 : 1.0\n",
      "                preffix2 = u'du'            male : female =      2.6 : 1.0\n",
      "                 suffix2 = u'oe'            male : female =      2.6 : 1.0\n",
      "                 suffix2 = u'rl'            male : female =      2.6 : 1.0\n",
      "                 suffix2 = u'za'          female : male   =      2.6 : 1.0\n",
      "                 suffix2 = u'ae'          female : male   =      2.6 : 1.0\n",
      "                preffix2 = u'iv'          female : male   =      2.6 : 1.0\n",
      "                preffix2 = u'ye'          female : male   =      2.6 : 1.0\n",
      "                preffix2 = u'ab'            male : female =      2.5 : 1.0\n",
      "                preffix2 = u'hi'            male : female =      2.5 : 1.0\n",
      "                 suffix2 = u'ki'          female : male   =      2.5 : 1.0\n",
      "                preffix2 = u'ko'          female : male   =      2.5 : 1.0\n",
      "                preffix2 = u'kr'          female : male   =      2.5 : 1.0\n",
      "                 suffix2 = u'me'            male : female =      2.4 : 1.0\n",
      "                preffix2 = u'wi'            male : female =      2.4 : 1.0\n",
      "                 suffix2 = u'pe'            male : female =      2.4 : 1.0\n",
      "                 suffix2 = u'at'            male : female =      2.4 : 1.0\n",
      "                 suffix2 = u'll'            male : female =      2.4 : 1.0\n",
      "                preffix2 = u'na'          female : male   =      2.4 : 1.0\n",
      "                preffix2 = u'iz'            male : female =      2.3 : 1.0\n",
      "                preffix2 = u'xe'            male : female =      2.3 : 1.0\n",
      "                 suffix2 = u'eg'            male : female =      2.3 : 1.0\n",
      "                 suffix2 = u'ab'            male : female =      2.3 : 1.0\n",
      "                 suffix2 = u'ur'            male : female =      2.3 : 1.0\n",
      "                preffix2 = u'ur'            male : female =      2.3 : 1.0\n",
      "                preffix2 = u'wy'            male : female =      2.3 : 1.0\n",
      "                preffix2 = u'ha'            male : female =      2.3 : 1.0\n",
      "                preffix2 = u'ja'          female : male   =      2.3 : 1.0\n",
      "                 suffix2 = u'ot'            male : female =      2.3 : 1.0\n",
      "                preffix2 = u'me'          female : male   =      2.3 : 1.0\n",
      "                preffix2 = u'ga'            male : female =      2.3 : 1.0\n",
      "                 suffix2 = u'de'          female : male   =      2.2 : 1.0\n",
      "             firstletter = u'k'           female : male   =      2.2 : 1.0\n",
      "                 suffix2 = u'ay'            male : female =      2.2 : 1.0\n",
      "                 suffix2 = u'jo'          female : male   =      2.2 : 1.0\n",
      "                preffix2 = u'eb'            male : female =      2.1 : 1.0\n",
      "                preffix2 = u'am'          female : male   =      2.1 : 1.0\n",
      "              lastletter = u'n'             male : female =      2.1 : 1.0\n",
      "             firstletter = u'h'             male : female =      2.1 : 1.0\n",
      "                preffix2 = u'lo'          female : male   =      2.1 : 1.0\n",
      "                preffix2 = u'do'          female : male   =      2.1 : 1.0\n",
      "                 suffix2 = u'fy'            male : female =      2.0 : 1.0\n",
      "                 suffix2 = u'le'          female : male   =      2.0 : 1.0\n",
      "                preffix2 = u'st'            male : female =      2.0 : 1.0\n",
      "                preffix2 = u'bl'          female : male   =      2.0 : 1.0\n",
      "                 suffix2 = u'ky'            male : female =      2.0 : 1.0\n",
      "             firstletter = u'x'             male : female =      2.0 : 1.0\n",
      "                preffix2 = u'ji'          female : male   =      2.0 : 1.0\n",
      "                preffix2 = u'el'          female : male   =      2.0 : 1.0\n",
      "                preffix2 = u'ag'          female : male   =      1.9 : 1.0\n",
      "                 suffix2 = u'il'            male : female =      1.9 : 1.0\n",
      "                 suffix2 = u'id'            male : female =      1.9 : 1.0\n",
      "                 suffix2 = u'ri'          female : male   =      1.9 : 1.0\n",
      "                  has(u) = True             male : female =      1.9 : 1.0\n",
      "                preffix2 = u'au'          female : male   =      1.9 : 1.0\n",
      "                 suffix2 = u'se'          female : male   =      1.8 : 1.0\n",
      "                preffix2 = u'ki'          female : male   =      1.8 : 1.0\n",
      "                 suffix2 = u'nn'          female : male   =      1.8 : 1.0\n",
      "                preffix2 = u'ri'            male : female =      1.8 : 1.0\n",
      "                 suffix2 = u'ge'            male : female =      1.8 : 1.0\n",
      "                 suffix2 = u'gi'          female : male   =      1.8 : 1.0\n",
      "                preffix2 = u'cr'          female : male   =      1.8 : 1.0\n",
      "                preffix2 = u'my'          female : male   =      1.8 : 1.0\n",
      "                preffix2 = u'zi'          female : male   =      1.8 : 1.0\n",
      "                preffix2 = u'to'            male : female =      1.8 : 1.0\n",
      "              lastletter = u'e'           female : male   =      1.8 : 1.0\n"
     ]
    }
   ],
   "source": [
    "classifier.show_most_informative_features(200)"
   ]
  },
  {
   "cell_type": "code",
   "execution_count": 69,
   "metadata": {},
   "outputs": [],
   "source": [
    "errors = []\n",
    "for (name, tag) in devtest_set:\n",
    "    guess = classifier.classify(gender_features2(name))\n",
    "    if guess != tag:\n",
    "        errors.append( (tag, guess, name) )\n"
   ]
  },
  {
   "cell_type": "code",
   "execution_count": 70,
   "metadata": {},
   "outputs": [
    {
     "name": "stdout",
     "output_type": "stream",
     "text": [
      "correct=female   guess=male     name=Alison                        \n",
      "correct=female   guess=male     name=Audy                          \n",
      "correct=female   guess=male     name=Avis                          \n",
      "correct=female   guess=male     name=Beau                          \n",
      "correct=female   guess=male     name=Beilul                        \n",
      "correct=female   guess=male     name=Bell                          \n",
      "correct=female   guess=male     name=Berty                         \n",
      "correct=female   guess=male     name=Bridget                       \n",
      "correct=female   guess=male     name=Brigid                        \n",
      "correct=female   guess=male     name=Brit                          \n",
      "correct=female   guess=male     name=Britt                         \n",
      "correct=female   guess=male     name=Carmon                        \n",
      "correct=female   guess=male     name=Conney                        \n",
      "correct=female   guess=male     name=Corabel                       \n",
      "correct=female   guess=male     name=Cory                          \n",
      "correct=female   guess=male     name=Courtenay                     \n",
      "correct=female   guess=male     name=Dell                          \n",
      "correct=female   guess=male     name=Devon                         \n",
      "correct=female   guess=male     name=Dolley                        \n",
      "correct=female   guess=male     name=Dulcy                         \n",
      "correct=female   guess=male     name=Franky                        \n",
      "correct=female   guess=male     name=Gail                          \n",
      "correct=female   guess=male     name=Garnet                        \n",
      "correct=female   guess=male     name=Gen                           \n",
      "correct=female   guess=male     name=Gertrud                       \n",
      "correct=female   guess=male     name=Goldy                         \n",
      "correct=female   guess=male     name=Gray                          \n",
      "correct=female   guess=male     name=Gunvor                        \n",
      "correct=female   guess=male     name=Hannis                        \n",
      "correct=female   guess=male     name=Hedvig                        \n",
      "correct=female   guess=male     name=Hildagard                     \n",
      "correct=female   guess=male     name=Ingaborg                      \n",
      "correct=female   guess=male     name=Jewel                         \n",
      "correct=female   guess=male     name=Kelcy                         \n",
      "correct=female   guess=male     name=Kerrill                       \n",
      "correct=female   guess=male     name=Kerstin                       \n",
      "correct=female   guess=male     name=Kipp                          \n",
      "correct=female   guess=male     name=Korney                        \n",
      "correct=female   guess=male     name=Lou                           \n",
      "correct=female   guess=male     name=Lulu                          \n",
      "correct=female   guess=male     name=Marylou                       \n",
      "correct=female   guess=male     name=Melisent                      \n",
      "correct=female   guess=male     name=Mellicent                     \n",
      "correct=female   guess=male     name=Melony                        \n",
      "correct=female   guess=male     name=Modesty                       \n",
      "correct=female   guess=male     name=Noel                          \n",
      "correct=female   guess=male     name=Pauly                         \n",
      "correct=female   guess=male     name=Pearl                         \n",
      "correct=female   guess=male     name=Robinet                       \n",
      "correct=female   guess=male     name=Rosamond                      \n",
      "correct=female   guess=male     name=Roseann                       \n",
      "correct=female   guess=male     name=Roxy                          \n",
      "correct=female   guess=male     name=Ruthe                         \n",
      "correct=female   guess=male     name=Shanon                        \n",
      "correct=female   guess=male     name=Shelagh                       \n",
      "correct=female   guess=male     name=Shirl                         \n",
      "correct=female   guess=male     name=Sibel                         \n",
      "correct=female   guess=male     name=Suzann                        \n",
      "correct=female   guess=male     name=Tamar                         \n",
      "correct=female   guess=male     name=Tildy                         \n",
      "correct=female   guess=male     name=Trixy                         \n",
      "correct=female   guess=male     name=Trudey                        \n",
      "correct=female   guess=male     name=Ulrike                        \n",
      "correct=female   guess=male     name=Whitney                       \n",
      "correct=female   guess=male     name=Wilone                        \n",
      "correct=male     guess=female   name=Aube                          \n",
      "correct=male     guess=female   name=Barnie                        \n",
      "correct=male     guess=female   name=Bernie                        \n",
      "correct=male     guess=female   name=Bobbie                        \n",
      "correct=male     guess=female   name=Cal                           \n",
      "correct=male     guess=female   name=Calvin                        \n",
      "correct=male     guess=female   name=Charley                       \n",
      "correct=male     guess=female   name=Charlie                       \n",
      "correct=male     guess=female   name=Clare                         \n",
      "correct=male     guess=female   name=Dale                          \n",
      "correct=male     guess=female   name=Darth                         \n",
      "correct=male     guess=female   name=Dominique                     \n",
      "correct=male     guess=female   name=Edie                          \n",
      "correct=male     guess=female   name=Eli                           \n",
      "correct=male     guess=female   name=Evelyn                        \n",
      "correct=male     guess=female   name=Flinn                         \n",
      "correct=male     guess=female   name=Franklyn                      \n",
      "correct=male     guess=female   name=Georgia                       \n",
      "correct=male     guess=female   name=Isadore                       \n",
      "correct=male     guess=female   name=Jean-Francois                 \n",
      "correct=male     guess=female   name=Joshua                        \n",
      "correct=male     guess=female   name=Josiah                        \n",
      "correct=male     guess=female   name=Kaspar                        \n",
      "correct=male     guess=female   name=Krishna                       \n",
      "correct=male     guess=female   name=Lanny                         \n",
      "correct=male     guess=female   name=Lionel                        \n",
      "correct=male     guess=female   name=Llewellyn                     \n",
      "correct=male     guess=female   name=Martin                        \n",
      "correct=male     guess=female   name=Mattie                        \n",
      "correct=male     guess=female   name=Merrel                        \n",
      "correct=male     guess=female   name=Michail                       \n",
      "correct=male     guess=female   name=Moishe                        \n",
      "correct=male     guess=female   name=Nichole                       \n",
      "correct=male     guess=female   name=Nikita                        \n",
      "correct=male     guess=female   name=Nikki                         \n",
      "correct=male     guess=female   name=Prince                        \n",
      "correct=male     guess=female   name=Randi                         \n",
      "correct=male     guess=female   name=Ravi                          \n",
      "correct=male     guess=female   name=Sheridan                      \n",
      "correct=male     guess=female   name=Sinclare                      \n",
      "correct=male     guess=female   name=Vite                          \n",
      "correct=male     guess=female   name=Zollie                        \n"
     ]
    }
   ],
   "source": [
    "for (tag, guess, name) in sorted(errors): # doctest: +ELLIPSIS +NORMALIZE_WHITESPACE\n",
    "    print 'correct=%-8s guess=%-8s name=%-30s' % (tag, guess, name)\n"
   ]
  },
  {
   "cell_type": "code",
   "execution_count": 90,
   "metadata": {},
   "outputs": [
    {
     "name": "stdout",
     "output_type": "stream",
     "text": [
      "Error count\n"
     ]
    },
    {
     "data": {
      "text/plain": [
       "107"
      ]
     },
     "execution_count": 90,
     "metadata": {},
     "output_type": "execute_result"
    }
   ],
   "source": [
    "print(\"Error count\")\n",
    "len(errors)"
   ]
  },
  {
   "cell_type": "markdown",
   "metadata": {},
   "source": [
    "# DecisionTreeClassifier"
   ]
  },
  {
   "cell_type": "code",
   "execution_count": 92,
   "metadata": {},
   "outputs": [
    {
     "name": "stdout",
     "output_type": "stream",
     "text": [
      "train_set\n",
      "0.936491935484\n",
      "test_set\n",
      "0.752\n",
      "devtest_set\n",
      "0.758\n"
     ]
    }
   ],
   "source": [
    "classifier_tree = nltk.DecisionTreeClassifier.train(train_set_fe)\n",
    "\n",
    "print \"train_set\"\n",
    "print nltk.classify.accuracy(classifier_tree, train_set_fe)\n",
    "print \"test_set\"\n",
    "print nltk.classify.accuracy(classifier_tree, test_set_fe)\n",
    "print \"devtest_set\"\n",
    "print nltk.classify.accuracy(classifier_tree, devtest_set_fe)"
   ]
  },
  {
   "cell_type": "code",
   "execution_count": 103,
   "metadata": {},
   "outputs": [],
   "source": [
    "errors2 = []\n",
    "for (name, tag) in devtest_set:\n",
    "    guess = classifier_tree.classify(gender_features2(name))\n",
    "    if guess != tag:\n",
    "        errors2.append( (tag, guess, name) )\n"
   ]
  },
  {
   "cell_type": "code",
   "execution_count": 104,
   "metadata": {},
   "outputs": [
    {
     "name": "stdout",
     "output_type": "stream",
     "text": [
      "correct=female   guess=male     name=Alison                        \n",
      "correct=female   guess=male     name=Audy                          \n",
      "correct=female   guess=male     name=Avis                          \n",
      "correct=female   guess=male     name=Beau                          \n",
      "correct=female   guess=male     name=Beilul                        \n",
      "correct=female   guess=male     name=Bell                          \n",
      "correct=female   guess=male     name=Berty                         \n",
      "correct=female   guess=male     name=Bridget                       \n",
      "correct=female   guess=male     name=Brigid                        \n",
      "correct=female   guess=male     name=Brit                          \n",
      "correct=female   guess=male     name=Britt                         \n",
      "correct=female   guess=male     name=Carmon                        \n",
      "correct=female   guess=male     name=Conney                        \n",
      "correct=female   guess=male     name=Corabel                       \n",
      "correct=female   guess=male     name=Cory                          \n",
      "correct=female   guess=male     name=Courtenay                     \n",
      "correct=female   guess=male     name=Dell                          \n",
      "correct=female   guess=male     name=Devon                         \n",
      "correct=female   guess=male     name=Dolley                        \n",
      "correct=female   guess=male     name=Dulcy                         \n",
      "correct=female   guess=male     name=Franky                        \n",
      "correct=female   guess=male     name=Gail                          \n",
      "correct=female   guess=male     name=Garnet                        \n",
      "correct=female   guess=male     name=Gen                           \n",
      "correct=female   guess=male     name=Gertrud                       \n",
      "correct=female   guess=male     name=Goldy                         \n",
      "correct=female   guess=male     name=Gray                          \n",
      "correct=female   guess=male     name=Gunvor                        \n",
      "correct=female   guess=male     name=Hannis                        \n",
      "correct=female   guess=male     name=Hedvig                        \n",
      "correct=female   guess=male     name=Hildagard                     \n",
      "correct=female   guess=male     name=Ingaborg                      \n",
      "correct=female   guess=male     name=Jewel                         \n",
      "correct=female   guess=male     name=Kelcy                         \n",
      "correct=female   guess=male     name=Kerrill                       \n",
      "correct=female   guess=male     name=Kerstin                       \n",
      "correct=female   guess=male     name=Kipp                          \n",
      "correct=female   guess=male     name=Korney                        \n",
      "correct=female   guess=male     name=Lou                           \n",
      "correct=female   guess=male     name=Lulu                          \n",
      "correct=female   guess=male     name=Marylou                       \n",
      "correct=female   guess=male     name=Melisent                      \n",
      "correct=female   guess=male     name=Mellicent                     \n",
      "correct=female   guess=male     name=Melony                        \n",
      "correct=female   guess=male     name=Modesty                       \n",
      "correct=female   guess=male     name=Noel                          \n",
      "correct=female   guess=male     name=Pauly                         \n",
      "correct=female   guess=male     name=Pearl                         \n",
      "correct=female   guess=male     name=Robinet                       \n",
      "correct=female   guess=male     name=Rosamond                      \n",
      "correct=female   guess=male     name=Roseann                       \n",
      "correct=female   guess=male     name=Roxy                          \n",
      "correct=female   guess=male     name=Ruthe                         \n",
      "correct=female   guess=male     name=Shanon                        \n",
      "correct=female   guess=male     name=Shelagh                       \n",
      "correct=female   guess=male     name=Shirl                         \n",
      "correct=female   guess=male     name=Sibel                         \n",
      "correct=female   guess=male     name=Suzann                        \n",
      "correct=female   guess=male     name=Tamar                         \n",
      "correct=female   guess=male     name=Tildy                         \n",
      "correct=female   guess=male     name=Trixy                         \n",
      "correct=female   guess=male     name=Trudey                        \n",
      "correct=female   guess=male     name=Ulrike                        \n",
      "correct=female   guess=male     name=Whitney                       \n",
      "correct=female   guess=male     name=Wilone                        \n",
      "correct=male     guess=female   name=Aube                          \n",
      "correct=male     guess=female   name=Barnie                        \n",
      "correct=male     guess=female   name=Bernie                        \n",
      "correct=male     guess=female   name=Bobbie                        \n",
      "correct=male     guess=female   name=Cal                           \n",
      "correct=male     guess=female   name=Calvin                        \n",
      "correct=male     guess=female   name=Charley                       \n",
      "correct=male     guess=female   name=Charlie                       \n",
      "correct=male     guess=female   name=Clare                         \n",
      "correct=male     guess=female   name=Dale                          \n",
      "correct=male     guess=female   name=Darth                         \n",
      "correct=male     guess=female   name=Dominique                     \n",
      "correct=male     guess=female   name=Edie                          \n",
      "correct=male     guess=female   name=Eli                           \n",
      "correct=male     guess=female   name=Evelyn                        \n",
      "correct=male     guess=female   name=Flinn                         \n",
      "correct=male     guess=female   name=Franklyn                      \n",
      "correct=male     guess=female   name=Georgia                       \n",
      "correct=male     guess=female   name=Isadore                       \n",
      "correct=male     guess=female   name=Jean-Francois                 \n",
      "correct=male     guess=female   name=Joshua                        \n",
      "correct=male     guess=female   name=Josiah                        \n",
      "correct=male     guess=female   name=Kaspar                        \n",
      "correct=male     guess=female   name=Krishna                       \n",
      "correct=male     guess=female   name=Lanny                         \n",
      "correct=male     guess=female   name=Lionel                        \n",
      "correct=male     guess=female   name=Llewellyn                     \n",
      "correct=male     guess=female   name=Martin                        \n",
      "correct=male     guess=female   name=Mattie                        \n",
      "correct=male     guess=female   name=Merrel                        \n",
      "correct=male     guess=female   name=Michail                       \n",
      "correct=male     guess=female   name=Moishe                        \n",
      "correct=male     guess=female   name=Nichole                       \n",
      "correct=male     guess=female   name=Nikita                        \n",
      "correct=male     guess=female   name=Nikki                         \n",
      "correct=male     guess=female   name=Prince                        \n",
      "correct=male     guess=female   name=Randi                         \n",
      "correct=male     guess=female   name=Ravi                          \n",
      "correct=male     guess=female   name=Sheridan                      \n",
      "correct=male     guess=female   name=Sinclare                      \n",
      "correct=male     guess=female   name=Vite                          \n",
      "correct=male     guess=female   name=Zollie                        \n"
     ]
    }
   ],
   "source": [
    "for (tag, guess, name) in sorted(errors): # doctest: +ELLIPSIS +NORMALIZE_WHITESPACE\n",
    "    print 'correct=%-8s guess=%-8s name=%-30s' % (tag, guess, name)"
   ]
  },
  {
   "cell_type": "code",
   "execution_count": 105,
   "metadata": {},
   "outputs": [
    {
     "name": "stdout",
     "output_type": "stream",
     "text": [
      "Error count\n"
     ]
    },
    {
     "data": {
      "text/plain": [
       "121"
      ]
     },
     "execution_count": 105,
     "metadata": {},
     "output_type": "execute_result"
    }
   ],
   "source": [
    "print(\"Error count\")\n",
    "len(errors2)"
   ]
  },
  {
   "cell_type": "markdown",
   "metadata": {},
   "source": [
    "# Source\n",
    "\n",
    "https://www.nltk.org/book/ch06.html"
   ]
  },
  {
   "cell_type": "code",
   "execution_count": null,
   "metadata": {},
   "outputs": [],
   "source": []
  }
 ],
 "metadata": {
  "kernelspec": {
   "display_name": "Python 2",
   "language": "python",
   "name": "python2"
  },
  "language_info": {
   "codemirror_mode": {
    "name": "ipython",
    "version": 2
   },
   "file_extension": ".py",
   "mimetype": "text/x-python",
   "name": "python",
   "nbconvert_exporter": "python",
   "pygments_lexer": "ipython2",
   "version": "2.7.15"
  }
 },
 "nbformat": 4,
 "nbformat_minor": 2
}
