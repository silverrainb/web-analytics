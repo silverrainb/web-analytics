{
 "cells": [
  {
   "cell_type": "markdown",
   "metadata": {},
   "source": [
    "<h1>Project 3: Gender Name Classifier</h1>\n",
    "\n",
    "<h3> DATA 620 Web Analytics, CUNY Spring 2018 </h3>\n",
    "\n",
    "Team: whole class"
   ]
  },
  {
   "cell_type": "markdown",
   "metadata": {},
   "source": [
    "<h2> Assignment Details </h2>\n",
    "\n",
    "For this project, please work with the entire class as one collaborative group!Your project should be\n",
    "submitted (as a Jupyter Notebook via GitHub) by end of the due date. The group should present their\n",
    "code and findings in our meetup.\n",
    "\n",
    "<i>The ability to be an effective member of a virtual team is highly valued in the data science job market. </i>\n",
    "\n",
    "\n",
    "-------------------------------------------------------------------------------------------------------------\n",
    "\n",
    "Using any of the three classifiers described in chapter 6 of <b>Natural Language Processing with Python</b>,\n",
    "and any features you can think of, build the best name gender classifier you can.\n",
    "\n",
    "Begin by splitting the Names Corpus into three subsets: 500 words for the test set, 500 words for the devtest\n",
    "set, and the remaining 6900 words for the training set. Then, starting with the example name gender\n",
    "classifier, make incremental improvements. Use the dev-test set to check your progress. Once you are\n",
    "satisfied with your classifier, check its final performance on the test set.\n",
    "\n",
    "How does the performance on the test set compare to the performance on the dev-test set? Is this what\n",
    "you'd expect?\n",
    "\n",
    "Source: Natural Language Processing with Python, exercise 6.10.2.\n",
    "\n"
   ]
  },
  {
   "cell_type": "code",
   "execution_count": 6,
   "metadata": {},
   "outputs": [],
   "source": [
    "#import nltk\n",
    "#nltk.download('names')"
   ]
  },
  {
   "cell_type": "code",
   "execution_count": 21,
   "metadata": {},
   "outputs": [],
   "source": [
    "from nltk.corpus import names\n",
    "import random\n",
    "from nltk.classify import apply_features\n",
    "\n",
    "#get data\n",
    "names = ([(name, 'male') for name in names.words('male.txt')] +\n",
    "[(name, 'female') for name in names.words('female.txt')])\n",
    "random.shuffle(names)"
   ]
  },
  {
   "cell_type": "code",
   "execution_count": 22,
   "metadata": {},
   "outputs": [
    {
     "data": {
      "text/plain": [
       "[(u'Tomkin', 'male'),\n",
       " (u'Corrie', 'female'),\n",
       " (u'Louella', 'female'),\n",
       " (u'Trude', 'female'),\n",
       " (u'Tamarra', 'female'),\n",
       " (u'Lex', 'male'),\n",
       " (u'Alene', 'female'),\n",
       " (u'Carine', 'female'),\n",
       " (u'Srinivas', 'male'),\n",
       " (u'Tucker', 'male')]"
      ]
     },
     "execution_count": 22,
     "metadata": {},
     "output_type": "execute_result"
    }
   ],
   "source": [
    "names[0:10]"
   ]
  },
  {
   "cell_type": "code",
   "execution_count": 23,
   "metadata": {},
   "outputs": [],
   "source": [
    "#from NLP page 223\n",
    "def gender_features(word):\n",
    "    return {'last_letter': word[-1]}"
   ]
  },
  {
   "cell_type": "code",
   "execution_count": 24,
   "metadata": {},
   "outputs": [],
   "source": [
    "def gender_features2(name):\n",
    "    features = {}\n",
    "    features[\"firstletter\"] = name[0].lower()\n",
    "    features[\"lastletter\"] = name[-1].lower()\n",
    "    for letter in 'abcdefghijklmnopqrstuvwxyz':\n",
    "        features[\"count(%s)\" % letter] = name.lower().count(letter)\n",
    "        features[\"has(%s)\" % letter] = (letter in name.lower())\n",
    "    return features"
   ]
  },
  {
   "cell_type": "code",
   "execution_count": 26,
   "metadata": {},
   "outputs": [],
   "source": [
    "featuresets = [(gender_features(n), g) for (n,g) in names]\n",
    "train_set, test_set = featuresets[500:], featuresets[:500]\n",
    "classifier = nltk.NaiveBayesClassifier.train(train_set)\n"
   ]
  },
  {
   "cell_type": "code",
   "execution_count": 27,
   "metadata": {},
   "outputs": [
    {
     "data": {
      "text/plain": [
       "({'last_letter': u'n'}, 'male')"
      ]
     },
     "execution_count": 27,
     "metadata": {},
     "output_type": "execute_result"
    }
   ],
   "source": [
    "featuresets[0]"
   ]
  },
  {
   "cell_type": "code",
   "execution_count": 28,
   "metadata": {},
   "outputs": [
    {
     "name": "stdout",
     "output_type": "stream",
     "text": [
      "male\n",
      "female\n"
     ]
    }
   ],
   "source": [
    "print classifier.classify(gender_features('Neo')) #male\n",
    "print classifier.classify(gender_features('Trinity')) #female"
   ]
  },
  {
   "cell_type": "code",
   "execution_count": 29,
   "metadata": {},
   "outputs": [
    {
     "name": "stdout",
     "output_type": "stream",
     "text": [
      "0.74\n"
     ]
    }
   ],
   "source": [
    "print nltk.classify.accuracy(classifier, test_set)"
   ]
  },
  {
   "cell_type": "code",
   "execution_count": 30,
   "metadata": {},
   "outputs": [
    {
     "name": "stdout",
     "output_type": "stream",
     "text": [
      "Most Informative Features\n",
      "             last_letter = u'a'           female : male   =     37.2 : 1.0\n",
      "             last_letter = u'k'             male : female =     33.2 : 1.0\n",
      "             last_letter = u'p'             male : female =     19.8 : 1.0\n",
      "             last_letter = u'f'             male : female =     16.6 : 1.0\n",
      "             last_letter = u'v'             male : female =     10.5 : 1.0\n"
     ]
    }
   ],
   "source": [
    "classifier.show_most_informative_features(5)"
   ]
  },
  {
   "cell_type": "code",
   "execution_count": 31,
   "metadata": {},
   "outputs": [],
   "source": [
    "\n",
    "train_set = apply_features(gender_features, names[500:])\n",
    "test_set = apply_features(gender_features, names[:500])\n"
   ]
  },
  {
   "cell_type": "code",
   "execution_count": 20,
   "metadata": {},
   "outputs": [
    {
     "data": {
      "text/plain": [
       "{'count(a)': 0,\n",
       " 'count(b)': 0,\n",
       " 'count(c)': 0,\n",
       " 'count(d)': 0,\n",
       " 'count(e)': 0,\n",
       " 'count(f)': 0,\n",
       " 'count(g)': 0,\n",
       " 'count(h)': 1,\n",
       " 'count(i)': 0,\n",
       " 'count(j)': 1,\n",
       " 'count(k)': 0,\n",
       " 'count(l)': 0,\n",
       " 'count(m)': 0,\n",
       " 'count(n)': 1,\n",
       " 'count(o)': 1,\n",
       " 'count(p)': 0,\n",
       " 'count(q)': 0,\n",
       " 'count(r)': 0,\n",
       " 'count(s)': 0,\n",
       " 'count(t)': 0,\n",
       " 'count(u)': 0,\n",
       " 'count(v)': 0,\n",
       " 'count(w)': 0,\n",
       " 'count(x)': 0,\n",
       " 'count(y)': 0,\n",
       " 'count(z)': 0,\n",
       " 'firstletter': 'j',\n",
       " 'has(a)': False,\n",
       " 'has(b)': False,\n",
       " 'has(c)': False,\n",
       " 'has(d)': False,\n",
       " 'has(e)': False,\n",
       " 'has(f)': False,\n",
       " 'has(g)': False,\n",
       " 'has(h)': True,\n",
       " 'has(i)': False,\n",
       " 'has(j)': True,\n",
       " 'has(k)': False,\n",
       " 'has(l)': False,\n",
       " 'has(m)': False,\n",
       " 'has(n)': True,\n",
       " 'has(o)': True,\n",
       " 'has(p)': False,\n",
       " 'has(q)': False,\n",
       " 'has(r)': False,\n",
       " 'has(s)': False,\n",
       " 'has(t)': False,\n",
       " 'has(u)': False,\n",
       " 'has(v)': False,\n",
       " 'has(w)': False,\n",
       " 'has(x)': False,\n",
       " 'has(y)': False,\n",
       " 'has(z)': False,\n",
       " 'lastletter': 'n'}"
      ]
     },
     "execution_count": 20,
     "metadata": {},
     "output_type": "execute_result"
    }
   ],
   "source": [
    "gender_features2('John')"
   ]
  },
  {
   "cell_type": "code",
   "execution_count": 32,
   "metadata": {},
   "outputs": [
    {
     "name": "stdout",
     "output_type": "stream",
     "text": [
      "0.748\n"
     ]
    }
   ],
   "source": [
    "featuresets = [(gender_features2(n), g) for (n,g) in names]\n",
    "train_set, test_set = featuresets[500:], featuresets[:500]\n",
    "classifier = nltk.NaiveBayesClassifier.train(train_set)\n",
    "print nltk.classify.accuracy(classifier, test_set)\n",
    "\n"
   ]
  },
  {
   "cell_type": "code",
   "execution_count": 33,
   "metadata": {},
   "outputs": [],
   "source": [
    "train_names = names[1500:]\n",
    "devtest_names = names[500:1500]\n",
    "test_names = names[:500]\n"
   ]
  },
  {
   "cell_type": "code",
   "execution_count": 35,
   "metadata": {},
   "outputs": [
    {
     "name": "stdout",
     "output_type": "stream",
     "text": [
      "0.751\n"
     ]
    }
   ],
   "source": [
    "train_set = [(gender_features(n), g) for (n,g) in train_names]\n",
    "devtest_set = [(gender_features(n), g) for (n,g) in devtest_names]\n",
    "test_set = [(gender_features(n), g) for (n,g) in test_names]\n",
    "classifier = nltk.NaiveBayesClassifier.train(train_set)\n",
    "print nltk.classify.accuracy(classifier, devtest_set)"
   ]
  },
  {
   "cell_type": "code",
   "execution_count": 36,
   "metadata": {},
   "outputs": [],
   "source": [
    "errors = []\n",
    "for (name, tag) in devtest_names:\n",
    "    guess = classifier.classify(gender_features(name))\n",
    "    if guess != tag:\n",
    "        errors.append( (tag, guess, name) )\n"
   ]
  },
  {
   "cell_type": "code",
   "execution_count": 38,
   "metadata": {},
   "outputs": [
    {
     "name": "stdout",
     "output_type": "stream",
     "text": [
      "correct=female   guess=male     name=Abigael                       \n",
      "correct=female   guess=male     name=Ag                            \n",
      "correct=female   guess=male     name=Agnes                         \n",
      "correct=female   guess=male     name=Amber                         \n",
      "correct=female   guess=male     name=Anabel                        \n",
      "correct=female   guess=male     name=Arleen                        \n",
      "correct=female   guess=male     name=Aurel                         \n",
      "correct=female   guess=male     name=Beatrix                       \n",
      "correct=female   guess=male     name=Bell                          \n",
      "correct=female   guess=male     name=Bert                          \n",
      "correct=female   guess=male     name=Bette-Ann                     \n",
      "correct=female   guess=male     name=Brook                         \n",
      "correct=female   guess=male     name=Caitlin                       \n",
      "correct=female   guess=male     name=Cameo                         \n",
      "correct=female   guess=male     name=Carmon                        \n",
      "correct=female   guess=male     name=Charleen                      \n",
      "correct=female   guess=male     name=Charlott                      \n",
      "correct=female   guess=male     name=Charyl                        \n",
      "correct=female   guess=male     name=Christean                     \n",
      "correct=female   guess=male     name=Chrystel                      \n",
      "correct=female   guess=male     name=Con                           \n",
      "correct=female   guess=male     name=Consuelo                      \n",
      "correct=female   guess=male     name=Coral                         \n",
      "correct=female   guess=male     name=Cristabel                     \n",
      "correct=female   guess=male     name=Cristen                       \n",
      "correct=female   guess=male     name=Cybel                         \n",
      "correct=female   guess=male     name=Damaris                       \n",
      "correct=female   guess=male     name=Darleen                       \n",
      "correct=female   guess=male     name=Darryl                        \n",
      "correct=female   guess=male     name=Daryl                         \n",
      "correct=female   guess=male     name=Deeann                        \n",
      "correct=female   guess=male     name=Diahann                       \n",
      "correct=female   guess=male     name=Doro                          \n",
      "correct=female   guess=male     name=Dorris                        \n",
      "correct=female   guess=male     name=Eleanor                       \n",
      "correct=female   guess=male     name=Erinn                         \n",
      "correct=female   guess=male     name=Ethel                         \n",
      "correct=female   guess=male     name=Flor                          \n",
      "correct=female   guess=male     name=Floris                        \n",
      "correct=female   guess=male     name=Garnet                        \n",
      "correct=female   guess=male     name=Gilligan                      \n",
      "correct=female   guess=male     name=Gretchen                      \n",
      "correct=female   guess=male     name=Grethel                       \n",
      "correct=female   guess=male     name=Gunvor                        \n",
      "correct=female   guess=male     name=Gwendolen                     \n",
      "correct=female   guess=male     name=Gwenn                         \n",
      "correct=female   guess=male     name=Heather                       \n",
      "correct=female   guess=male     name=Hedvig                        \n",
      "correct=female   guess=male     name=Hildegaard                    \n",
      "correct=female   guess=male     name=Ingrid                        \n",
      "correct=female   guess=male     name=Janeen                        \n",
      "correct=female   guess=male     name=Jaquelyn                      \n",
      "correct=female   guess=male     name=Jean                          \n",
      "correct=female   guess=male     name=Jo                            \n",
      "correct=female   guess=male     name=Joann                         \n",
      "correct=female   guess=male     name=Joannes                       \n",
      "correct=female   guess=male     name=Joell                         \n",
      "correct=female   guess=male     name=Jolyn                         \n",
      "correct=female   guess=male     name=Kaitlyn                       \n",
      "correct=female   guess=male     name=Katheleen                     \n",
      "correct=female   guess=male     name=Kathleen                      \n",
      "correct=female   guess=male     name=Kathryn                       \n",
      "correct=female   guess=male     name=Kaylil                        \n",
      "correct=female   guess=male     name=Kaylyn                        \n",
      "correct=female   guess=male     name=Kip                           \n",
      "correct=female   guess=male     name=Koren                         \n",
      "correct=female   guess=male     name=Kris                          \n",
      "correct=female   guess=male     name=Kristel                       \n",
      "correct=female   guess=male     name=Kristin                       \n",
      "correct=female   guess=male     name=Kym                           \n",
      "correct=female   guess=male     name=Lamb                          \n",
      "correct=female   guess=male     name=Laureen                       \n",
      "correct=female   guess=male     name=LeeAnn                        \n",
      "correct=female   guess=male     name=Lilias                        \n",
      "correct=female   guess=male     name=Lulu                          \n",
      "correct=female   guess=male     name=Lurleen                       \n",
      "correct=female   guess=male     name=Lyndel                        \n",
      "correct=female   guess=male     name=Lyndell                       \n",
      "correct=female   guess=male     name=Madalyn                       \n",
      "correct=female   guess=male     name=Madelon                       \n",
      "correct=female   guess=male     name=Maren                         \n",
      "correct=female   guess=male     name=Margit                        \n",
      "correct=female   guess=male     name=Margot                        \n",
      "correct=female   guess=male     name=Margret                       \n",
      "correct=female   guess=male     name=Maridel                       \n",
      "correct=female   guess=male     name=Marillin                      \n",
      "correct=female   guess=male     name=Maryellen                     \n",
      "correct=female   guess=male     name=Maureen                       \n",
      "correct=female   guess=male     name=Meggan                        \n",
      "correct=female   guess=male     name=Mildrid                       \n",
      "correct=female   guess=male     name=Murial                        \n",
      "correct=female   guess=male     name=Myriam                        \n",
      "correct=female   guess=male     name=Nicol                         \n",
      "correct=female   guess=male     name=Nil                           \n",
      "correct=female   guess=male     name=Noel                          \n",
      "correct=female   guess=male     name=Perl                          \n",
      "correct=female   guess=male     name=Pet                           \n",
      "correct=female   guess=male     name=Phillis                       \n",
      "correct=female   guess=male     name=Raf                           \n",
      "correct=female   guess=male     name=Ragnhild                      \n",
      "correct=female   guess=male     name=Robin                         \n",
      "correct=female   guess=male     name=Rosalyn                       \n",
      "correct=female   guess=male     name=Rosario                       \n",
      "correct=female   guess=male     name=Row                           \n",
      "correct=female   guess=male     name=Shannen                       \n",
      "correct=female   guess=male     name=Shanon                        \n",
      "correct=female   guess=male     name=Sharon                        \n",
      "correct=female   guess=male     name=Shirleen                      \n",
      "correct=female   guess=male     name=Sinead                        \n",
      "correct=female   guess=male     name=Sioux                         \n",
      "correct=female   guess=male     name=Stoddard                      \n",
      "correct=female   guess=male     name=Suzan                         \n",
      "correct=female   guess=male     name=Sybil                         \n",
      "correct=female   guess=male     name=Sybyl                         \n",
      "correct=female   guess=male     name=Taryn                         \n",
      "correct=female   guess=male     name=Viv                           \n",
      "correct=female   guess=male     name=Wandis                        \n",
      "correct=male     guess=female   name=Abbey                         \n",
      "correct=male     guess=female   name=Adlai                         \n",
      "correct=male     guess=female   name=Anatoly                       \n",
      "correct=male     guess=female   name=Ari                           \n",
      "correct=male     guess=female   name=Aubrey                        \n",
      "correct=male     guess=female   name=Avi                           \n",
      "correct=male     guess=female   name=Barclay                       \n",
      "correct=male     guess=female   name=Barth                         \n",
      "correct=male     guess=female   name=Bartholemy                    \n",
      "correct=male     guess=female   name=Bay                           \n",
      "correct=male     guess=female   name=Bela                          \n",
      "correct=male     guess=female   name=Blayne                        \n",
      "correct=male     guess=female   name=Boyce                         \n",
      "correct=male     guess=female   name=Bradly                        \n",
      "correct=male     guess=female   name=Brice                         \n",
      "correct=male     guess=female   name=Bruce                         \n",
      "correct=male     guess=female   name=Chane                         \n",
      "correct=male     guess=female   name=Chauncey                      \n",
      "correct=male     guess=female   name=Chrissy                       \n",
      "correct=male     guess=female   name=Christoph                     \n",
      "correct=male     guess=female   name=Clarence                      \n",
      "correct=male     guess=female   name=Claude                        \n",
      "correct=male     guess=female   name=Clive                         \n",
      "correct=male     guess=female   name=Connie                        \n",
      "correct=male     guess=female   name=Costa                         \n",
      "correct=male     guess=female   name=Curtice                       \n",
      "correct=male     guess=female   name=Cy                            \n",
      "correct=male     guess=female   name=Dave                          \n",
      "correct=male     guess=female   name=Deane                         \n",
      "correct=male     guess=female   name=Donnie                        \n",
      "correct=male     guess=female   name=Donny                         \n",
      "correct=male     guess=female   name=Drake                         \n",
      "correct=male     guess=female   name=Duke                          \n",
      "correct=male     guess=female   name=Dwane                         \n",
      "correct=male     guess=female   name=Elijah                        \n",
      "correct=male     guess=female   name=Ely                           \n",
      "correct=male     guess=female   name=Erich                         \n",
      "correct=male     guess=female   name=Ferdie                        \n",
      "correct=male     guess=female   name=Filmore                       \n",
      "correct=male     guess=female   name=Finley                        \n",
      "correct=male     guess=female   name=Freddie                       \n",
      "correct=male     guess=female   name=Garth                         \n",
      "correct=male     guess=female   name=Garvey                        \n",
      "correct=male     guess=female   name=Gene                          \n",
      "correct=male     guess=female   name=Geoffrey                      \n",
      "correct=male     guess=female   name=Geri                          \n",
      "correct=male     guess=female   name=Germaine                      \n",
      "correct=male     guess=female   name=Giffy                         \n",
      "correct=male     guess=female   name=Godfry                        \n",
      "correct=male     guess=female   name=Gregory                       \n",
      "correct=male     guess=female   name=Gustave                       \n",
      "correct=male     guess=female   name=Hale                          \n",
      "correct=male     guess=female   name=Hartley                       \n",
      "correct=male     guess=female   name=Harvey                        \n",
      "correct=male     guess=female   name=Harvie                        \n",
      "correct=male     guess=female   name=Henrique                      \n",
      "correct=male     guess=female   name=Henry                         \n",
      "correct=male     guess=female   name=Hersch                        \n",
      "correct=male     guess=female   name=Hillary                       \n",
      "correct=male     guess=female   name=Hirsch                        \n",
      "correct=male     guess=female   name=Howie                         \n",
      "correct=male     guess=female   name=Huey                          \n",
      "correct=male     guess=female   name=Jedediah                      \n",
      "correct=male     guess=female   name=Jeffie                        \n",
      "correct=male     guess=female   name=Jereme                        \n",
      "correct=male     guess=female   name=Jesse                         \n",
      "correct=male     guess=female   name=Jimmie                        \n",
      "correct=male     guess=female   name=Kelley                        \n",
      "correct=male     guess=female   name=Kerry                         \n",
      "correct=male     guess=female   name=Lawrence                      \n",
      "correct=male     guess=female   name=Levi                          \n",
      "correct=male     guess=female   name=Levy                          \n",
      "correct=male     guess=female   name=Lindsay                       \n",
      "correct=male     guess=female   name=Lindsey                       \n",
      "correct=male     guess=female   name=Lindy                         \n",
      "correct=male     guess=female   name=Luke                          \n",
      "correct=male     guess=female   name=Mace                          \n",
      "correct=male     guess=female   name=Meade                         \n",
      "correct=male     guess=female   name=Merle                         \n",
      "correct=male     guess=female   name=Merry                         \n",
      "correct=male     guess=female   name=Mike                          \n",
      "correct=male     guess=female   name=Neddy                         \n",
      "correct=male     guess=female   name=Nevile                        \n",
      "correct=male     guess=female   name=Noah                          \n",
      "correct=male     guess=female   name=Orbadiah                      \n",
      "correct=male     guess=female   name=Osbourne                      \n",
      "correct=male     guess=female   name=Paddy                         \n",
      "correct=male     guess=female   name=Pattie                        \n",
      "correct=male     guess=female   name=Pennie                        \n",
      "correct=male     guess=female   name=Quigly                        \n",
      "correct=male     guess=female   name=Quincy                        \n",
      "correct=male     guess=female   name=Randy                         \n",
      "correct=male     guess=female   name=Ravi                          \n",
      "correct=male     guess=female   name=Reggie                        \n",
      "correct=male     guess=female   name=Reza                          \n",
      "correct=male     guess=female   name=Rudie                         \n",
      "correct=male     guess=female   name=Sammy                         \n",
      "correct=male     guess=female   name=Sawyere                       \n",
      "correct=male     guess=female   name=See                           \n",
      "correct=male     guess=female   name=Shorty                        \n",
      "correct=male     guess=female   name=Sky                           \n",
      "correct=male     guess=female   name=Slade                         \n",
      "correct=male     guess=female   name=Sonny                         \n",
      "correct=male     guess=female   name=Stanly                        \n",
      "correct=male     guess=female   name=Stevie                        \n",
      "correct=male     guess=female   name=Tally                         \n",
      "correct=male     guess=female   name=Tarrance                      \n",
      "correct=male     guess=female   name=Thatch                        \n",
      "correct=male     guess=female   name=Thorndike                     \n",
      "correct=male     guess=female   name=Timmy                         \n",
      "correct=male     guess=female   name=Tobie                         \n",
      "correct=male     guess=female   name=Tony                          \n",
      "correct=male     guess=female   name=Tracie                        \n",
      "correct=male     guess=female   name=Tully                         \n",
      "correct=male     guess=female   name=Uli                           \n",
      "correct=male     guess=female   name=Uri                           \n",
      "correct=male     guess=female   name=Vale                          \n",
      "correct=male     guess=female   name=Valentine                     \n",
      "correct=male     guess=female   name=Verge                         \n",
      "correct=male     guess=female   name=Verne                         \n",
      "correct=male     guess=female   name=Waine                         \n",
      "correct=male     guess=female   name=Wally                         \n",
      "correct=male     guess=female   name=Welbie                        \n",
      "correct=male     guess=female   name=Whitby                        \n",
      "correct=male     guess=female   name=Wiley                         \n",
      "correct=male     guess=female   name=Worth                         \n",
      "correct=male     guess=female   name=Yance                         \n",
      "correct=male     guess=female   name=Yehudi                        \n",
      "correct=male     guess=female   name=Zach                          \n",
      "correct=male     guess=female   name=Zacherie                      \n",
      "correct=male     guess=female   name=Zebedee                       \n",
      "correct=male     guess=female   name=Zolly                         \n"
     ]
    }
   ],
   "source": [
    "for (tag, guess, name) in sorted(errors): # doctest: +ELLIPSIS +NORMALIZE_WHITESPACE\n",
    "    print 'correct=%-8s guess=%-8s name=%-30s' % (tag, guess, name)\n"
   ]
  },
  {
   "cell_type": "code",
   "execution_count": 39,
   "metadata": {},
   "outputs": [],
   "source": [
    "def gender_features(word):\n",
    "    return {'suffix1': word[-1:], 'suffix2': word[-2:]}\n"
   ]
  },
  {
   "cell_type": "code",
   "execution_count": 40,
   "metadata": {},
   "outputs": [
    {
     "name": "stdout",
     "output_type": "stream",
     "text": [
      "0.773\n"
     ]
    }
   ],
   "source": [
    "train_set = [(gender_features(n), g) for (n,g) in train_names]\n",
    "devtest_set = [(gender_features(n), g) for (n,g) in devtest_names]\n",
    "classifier = nltk.NaiveBayesClassifier.train(train_set)\n",
    "print nltk.classify.accuracy(classifier, devtest_set)\n"
   ]
  },
  {
   "cell_type": "code",
   "execution_count": null,
   "metadata": {},
   "outputs": [],
   "source": [
    "#classifier = nltk.DecisionTreeClassifier.train(train_set)\n",
    "#pg 256"
   ]
  }
 ],
 "metadata": {
  "kernelspec": {
   "display_name": "Python 2",
   "language": "python",
   "name": "python2"
  },
  "language_info": {
   "codemirror_mode": {
    "name": "ipython",
    "version": 2
   },
   "file_extension": ".py",
   "mimetype": "text/x-python",
   "name": "python",
   "nbconvert_exporter": "python",
   "pygments_lexer": "ipython2",
   "version": "2.7.15"
  }
 },
 "nbformat": 4,
 "nbformat_minor": 2
}
