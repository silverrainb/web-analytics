{
 "cells": [
  {
   "cell_type": "markdown",
   "metadata": {},
   "source": [
    "## Project 3: Gender Name Classifier\n",
    "## CUNY MSDS DATA 620 Web Analytics, CUNY Spring 2018\n",
    "---\n",
    "### Team5: Christopher Estevez, Meaghan Burke, Rickidon Singh,  Ritesh Lohiya, Rose Koh\n",
    "### 07/09/2018 (due date)\n",
    "##### python version: 3.6\n",
    "---\n"
   ]
  },
  {
   "cell_type": "markdown",
   "metadata": {},
   "source": [
    "\n",
    "<h2> Assignment Details </h2>\n",
    "\n",
    "For this project, please work with the entire class as one collaborative group!Your project should be\n",
    "submitted (as a Jupyter Notebook via GitHub) by end of the due date. The group should present their\n",
    "code and findings in our meetup.\n",
    "\n",
    "<i>The ability to be an effective member of a virtual team is highly valued in the data science job market. </i>\n",
    "\n",
    "\n",
    "-------------------------------------------------------------------------------------------------------------\n",
    "\n",
    "Using any of the three classifiers described in chapter 6 of <b>Natural Language Processing with Python</b>,\n",
    "and any features you can think of, build the best name gender classifier you can.\n",
    "\n",
    "Begin by splitting the Names Corpus into three subsets: 500 words for the test set, 500 words for the devtest\n",
    "set, and the remaining 6900 words for the training set. Then, starting with the example name gender\n",
    "classifier, make incremental improvements. Use the dev-test set to check your progress. Once you are\n",
    "satisfied with your classifier, check its final performance on the test set.\n",
    "\n",
    "How does the performance on the test set compare to the performance on the dev-test set? Is this what\n",
    "you'd expect?\n",
    "\n",
    "Source: Natural Language Processing with Python, exercise 6.10.2.\n",
    "\n"
   ]
  },
  {
   "cell_type": "markdown",
   "metadata": {},
   "source": [
    "## Load Packages"
   ]
  },
  {
   "cell_type": "markdown",
   "metadata": {},
   "source": [
    "import nltk\n",
    "nltk.download('names')"
   ]
  },
  {
   "cell_type": "code",
   "execution_count": 1,
   "metadata": {},
   "outputs": [],
   "source": [
    "from nltk.corpus import names\n",
    "import random\n",
    "from nltk.classify import apply_features"
   ]
  },
  {
   "cell_type": "markdown",
   "metadata": {},
   "source": [
    "## Get Data"
   ]
  },
  {
   "cell_type": "code",
   "execution_count": 2,
   "metadata": {},
   "outputs": [],
   "source": [
    "names = ([(name, 'male') for name in names.words('male.txt')] +\n",
    "[(name, 'female') for name in names.words('female.txt')])\n",
    "random.shuffle(names)"
   ]
  },
  {
   "cell_type": "code",
   "execution_count": 3,
   "metadata": {},
   "outputs": [
    {
     "data": {
      "text/plain": [
       "[('Matilda', 'female'),\n",
       " ('Cora', 'female'),\n",
       " ('Wilfred', 'male'),\n",
       " ('Gloriane', 'female'),\n",
       " ('Aphrodite', 'female'),\n",
       " ('Chrissa', 'female'),\n",
       " ('Sal', 'female'),\n",
       " ('Janeva', 'female'),\n",
       " ('Delora', 'female'),\n",
       " ('Clemence', 'female')]"
      ]
     },
     "execution_count": 3,
     "metadata": {},
     "output_type": "execute_result"
    }
   ],
   "source": [
    "names[0:10]"
   ]
  },
  {
   "cell_type": "code",
   "execution_count": 4,
   "metadata": {},
   "outputs": [],
   "source": [
    "import nltk\n",
    "from nltk.classify import apply_features\n",
    "import random\n",
    "import math"
   ]
  },
  {
   "cell_type": "code",
   "execution_count": 5,
   "metadata": {},
   "outputs": [
    {
     "data": {
      "text/plain": [
       "7944"
      ]
     },
     "execution_count": 5,
     "metadata": {},
     "output_type": "execute_result"
    }
   ],
   "source": [
    "len(names)"
   ]
  },
  {
   "cell_type": "code",
   "execution_count": 6,
   "metadata": {},
   "outputs": [],
   "source": [
    "test_set = names[:500]\n",
    "devtest_set = names[500:1000]   # Error-analysis set\n",
    "train_set = names[1000:]        # Training set"
   ]
  },
  {
   "cell_type": "markdown",
   "metadata": {},
   "source": [
    "## Features - A"
   ]
  },
  {
   "cell_type": "code",
   "execution_count": 7,
   "metadata": {},
   "outputs": [],
   "source": [
    "def gender_features2(name):\n",
    "    features = {}\n",
    "    features[\"firstletter\"] = name[0].lower()\n",
    "    features[\"lastletter\"] = name[-1].lower()\n",
    "    features[\"suffix2\"]= name[-2:].lower()\n",
    "    features[\"preffix2\"]= name[:2].lower()\n",
    "    for letter in 'aeiou':\n",
    "        features[\"count(%s)\" % letter] = name.lower().count(letter)\n",
    "        features[\"has(%s)\" % letter] = (letter in name.lower())\n",
    "    return features"
   ]
  },
  {
   "cell_type": "markdown",
   "metadata": {},
   "source": [
    "## Split Data"
   ]
  },
  {
   "cell_type": "code",
   "execution_count": 8,
   "metadata": {},
   "outputs": [
    {
     "data": {
      "text/plain": [
       "({'firstletter': 'm',\n",
       "  'lastletter': 'a',\n",
       "  'suffix2': 'da',\n",
       "  'preffix2': 'ma',\n",
       "  'count(a)': 2,\n",
       "  'has(a)': True,\n",
       "  'count(e)': 0,\n",
       "  'has(e)': False,\n",
       "  'count(i)': 1,\n",
       "  'has(i)': True,\n",
       "  'count(o)': 0,\n",
       "  'has(o)': False,\n",
       "  'count(u)': 0,\n",
       "  'has(u)': False},\n",
       " 'female')"
      ]
     },
     "execution_count": 8,
     "metadata": {},
     "output_type": "execute_result"
    }
   ],
   "source": [
    "featuresets = [(gender_features2(n), g) for (n,g) in names]\n",
    "featuresets[0]\n"
   ]
  },
  {
   "cell_type": "code",
   "execution_count": 9,
   "metadata": {},
   "outputs": [],
   "source": [
    "train_set_fe = featuresets[1000:]\n",
    "test_set_fe =featuresets[:500]\n",
    "devtest_set_fe =featuresets[500:1000]"
   ]
  },
  {
   "cell_type": "markdown",
   "metadata": {},
   "source": [
    "## Classifier - NaiveBayes"
   ]
  },
  {
   "cell_type": "code",
   "execution_count": 10,
   "metadata": {},
   "outputs": [],
   "source": [
    "classifier = nltk.NaiveBayesClassifier.train(train_set_fe)"
   ]
  },
  {
   "cell_type": "code",
   "execution_count": 11,
   "metadata": {},
   "outputs": [
    {
     "name": "stdout",
     "output_type": "stream",
     "text": [
      "male\n",
      "male\n"
     ]
    }
   ],
   "source": [
    "print(classifier.classify(gender_features2('Neo'))) #male\n",
    "print(classifier.classify(gender_features2('Trinity'))) #female"
   ]
  },
  {
   "cell_type": "code",
   "execution_count": 12,
   "metadata": {},
   "outputs": [
    {
     "name": "stdout",
     "output_type": "stream",
     "text": [
      "train_set:  0.803139400921659\n",
      "test_set:  0.802\n",
      "devtest_set:  0.83\n"
     ]
    }
   ],
   "source": [
    "# Show Accuracy\n",
    "print(\"train_set: \", nltk.classify.accuracy(classifier, train_set_fe))\n",
    "print(\"test_set: \", nltk.classify.accuracy(classifier, test_set_fe))\n",
    "print(\"devtest_set: \", nltk.classify.accuracy(classifier, devtest_set_fe))"
   ]
  },
  {
   "cell_type": "code",
   "execution_count": 13,
   "metadata": {},
   "outputs": [
    {
     "name": "stdout",
     "output_type": "stream",
     "text": [
      "Most Informative Features\n",
      "                 suffix2 = 'na'           female : male   =     94.6 : 1.0\n",
      "                 suffix2 = 'la'           female : male   =     67.1 : 1.0\n",
      "                 suffix2 = 'us'             male : female =     60.4 : 1.0\n",
      "                 suffix2 = 'ia'           female : male   =     38.6 : 1.0\n",
      "              lastletter = 'a'            female : male   =     37.4 : 1.0\n",
      "                 suffix2 = 'ta'           female : male   =     30.7 : 1.0\n",
      "              lastletter = 'k'              male : female =     30.2 : 1.0\n",
      "                 suffix2 = 'rd'             male : female =     29.2 : 1.0\n",
      "                 suffix2 = 'rt'             male : female =     28.3 : 1.0\n",
      "                 suffix2 = 'do'             male : female =     26.1 : 1.0\n",
      "                 suffix2 = 'ra'           female : male   =     24.1 : 1.0\n",
      "                 suffix2 = 'ld'             male : female =     21.0 : 1.0\n",
      "                 suffix2 = 'os'             male : female =     17.2 : 1.0\n",
      "                preffix2 = 'hu'             male : female =     15.0 : 1.0\n",
      "                 suffix2 = 'ch'             male : female =     15.0 : 1.0\n",
      "              lastletter = 'f'              male : female =     13.9 : 1.0\n",
      "                 suffix2 = 'ka'           female : male   =     13.8 : 1.0\n",
      "                 suffix2 = 'io'             male : female =     13.0 : 1.0\n",
      "                preffix2 = 'ya'             male : female =     12.8 : 1.0\n",
      "                 suffix2 = 'ig'             male : female =     11.6 : 1.0\n"
     ]
    }
   ],
   "source": [
    "# Show important features\n",
    "classifier.show_most_informative_features(20)"
   ]
  },
  {
   "cell_type": "code",
   "execution_count": 14,
   "metadata": {},
   "outputs": [],
   "source": [
    "# Check errors\n",
    "errors = []\n",
    "for (name, tag) in devtest_set:\n",
    "    guess = classifier.classify(gender_features2(name))\n",
    "    if guess != tag:\n",
    "        errors.append( (tag, guess, name) )\n"
   ]
  },
  {
   "cell_type": "code",
   "execution_count": 15,
   "metadata": {},
   "outputs": [
    {
     "name": "stdout",
     "output_type": "stream",
     "text": [
      "correct=female   guess=male     name=Aubry                         \n",
      "correct=female   guess=male     name=Beilul                        \n",
      "correct=female   guess=male     name=Carrol                        \n",
      "correct=female   guess=male     name=Charo                         \n",
      "correct=female   guess=male     name=Chrystel                      \n",
      "correct=female   guess=male     name=Conney                        \n",
      "correct=female   guess=male     name=Conny                         \n",
      "correct=female   guess=male     name=Coreen                        \n",
      "correct=female   guess=male     name=Courtney                      \n",
      "correct=female   guess=male     name=Cynthy                        \n",
      "correct=female   guess=male     name=Debor                         \n",
      "correct=female   guess=male     name=Dew                           \n",
      "correct=female   guess=male     name=Diamond                       \n",
      "correct=female   guess=male     name=Doe                           \n",
      "correct=female   guess=male     name=Dorey                         \n",
      "correct=female   guess=male     name=Dorolice                      \n",
      "correct=female   guess=male     name=Dusty                         \n",
      "correct=female   guess=male     name=Fan                           \n",
      "correct=female   guess=male     name=Fleur                         \n",
      "correct=female   guess=male     name=Florry                        \n",
      "correct=female   guess=male     name=Halley                        \n",
      "correct=female   guess=male     name=Hannibal                      \n",
      "correct=female   guess=male     name=Hedvig                        \n",
      "correct=female   guess=male     name=Holly                         \n",
      "correct=female   guess=male     name=Ingeborg                      \n",
      "correct=female   guess=male     name=Jess                          \n",
      "correct=female   guess=male     name=Joby                          \n",
      "correct=female   guess=male     name=Joly                          \n",
      "correct=female   guess=male     name=Joyann                        \n",
      "correct=female   guess=male     name=Melody                        \n",
      "correct=female   guess=male     name=Melony                        \n",
      "correct=female   guess=male     name=Oliy                          \n",
      "correct=female   guess=male     name=Page                          \n",
      "correct=female   guess=male     name=Phil                          \n",
      "correct=female   guess=male     name=Robin                         \n",
      "correct=female   guess=male     name=Shawn                         \n",
      "correct=female   guess=male     name=Sigrid                        \n",
      "correct=female   guess=male     name=Storm                         \n",
      "correct=female   guess=male     name=Stormie                       \n",
      "correct=female   guess=male     name=Sue                           \n",
      "correct=female   guess=male     name=Suzy                          \n",
      "correct=female   guess=male     name=Sybyl                         \n",
      "correct=female   guess=male     name=Venus                         \n",
      "correct=female   guess=male     name=Wileen                        \n",
      "correct=female   guess=male     name=Winny                         \n",
      "correct=female   guess=male     name=Yoko                          \n",
      "correct=male     guess=female   name=Alley                         \n",
      "correct=male     guess=female   name=Amery                         \n",
      "correct=male     guess=female   name=Anthony                       \n",
      "correct=male     guess=female   name=Antoni                        \n",
      "correct=male     guess=female   name=Barnabe                       \n",
      "correct=male     guess=female   name=Carl                          \n",
      "correct=male     guess=female   name=Che                           \n",
      "correct=male     guess=female   name=Claire                        \n",
      "correct=male     guess=female   name=Dabney                        \n",
      "correct=male     guess=female   name=Darryl                        \n",
      "correct=male     guess=female   name=Donnie                        \n",
      "correct=male     guess=female   name=Edie                          \n",
      "correct=male     guess=female   name=Elvin                         \n",
      "correct=male     guess=female   name=Elwyn                         \n",
      "correct=male     guess=female   name=Ely                           \n",
      "correct=male     guess=female   name=Etienne                       \n",
      "correct=male     guess=female   name=Evelyn                        \n",
      "correct=male     guess=female   name=Gabe                          \n",
      "correct=male     guess=female   name=Germaine                      \n",
      "correct=male     guess=female   name=Granville                     \n",
      "correct=male     guess=female   name=Immanuel                      \n",
      "correct=male     guess=female   name=Jereme                        \n",
      "correct=male     guess=female   name=Jermain                       \n",
      "correct=male     guess=female   name=Jessee                        \n",
      "correct=male     guess=female   name=Kaiser                        \n",
      "correct=male     guess=female   name=Kalil                         \n",
      "correct=male     guess=female   name=Kareem                        \n",
      "correct=male     guess=female   name=Laurance                      \n",
      "correct=male     guess=female   name=Lenny                         \n",
      "correct=male     guess=female   name=Linoel                        \n",
      "correct=male     guess=female   name=Marty                         \n",
      "correct=male     guess=female   name=Mendel                        \n",
      "correct=male     guess=female   name=Mikael                        \n",
      "correct=male     guess=female   name=Mikel                         \n",
      "correct=male     guess=female   name=Mustafa                       \n",
      "correct=male     guess=female   name=Nathaniel                     \n",
      "correct=male     guess=female   name=Reza                          \n",
      "correct=male     guess=female   name=Salvatore                     \n",
      "correct=male     guess=female   name=Stevie                        \n"
     ]
    }
   ],
   "source": [
    "for (tag, guess, name) in sorted(errors): # doctest: +ELLIPSIS +NORMALIZE_WHITESPACE\n",
    "    print('correct=%-8s guess=%-8s name=%-30s' % (tag, guess, name))\n"
   ]
  },
  {
   "cell_type": "code",
   "execution_count": 16,
   "metadata": {},
   "outputs": [
    {
     "name": "stdout",
     "output_type": "stream",
     "text": [
      "Error count:  85\n"
     ]
    }
   ],
   "source": [
    "print(\"Error count: \", len(errors))"
   ]
  },
  {
   "cell_type": "markdown",
   "metadata": {},
   "source": [
    "## Classifier - DecisionTree"
   ]
  },
  {
   "cell_type": "code",
   "execution_count": 17,
   "metadata": {},
   "outputs": [
    {
     "name": "stdout",
     "output_type": "stream",
     "text": [
      "train_set:  0.935339861751152\n",
      "test_set:  0.762\n",
      "devtest_set:  0.776\n"
     ]
    }
   ],
   "source": [
    "classifier_tree = nltk.DecisionTreeClassifier.train(train_set_fe)\n",
    "\n",
    "print(\"train_set: \", nltk.classify.accuracy(classifier_tree, train_set_fe))\n",
    "print(\"test_set: \", nltk.classify.accuracy(classifier_tree, test_set_fe))\n",
    "print(\"devtest_set: \", nltk.classify.accuracy(classifier_tree, devtest_set_fe))"
   ]
  },
  {
   "cell_type": "code",
   "execution_count": 18,
   "metadata": {},
   "outputs": [],
   "source": [
    "errors2 = []\n",
    "for (name, tag) in devtest_set:\n",
    "    guess = classifier_tree.classify(gender_features2(name))\n",
    "    if guess != tag:\n",
    "        errors2.append( (tag, guess, name) )\n"
   ]
  },
  {
   "cell_type": "code",
   "execution_count": 19,
   "metadata": {},
   "outputs": [
    {
     "name": "stdout",
     "output_type": "stream",
     "text": [
      "correct=female   guess=male     name=Aubry                         \n",
      "correct=female   guess=male     name=Beilul                        \n",
      "correct=female   guess=male     name=Carrol                        \n",
      "correct=female   guess=male     name=Charo                         \n",
      "correct=female   guess=male     name=Chrystel                      \n",
      "correct=female   guess=male     name=Conney                        \n",
      "correct=female   guess=male     name=Conny                         \n",
      "correct=female   guess=male     name=Coreen                        \n",
      "correct=female   guess=male     name=Courtney                      \n",
      "correct=female   guess=male     name=Cynthy                        \n",
      "correct=female   guess=male     name=Debor                         \n",
      "correct=female   guess=male     name=Dew                           \n",
      "correct=female   guess=male     name=Diamond                       \n",
      "correct=female   guess=male     name=Doe                           \n",
      "correct=female   guess=male     name=Dorey                         \n",
      "correct=female   guess=male     name=Dorolice                      \n",
      "correct=female   guess=male     name=Dusty                         \n",
      "correct=female   guess=male     name=Fan                           \n",
      "correct=female   guess=male     name=Fleur                         \n",
      "correct=female   guess=male     name=Florry                        \n",
      "correct=female   guess=male     name=Halley                        \n",
      "correct=female   guess=male     name=Hannibal                      \n",
      "correct=female   guess=male     name=Hedvig                        \n",
      "correct=female   guess=male     name=Holly                         \n",
      "correct=female   guess=male     name=Ingeborg                      \n",
      "correct=female   guess=male     name=Jess                          \n",
      "correct=female   guess=male     name=Joby                          \n",
      "correct=female   guess=male     name=Joly                          \n",
      "correct=female   guess=male     name=Joyann                        \n",
      "correct=female   guess=male     name=Melody                        \n",
      "correct=female   guess=male     name=Melony                        \n",
      "correct=female   guess=male     name=Oliy                          \n",
      "correct=female   guess=male     name=Page                          \n",
      "correct=female   guess=male     name=Phil                          \n",
      "correct=female   guess=male     name=Robin                         \n",
      "correct=female   guess=male     name=Shawn                         \n",
      "correct=female   guess=male     name=Sigrid                        \n",
      "correct=female   guess=male     name=Storm                         \n",
      "correct=female   guess=male     name=Stormie                       \n",
      "correct=female   guess=male     name=Sue                           \n",
      "correct=female   guess=male     name=Suzy                          \n",
      "correct=female   guess=male     name=Sybyl                         \n",
      "correct=female   guess=male     name=Venus                         \n",
      "correct=female   guess=male     name=Wileen                        \n",
      "correct=female   guess=male     name=Winny                         \n",
      "correct=female   guess=male     name=Yoko                          \n",
      "correct=male     guess=female   name=Alley                         \n",
      "correct=male     guess=female   name=Amery                         \n",
      "correct=male     guess=female   name=Anthony                       \n",
      "correct=male     guess=female   name=Antoni                        \n",
      "correct=male     guess=female   name=Barnabe                       \n",
      "correct=male     guess=female   name=Carl                          \n",
      "correct=male     guess=female   name=Che                           \n",
      "correct=male     guess=female   name=Claire                        \n",
      "correct=male     guess=female   name=Dabney                        \n",
      "correct=male     guess=female   name=Darryl                        \n",
      "correct=male     guess=female   name=Donnie                        \n",
      "correct=male     guess=female   name=Edie                          \n",
      "correct=male     guess=female   name=Elvin                         \n",
      "correct=male     guess=female   name=Elwyn                         \n",
      "correct=male     guess=female   name=Ely                           \n",
      "correct=male     guess=female   name=Etienne                       \n",
      "correct=male     guess=female   name=Evelyn                        \n",
      "correct=male     guess=female   name=Gabe                          \n",
      "correct=male     guess=female   name=Germaine                      \n",
      "correct=male     guess=female   name=Granville                     \n",
      "correct=male     guess=female   name=Immanuel                      \n",
      "correct=male     guess=female   name=Jereme                        \n",
      "correct=male     guess=female   name=Jermain                       \n",
      "correct=male     guess=female   name=Jessee                        \n",
      "correct=male     guess=female   name=Kaiser                        \n",
      "correct=male     guess=female   name=Kalil                         \n",
      "correct=male     guess=female   name=Kareem                        \n",
      "correct=male     guess=female   name=Laurance                      \n",
      "correct=male     guess=female   name=Lenny                         \n",
      "correct=male     guess=female   name=Linoel                        \n",
      "correct=male     guess=female   name=Marty                         \n",
      "correct=male     guess=female   name=Mendel                        \n",
      "correct=male     guess=female   name=Mikael                        \n",
      "correct=male     guess=female   name=Mikel                         \n",
      "correct=male     guess=female   name=Mustafa                       \n",
      "correct=male     guess=female   name=Nathaniel                     \n",
      "correct=male     guess=female   name=Reza                          \n",
      "correct=male     guess=female   name=Salvatore                     \n",
      "correct=male     guess=female   name=Stevie                        \n"
     ]
    }
   ],
   "source": [
    "for (tag, guess, name) in sorted(errors): # doctest: +ELLIPSIS +NORMALIZE_WHITESPACE\n",
    "    print('correct=%-8s guess=%-8s name=%-30s' % (tag, guess, name))"
   ]
  },
  {
   "cell_type": "code",
   "execution_count": 20,
   "metadata": {},
   "outputs": [
    {
     "name": "stdout",
     "output_type": "stream",
     "text": [
      "Error count\n"
     ]
    },
    {
     "data": {
      "text/plain": [
       "112"
      ]
     },
     "execution_count": 20,
     "metadata": {},
     "output_type": "execute_result"
    }
   ],
   "source": [
    "print(\"Error count\")\n",
    "len(errors2)"
   ]
  },
  {
   "cell_type": "markdown",
   "metadata": {},
   "source": [
    "---"
   ]
  },
  {
   "cell_type": "markdown",
   "metadata": {},
   "source": [
    "## Features - B"
   ]
  },
  {
   "cell_type": "code",
   "execution_count": 21,
   "metadata": {},
   "outputs": [],
   "source": [
    "# extract name’s characteristics\n",
    "def gender_features(name):\n",
    "    name = name.lower()\n",
    "    return{\n",
    "        'first_letter': name[0],\n",
    "        'first2_letter': name[0:2],\n",
    "        'first3_letter': name[0:3],\n",
    "        'last_letter': name[-1],\n",
    "        'last2_letter': name[-2:],\n",
    "        'last3_letter': name[-3:],\n",
    "        'last_vowel': (name[-1] in 'aeiou')\n",
    "    }"
   ]
  },
  {
   "cell_type": "code",
   "execution_count": 22,
   "metadata": {},
   "outputs": [
    {
     "data": {
      "text/plain": [
       "{'first_letter': 'r',\n",
       " 'first2_letter': 'ro',\n",
       " 'first3_letter': 'ros',\n",
       " 'last_letter': 'e',\n",
       " 'last2_letter': 'se',\n",
       " 'last3_letter': 'ose',\n",
       " 'last_vowel': True}"
      ]
     },
     "execution_count": 22,
     "metadata": {},
     "output_type": "execute_result"
    }
   ],
   "source": [
    "gender_features(\"Rose\")"
   ]
  },
  {
   "cell_type": "markdown",
   "metadata": {},
   "source": [
    "## Vectorize"
   ]
  },
  {
   "cell_type": "code",
   "execution_count": 23,
   "metadata": {},
   "outputs": [
    {
     "name": "stdout",
     "output_type": "stream",
     "text": [
      "[{'first_letter': 'r', 'first2_letter': 'ro', 'first3_letter': 'ros', 'last_letter': 'e', 'last2_letter': 'se', 'last3_letter': 'ose', 'last_vowel': True}\n",
      " {'first_letter': 'm', 'first2_letter': 'mi', 'first3_letter': 'mik', 'last_letter': 'e', 'last2_letter': 'ke', 'last3_letter': 'ike', 'last_vowel': True}]\n"
     ]
    }
   ],
   "source": [
    "import numpy as np\n",
    "\n",
    "# Vectorize the features function\n",
    "features = np.vectorize(gender_features)\n",
    "print(features(['Rose', 'Mike']))"
   ]
  },
  {
   "cell_type": "code",
   "execution_count": 24,
   "metadata": {},
   "outputs": [
    {
     "name": "stdout",
     "output_type": "stream",
     "text": [
      "Name: Matilda, features={'first_letter': 'm', 'first2_letter': 'ma', 'first3_letter': 'mat', 'last_letter': 'a', 'last2_letter': 'da', 'last3_letter': 'lda', 'last_vowel': True}, gender=female\n"
     ]
    }
   ],
   "source": [
    "# Extract the features for entire dataset\n",
    "X = np.array(features(names))[:, 0] # X contains the features\n",
    "\n",
    "# Get the gender column\n",
    "y = np.array(names)[:, 1]           # y contains the targets\n",
    "\n",
    "print(\"Name: %s, features=%s, gender=%s\" % (names[0][0], X[0], y[0]))"
   ]
  },
  {
   "cell_type": "code",
   "execution_count": 25,
   "metadata": {},
   "outputs": [
    {
     "name": "stdout",
     "output_type": "stream",
     "text": [
      "test:  500\n",
      "devtest:  500\n",
      "train:  6944\n"
     ]
    }
   ],
   "source": [
    "# Shuffle and split:  train, dev-test, test \n",
    "from sklearn.utils import shuffle\n",
    "X,y = shuffle(X,y)\n",
    "\n",
    "X_test, X_dev_test, X_train = X[:500], X[500:1000], X[1000:]\n",
    "y_test, y_dev_test, y_train = y[:500], y[500:1000], y[1000:]\n",
    "\n",
    "print(\"test: \" , len(X_test))\n",
    "print(\"devtest: \", len(X_dev_test))\n",
    "print(\"train: \", len(X_train))"
   ]
  },
  {
   "cell_type": "code",
   "execution_count": 26,
   "metadata": {},
   "outputs": [
    {
     "name": "stdout",
     "output_type": "stream",
     "text": [
      "[{'first_letter': 'r', 'first2_letter': 'ro', 'first3_letter': 'ros', 'last_letter': 'e', 'last2_letter': 'se', 'last3_letter': 'ose', 'last_vowel': True}\n",
      " {'first_letter': 'm', 'first2_letter': 'mi', 'first3_letter': 'mik', 'last_letter': 'e', 'last2_letter': 'ke', 'last3_letter': 'ike', 'last_vowel': True}]\n",
      "  (0, 166)\t1.0\n",
      "  (0, 1214)\t1.0\n",
      "  (0, 1515)\t1.0\n",
      "  (0, 1732)\t1.0\n",
      "  (0, 2679)\t1.0\n",
      "  (0, 3140)\t1.0\n",
      "  (0, 3161)\t1.0\n",
      "  (1, 128)\t1.0\n",
      "  (1, 995)\t1.0\n",
      "  (1, 1510)\t1.0\n",
      "  (1, 1646)\t1.0\n",
      "  (1, 2278)\t1.0\n",
      "  (1, 3140)\t1.0\n",
      "  (1, 3161)\t1.0\n",
      "<class 'scipy.sparse.csr.csr_matrix'>\n",
      "0.0\n",
      "first2_letter=ap\n"
     ]
    }
   ],
   "source": [
    "# Use vectorizer to transform the features into feature-vectors.\n",
    "from sklearn.feature_extraction import DictVectorizer\n",
    "\n",
    "print(features(['Rose', 'Mike']))\n",
    "\n",
    "# train the vectorizer to know the possible features and values.\n",
    "vectorizer = DictVectorizer()\n",
    "vectorizer.fit(X_train)\n",
    "\n",
    "transform = vectorizer.transform(features(['Rose', 'Mike']))\n",
    "print(transform)\n",
    "print(type(transform))\n",
    "print(transform.toarray()[0][12])\n",
    "print(vectorizer.feature_names_[12])"
   ]
  },
  {
   "cell_type": "markdown",
   "metadata": {},
   "source": [
    "## Classifier - DecisionTree"
   ]
  },
  {
   "cell_type": "code",
   "execution_count": 27,
   "metadata": {},
   "outputs": [
    {
     "data": {
      "text/plain": [
       "DecisionTreeClassifier(class_weight=None, criterion='gini', max_depth=None,\n",
       "            max_features=None, max_leaf_nodes=None,\n",
       "            min_impurity_decrease=0.0, min_impurity_split=None,\n",
       "            min_samples_leaf=1, min_samples_split=2,\n",
       "            min_weight_fraction_leaf=0.0, presort=False, random_state=None,\n",
       "            splitter='best')"
      ]
     },
     "execution_count": 27,
     "metadata": {},
     "output_type": "execute_result"
    }
   ],
   "source": [
    "from sklearn.tree import DecisionTreeClassifier\n",
    "# DT classifier to extract discriminating rules from the features. \n",
    "DT_classifier = DecisionTreeClassifier()\n",
    "\n",
    "DT_classifier.fit(vectorizer.transform(X_train), y_train)"
   ]
  },
  {
   "cell_type": "code",
   "execution_count": 28,
   "metadata": {},
   "outputs": [
    {
     "name": "stdout",
     "output_type": "stream",
     "text": [
      "['male' 'female']\n"
     ]
    }
   ],
   "source": [
    "print(DT_classifier.predict(vectorizer.transform(features([\"Sebastian\", \"Amy\"]))))"
   ]
  },
  {
   "cell_type": "code",
   "execution_count": 29,
   "metadata": {},
   "outputs": [
    {
     "name": "stdout",
     "output_type": "stream",
     "text": [
      "Accuracy on training set:  0.9582373271889401\n",
      "Accuracy on dev-test set:  0.784\n",
      "Accuracy on test set:  0.762\n"
     ]
    }
   ],
   "source": [
    "# Accuracy\n",
    "print(\"Accuracy on training set: \", DT_classifier.score(vectorizer.transform(X_train), y_train))\n",
    "print(\"Accuracy on dev-test set: \",DT_classifier.score(vectorizer.transform(X_dev_test), y_dev_test))\n",
    "print(\"Accuracy on test set: \",DT_classifier.score(vectorizer.transform(X_test), y_test))\n"
   ]
  },
  {
   "cell_type": "code",
   "execution_count": 30,
   "metadata": {},
   "outputs": [
    {
     "name": "stdout",
     "output_type": "stream",
     "text": [
      "Cross Validation\n",
      "Train Score = 0.781682\n",
      "Dev Test Score = 0.740000\n",
      "Test Score = 0.730000\n"
     ]
    }
   ],
   "source": [
    "# cross validation\n",
    "from sklearn.model_selection import cross_val_predict\n",
    "from sklearn.metrics import accuracy_score\n",
    "\n",
    "pred_train = cross_val_predict(DT_classifier, vectorizer.transform(X_train), y_train, cv = 100)\n",
    "pred_dev_test = cross_val_predict(DT_classifier, vectorizer.transform(X_dev_test), y_dev_test, cv = 100)\n",
    "pred_test = cross_val_predict(DT_classifier, vectorizer.transform(X_test), y_test, cv = 100)\n",
    "\n",
    "score_train = accuracy_score(y_train, pred_train)\n",
    "score_dev_test = accuracy_score(y_dev_test, pred_dev_test)\n",
    "score_test = accuracy_score(y_test, pred_test)\n",
    "\n",
    "print(\"Cross Validation\")\n",
    "print(\"Train Score = {0:5f}\".format(score_train))\n",
    "print(\"Dev Test Score = {0:5f}\".format(score_dev_test))\n",
    "print(\"Test Score = {0:5f}\".format(score_test))\n"
   ]
  },
  {
   "cell_type": "markdown",
   "metadata": {},
   "source": [
    "## Conclusion"
   ]
  },
  {
   "cell_type": "markdown",
   "metadata": {},
   "source": [
    "* How does the performance on the test set compare to the performance on the dev-test set? Is this what you'd expect?"
   ]
  },
  {
   "cell_type": "markdown",
   "metadata": {},
   "source": [
    "The performance on the test set is lower compared to the performance of the dev-test set.  As we optimize against the dev-test set, we are likely to create overfitting, thus generalizing the outcome to the model will be ineffective as the test set is unseen data for the model.  The training accuracy is higher as the model performs better on the data it has seen before compared to the data it has unseen."
   ]
  },
  {
   "cell_type": "markdown",
   "metadata": {},
   "source": [
    "## Source\n",
    "\n",
    "https://www.nltk.org/book/ch06.html"
   ]
  }
 ],
 "metadata": {
  "kernelspec": {
   "display_name": "Python 3",
   "language": "python",
   "name": "python3"
  },
  "language_info": {
   "codemirror_mode": {
    "name": "ipython",
    "version": 3
   },
   "file_extension": ".py",
   "mimetype": "text/x-python",
   "name": "python",
   "nbconvert_exporter": "python",
   "pygments_lexer": "ipython3",
   "version": "3.6.2"
  }
 },
 "nbformat": 4,
 "nbformat_minor": 2
}
