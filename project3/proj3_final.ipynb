{
 "cells": [
  {
   "cell_type": "markdown",
   "metadata": {},
   "source": [
    "## Project 3: Gender Name Classifier\n",
    "## CUNY MSDS DATA 620 Web Analytics, CUNY Spring 2018\n",
    "---\n",
    "### Team5: Christopher Estevez, Meaghan Burke, Rickidon Singh,  Ritesh Lohiya, Rose Koh\n",
    "### 07/09/2018 (due date)\n",
    "##### python version: 3.6\n",
    "---\n"
   ]
  },
  {
   "cell_type": "markdown",
   "metadata": {},
   "source": [
    "\n",
    "<h2> Assignment Details </h2>\n",
    "\n",
    "For this project, please work with the entire class as one collaborative group!Your project should be\n",
    "submitted (as a Jupyter Notebook via GitHub) by end of the due date. The group should present their\n",
    "code and findings in our meetup.\n",
    "\n",
    "<i>The ability to be an effective member of a virtual team is highly valued in the data science job market. </i>\n",
    "\n",
    "\n",
    "-------------------------------------------------------------------------------------------------------------\n",
    "\n",
    "Using any of the three classifiers described in chapter 6 of <b>Natural Language Processing with Python</b>,\n",
    "and any features you can think of, build the best name gender classifier you can.\n",
    "\n",
    "Begin by splitting the Names Corpus into three subsets: 500 words for the test set, 500 words for the devtest\n",
    "set, and the remaining 6900 words for the training set. Then, starting with the example name gender\n",
    "classifier, make incremental improvements. Use the dev-test set to check your progress. Once you are\n",
    "satisfied with your classifier, check its final performance on the test set.\n",
    "\n",
    "How does the performance on the test set compare to the performance on the dev-test set? Is this what\n",
    "you'd expect?\n",
    "\n",
    "Source: Natural Language Processing with Python, exercise 6.10.2.\n",
    "\n"
   ]
  },
  {
   "cell_type": "markdown",
   "metadata": {},
   "source": [
    "## Load Packages"
   ]
  },
  {
   "cell_type": "markdown",
   "metadata": {},
   "source": [
    "import nltk\n",
    "nltk.download('names')"
   ]
  },
  {
   "cell_type": "code",
   "execution_count": 2,
   "metadata": {
    "collapsed": true
   },
   "outputs": [],
   "source": [
    "from nltk.corpus import names\n",
    "import random\n",
    "from nltk.classify import apply_features"
   ]
  },
  {
   "cell_type": "markdown",
   "metadata": {},
   "source": [
    "## Get Data"
   ]
  },
  {
   "cell_type": "code",
   "execution_count": 3,
   "metadata": {
    "collapsed": true
   },
   "outputs": [],
   "source": [
    "names = ([(name, 'male') for name in names.words('male.txt')] +\n",
    "[(name, 'female') for name in names.words('female.txt')])\n",
    "random.shuffle(names)"
   ]
  },
  {
   "cell_type": "code",
   "execution_count": 4,
   "metadata": {},
   "outputs": [
    {
     "data": {
      "text/plain": [
       "[('Ephraim', 'male'),\n",
       " ('Avivah', 'female'),\n",
       " ('Emlyn', 'female'),\n",
       " ('Maressa', 'female'),\n",
       " ('Margy', 'female'),\n",
       " ('Horacio', 'male'),\n",
       " ('Orren', 'male'),\n",
       " ('Binni', 'female'),\n",
       " ('Witty', 'male'),\n",
       " ('Stephanus', 'male')]"
      ]
     },
     "execution_count": 4,
     "metadata": {},
     "output_type": "execute_result"
    }
   ],
   "source": [
    "names[0:10]"
   ]
  },
  {
   "cell_type": "code",
   "execution_count": 5,
   "metadata": {
    "collapsed": true
   },
   "outputs": [],
   "source": [
    "import nltk\n",
    "from nltk.classify import apply_features\n",
    "import random\n",
    "import math"
   ]
  },
  {
   "cell_type": "code",
   "execution_count": 6,
   "metadata": {},
   "outputs": [
    {
     "data": {
      "text/plain": [
       "7944"
      ]
     },
     "execution_count": 6,
     "metadata": {},
     "output_type": "execute_result"
    }
   ],
   "source": [
    "len(names)"
   ]
  },
  {
   "cell_type": "code",
   "execution_count": 7,
   "metadata": {
    "collapsed": true
   },
   "outputs": [],
   "source": [
    "test_set = names[:500]\n",
    "devtest_set = names[500:1000]   # Error-analysis set\n",
    "train_set = names[1000:]        # Training set"
   ]
  },
  {
   "cell_type": "markdown",
   "metadata": {},
   "source": [
    "## Features - A"
   ]
  },
  {
   "cell_type": "code",
   "execution_count": 8,
   "metadata": {
    "collapsed": true
   },
   "outputs": [],
   "source": [
    "def gender_features2(name):\n",
    "    features = {}\n",
    "    features[\"firstletter\"] = name[0].lower()\n",
    "    features[\"lastletter\"] = name[-1].lower()\n",
    "    features[\"suffix2\"]= name[-2:].lower()\n",
    "    features[\"preffix2\"]= name[:2].lower()\n",
    "    for letter in 'aeiou':\n",
    "        features[\"count(%s)\" % letter] = name.lower().count(letter)\n",
    "        features[\"has(%s)\" % letter] = (letter in name.lower())\n",
    "    return features"
   ]
  },
  {
   "cell_type": "markdown",
   "metadata": {},
   "source": [
    "## Split Data - A"
   ]
  },
  {
   "cell_type": "code",
   "execution_count": 9,
   "metadata": {},
   "outputs": [
    {
     "data": {
      "text/plain": [
       "({'count(a)': 1,\n",
       "  'count(e)': 1,\n",
       "  'count(i)': 1,\n",
       "  'count(o)': 0,\n",
       "  'count(u)': 0,\n",
       "  'firstletter': 'e',\n",
       "  'has(a)': True,\n",
       "  'has(e)': True,\n",
       "  'has(i)': True,\n",
       "  'has(o)': False,\n",
       "  'has(u)': False,\n",
       "  'lastletter': 'm',\n",
       "  'preffix2': 'ep',\n",
       "  'suffix2': 'im'},\n",
       " 'male')"
      ]
     },
     "execution_count": 9,
     "metadata": {},
     "output_type": "execute_result"
    }
   ],
   "source": [
    "featuresets = [(gender_features2(n), g) for (n,g) in names]\n",
    "featuresets[0]\n"
   ]
  },
  {
   "cell_type": "code",
   "execution_count": 10,
   "metadata": {},
   "outputs": [],
   "source": [
    "train_set_fe = featuresets[1000:]\n",
    "test_set_fe =featuresets[:500]\n",
    "devtest_set_fe =featuresets[500:1000]"
   ]
  },
  {
   "cell_type": "markdown",
   "metadata": {},
   "source": [
    "## Classifier - NaiveBayes"
   ]
  },
  {
   "cell_type": "code",
   "execution_count": 11,
   "metadata": {
    "collapsed": true
   },
   "outputs": [],
   "source": [
    "classifier = nltk.NaiveBayesClassifier.train(train_set_fe)"
   ]
  },
  {
   "cell_type": "code",
   "execution_count": 12,
   "metadata": {},
   "outputs": [
    {
     "name": "stdout",
     "output_type": "stream",
     "text": [
      "male\n",
      "male\n"
     ]
    }
   ],
   "source": [
    "print(classifier.classify(gender_features2('Neo'))) #male\n",
    "print(classifier.classify(gender_features2('Trinity'))) #female"
   ]
  },
  {
   "cell_type": "code",
   "execution_count": 13,
   "metadata": {},
   "outputs": [
    {
     "name": "stdout",
     "output_type": "stream",
     "text": [
      "train_set:  0.8120679723502304\n",
      "test_set:  0.782\n",
      "devtest_set:  0.782\n"
     ]
    }
   ],
   "source": [
    "# Show Accuracy\n",
    "print(\"train_set: \", nltk.classify.accuracy(classifier, train_set_fe))\n",
    "print(\"test_set: \", nltk.classify.accuracy(classifier, test_set_fe))\n",
    "print(\"devtest_set: \", nltk.classify.accuracy(classifier, devtest_set_fe))"
   ]
  },
  {
   "cell_type": "code",
   "execution_count": 14,
   "metadata": {},
   "outputs": [
    {
     "name": "stdout",
     "output_type": "stream",
     "text": [
      "Most Informative Features\n",
      "                 suffix2 = 'na'           female : male   =     93.2 : 1.0\n",
      "                 suffix2 = 'la'           female : male   =     69.0 : 1.0\n",
      "                 suffix2 = 'rd'             male : female =     41.2 : 1.0\n",
      "                 suffix2 = 'ia'           female : male   =     37.6 : 1.0\n",
      "                 suffix2 = 'sa'           female : male   =     34.4 : 1.0\n",
      "              lastletter = 'a'            female : male   =     33.4 : 1.0\n",
      "              lastletter = 'k'              male : female =     27.6 : 1.0\n",
      "                 suffix2 = 'us'             male : female =     24.7 : 1.0\n",
      "                 suffix2 = 'ta'           female : male   =     24.6 : 1.0\n",
      "                 suffix2 = 'ra'           female : male   =     24.3 : 1.0\n",
      "                 suffix2 = 'ld'             male : female =     23.1 : 1.0\n",
      "                 suffix2 = 'do'             male : female =     20.7 : 1.0\n",
      "                 suffix2 = 'os'             male : female =     20.7 : 1.0\n",
      "                 suffix2 = 'rt'             male : female =     19.9 : 1.0\n",
      "              lastletter = 'p'              male : female =     18.8 : 1.0\n",
      "                 suffix2 = 'ar'             male : female =     16.4 : 1.0\n",
      "              lastletter = 'f'              male : female =     16.1 : 1.0\n",
      "                 suffix2 = 'ka'           female : male   =     14.5 : 1.0\n",
      "                 suffix2 = 'ch'             male : female =     13.7 : 1.0\n",
      "                 suffix2 = 'io'             male : female =     13.7 : 1.0\n",
      "                preffix2 = 'hu'             male : female =     12.9 : 1.0\n",
      "                 suffix2 = 'sh'             male : female =     12.9 : 1.0\n",
      "                 suffix2 = 'am'             male : female =     12.7 : 1.0\n",
      "                 suffix2 = 'rn'             male : female =     11.7 : 1.0\n",
      "                preffix2 = 'wa'             male : female =     11.2 : 1.0\n",
      "              lastletter = 'd'              male : female =     11.0 : 1.0\n",
      "                preffix2 = 'tu'             male : female =     10.6 : 1.0\n",
      "                 suffix2 = 'ig'             male : female =     10.6 : 1.0\n",
      "                 suffix2 = 'im'             male : female =     10.4 : 1.0\n",
      "                 suffix2 = 'ya'           female : male   =     10.1 : 1.0\n",
      "              lastletter = 'v'              male : female =      9.9 : 1.0\n",
      "              lastletter = 'm'              male : female =      9.8 : 1.0\n",
      "                preffix2 = 'fo'             male : female =      9.7 : 1.0\n",
      "                 suffix2 = 'ti'           female : male   =      9.7 : 1.0\n",
      "                 suffix2 = 'ns'             male : female =      9.5 : 1.0\n",
      "                 suffix2 = 'ff'             male : female =      9.5 : 1.0\n",
      "                 suffix2 = 'on'             male : female =      9.1 : 1.0\n",
      "                preffix2 = 'wh'             male : female =      8.4 : 1.0\n",
      "                 suffix2 = 'rk'             male : female =      8.4 : 1.0\n",
      "                 suffix2 = 'as'             male : female =      8.4 : 1.0\n",
      "                 suffix2 = 'ul'             male : female =      8.4 : 1.0\n",
      "                 suffix2 = 'st'             male : female =      8.4 : 1.0\n",
      "              lastletter = 'o'              male : female =      8.4 : 1.0\n",
      "                preffix2 = 'we'             male : female =      7.8 : 1.0\n",
      "                 suffix2 = 'ni'           female : male   =      7.8 : 1.0\n",
      "                 suffix2 = 'ea'           female : male   =      7.8 : 1.0\n",
      "              lastletter = 'g'              male : female =      7.8 : 1.0\n",
      "                preffix2 = 'ya'             male : female =      7.3 : 1.0\n",
      "                 suffix2 = 'ev'             male : female =      7.3 : 1.0\n",
      "                 suffix2 = 'ud'             male : female =      7.0 : 1.0\n",
      "                 suffix2 = 'ro'             male : female =      6.9 : 1.0\n",
      "                preffix2 = 'gl'           female : male   =      6.9 : 1.0\n",
      "              lastletter = 'r'              male : female =      6.7 : 1.0\n",
      "                 suffix2 = 'ha'           female : male   =      6.7 : 1.0\n",
      "                 suffix2 = 'es'             male : female =      6.4 : 1.0\n",
      "                 suffix2 = 'ew'             male : female =      6.4 : 1.0\n",
      "                 suffix2 = 'er'             male : female =      6.4 : 1.0\n",
      "                 suffix2 = 'eb'             male : female =      6.1 : 1.0\n",
      "                 suffix2 = 'di'           female : male   =      6.1 : 1.0\n",
      "                 suffix2 = 'ed'             male : female =      5.9 : 1.0\n",
      "                 suffix2 = 'em'             male : female =      5.7 : 1.0\n",
      "                 suffix2 = 'te'           female : male   =      5.7 : 1.0\n",
      "              lastletter = 'z'              male : female =      5.6 : 1.0\n",
      "                preffix2 = 'ka'           female : male   =      5.4 : 1.0\n",
      "                preffix2 = 'ce'           female : male   =      5.4 : 1.0\n",
      "                 suffix2 = 'lo'             male : female =      5.3 : 1.0\n",
      "                 suffix2 = 'ke'             male : female =      5.3 : 1.0\n",
      "                count(a) = 3              female : male   =      5.1 : 1.0\n",
      "             firstletter = 'w'              male : female =      5.0 : 1.0\n",
      "                 suffix2 = 'ir'             male : female =      5.0 : 1.0\n",
      "                 suffix2 = 'oy'             male : female =      5.0 : 1.0\n",
      "                 suffix2 = 'go'             male : female =      5.0 : 1.0\n",
      "                 suffix2 = 'eo'             male : female =      5.0 : 1.0\n",
      "                preffix2 = 'fa'           female : male   =      5.0 : 1.0\n",
      "                preffix2 = 'rh'           female : male   =      5.0 : 1.0\n",
      "                 suffix2 = 'nd'             male : female =      4.9 : 1.0\n",
      "                 suffix2 = 'sy'           female : male   =      4.9 : 1.0\n",
      "                 suffix2 = 'or'             male : female =      4.8 : 1.0\n",
      "                 suffix2 = 'nt'             male : female =      4.8 : 1.0\n",
      "                 suffix2 = 'ye'           female : male   =      4.7 : 1.0\n",
      "                 suffix2 = 'ee'           female : male   =      4.6 : 1.0\n",
      "              lastletter = 'w'              male : female =      4.5 : 1.0\n",
      "                 suffix2 = 'ad'             male : female =      4.4 : 1.0\n",
      "                preffix2 = 'ty'             male : female =      4.4 : 1.0\n",
      "              lastletter = 's'              male : female =      4.4 : 1.0\n",
      "                preffix2 = 'bu'             male : female =      4.3 : 1.0\n",
      "                 suffix2 = 'yn'           female : male   =      4.2 : 1.0\n",
      "              lastletter = 'b'              male : female =      4.2 : 1.0\n",
      "                 suffix2 = 'ba'           female : male   =      4.2 : 1.0\n",
      "                 suffix2 = 'ne'           female : male   =      4.1 : 1.0\n",
      "              lastletter = 'j'              male : female =      4.0 : 1.0\n",
      "              lastletter = 'i'            female : male   =      3.9 : 1.0\n",
      "                 suffix2 = 'ab'             male : female =      3.9 : 1.0\n",
      "                 suffix2 = 'ex'             male : female =      3.9 : 1.0\n",
      "                 suffix2 = 'so'             male : female =      3.9 : 1.0\n",
      "                 suffix2 = 'eg'             male : female =      3.9 : 1.0\n",
      "                 suffix2 = 'ax'             male : female =      3.9 : 1.0\n",
      "              lastletter = 't'              male : female =      3.9 : 1.0\n",
      "                count(i) = 3                male : female =      3.7 : 1.0\n",
      "                preffix2 = 'ba'             male : female =      3.6 : 1.0\n",
      "                preffix2 = 'sc'             male : female =      3.6 : 1.0\n",
      "                preffix2 = 'ze'             male : female =      3.5 : 1.0\n",
      "                preffix2 = 'ly'           female : male   =      3.5 : 1.0\n",
      "                 suffix2 = 'bi'           female : male   =      3.5 : 1.0\n",
      "                count(o) = 2                male : female =      3.4 : 1.0\n",
      "                 suffix2 = 'tt'             male : female =      3.3 : 1.0\n",
      "                preffix2 = 'pi'             male : female =      3.2 : 1.0\n",
      "                preffix2 = 'li'           female : male   =      3.2 : 1.0\n",
      "                preffix2 = 'ag'           female : male   =      3.2 : 1.0\n",
      "                preffix2 = 'ul'             male : female =      3.2 : 1.0\n",
      "                preffix2 = 'wy'             male : female =      3.2 : 1.0\n",
      "                 suffix2 = 'li'           female : male   =      3.2 : 1.0\n",
      "                preffix2 = 'es'           female : male   =      3.1 : 1.0\n",
      "                preffix2 = 'ca'           female : male   =      3.1 : 1.0\n",
      "                preffix2 = 'na'           female : male   =      3.1 : 1.0\n",
      "                count(a) = 2              female : male   =      3.0 : 1.0\n",
      "              lastletter = 'u'              male : female =      3.0 : 1.0\n",
      "                 suffix2 = 'za'           female : male   =      3.0 : 1.0\n",
      "                preffix2 = 'dy'           female : male   =      3.0 : 1.0\n",
      "                 suffix2 = 'll'             male : female =      2.8 : 1.0\n",
      "                 suffix2 = 'an'             male : female =      2.8 : 1.0\n",
      "                preffix2 = 'th'             male : female =      2.8 : 1.0\n",
      "                preffix2 = 'za'             male : female =      2.8 : 1.0\n",
      "                 suffix2 = 'ag'             male : female =      2.8 : 1.0\n",
      "                 suffix2 = 'rr'             male : female =      2.8 : 1.0\n",
      "                 suffix2 = 'we'             male : female =      2.8 : 1.0\n",
      "                 suffix2 = 'ok'             male : female =      2.8 : 1.0\n",
      "                 suffix2 = 'um'             male : female =      2.8 : 1.0\n",
      "                 suffix2 = 'nk'             male : female =      2.8 : 1.0\n",
      "                 suffix2 = 'pp'             male : female =      2.8 : 1.0\n",
      "                 suffix2 = 'ot'             male : female =      2.8 : 1.0\n",
      "                preffix2 = 'ru'             male : female =      2.8 : 1.0\n",
      "             firstletter = 'u'              male : female =      2.7 : 1.0\n",
      "                 suffix2 = 'me'             male : female =      2.7 : 1.0\n",
      "                preffix2 = 'du'             male : female =      2.7 : 1.0\n",
      "                preffix2 = 'su'           female : male   =      2.7 : 1.0\n",
      "                 suffix2 = 'ki'           female : male   =      2.6 : 1.0\n",
      "                count(e) = 3              female : male   =      2.6 : 1.0\n",
      "                preffix2 = 'ko'           female : male   =      2.6 : 1.0\n",
      "                 suffix2 = 'pe'             male : female =      2.6 : 1.0\n",
      "             firstletter = 'q'              male : female =      2.6 : 1.0\n",
      "                 suffix2 = 've'             male : female =      2.6 : 1.0\n",
      "                 suffix2 = 'id'             male : female =      2.6 : 1.0\n",
      "                 suffix2 = 'ko'           female : male   =      2.6 : 1.0\n",
      "                 suffix2 = 'gi'           female : male   =      2.6 : 1.0\n",
      "                preffix2 = 'ky'           female : male   =      2.6 : 1.0\n",
      "                preffix2 = 'ha'             male : female =      2.6 : 1.0\n",
      "                preffix2 = 'qu'             male : female =      2.6 : 1.0\n",
      "                 suffix2 = 'in'             male : female =      2.5 : 1.0\n",
      "                count(u) = 2                male : female =      2.5 : 1.0\n",
      "                preffix2 = 'go'             male : female =      2.5 : 1.0\n",
      "                preffix2 = 'av'             male : female =      2.5 : 1.0\n",
      "                 suffix2 = 'il'             male : female =      2.4 : 1.0\n",
      "                 suffix2 = 'be'             male : female =      2.4 : 1.0\n",
      "                 suffix2 = 'oe'             male : female =      2.4 : 1.0\n",
      "                preffix2 = 'dr'             male : female =      2.4 : 1.0\n",
      "                preffix2 = 'xe'             male : female =      2.4 : 1.0\n",
      "                preffix2 = 'to'             male : female =      2.4 : 1.0\n",
      "                 suffix2 = 'de'           female : male   =      2.4 : 1.0\n",
      "                 suffix2 = 'ai'             male : female =      2.3 : 1.0\n",
      "                 suffix2 = 'ur'             male : female =      2.3 : 1.0\n",
      "                 suffix2 = 'ou'             male : female =      2.3 : 1.0\n",
      "             firstletter = 'x'              male : female =      2.3 : 1.0\n",
      "                preffix2 = 'ab'             male : female =      2.3 : 1.0\n",
      "                preffix2 = 'ga'             male : female =      2.3 : 1.0\n",
      "                preffix2 = 'am'           female : male   =      2.3 : 1.0\n",
      "                preffix2 = 'ri'             male : female =      2.3 : 1.0\n",
      "                preffix2 = 'wi'             male : female =      2.2 : 1.0\n",
      "                 suffix2 = 'ay'             male : female =      2.2 : 1.0\n",
      "             firstletter = 'k'            female : male   =      2.2 : 1.0\n",
      "                 suffix2 = 'ae'           female : male   =      2.2 : 1.0\n",
      "                preffix2 = 'ev'           female : male   =      2.2 : 1.0\n",
      "                 suffix2 = 'at'             male : female =      2.2 : 1.0\n",
      "                preffix2 = 'me'           female : male   =      2.1 : 1.0\n",
      "                preffix2 = 'ja'           female : male   =      2.1 : 1.0\n",
      "              lastletter = 'n'              male : female =      2.1 : 1.0\n",
      "                 suffix2 = 'se'           female : male   =      2.1 : 1.0\n",
      "             firstletter = 'h'              male : female =      2.1 : 1.0\n",
      "                preffix2 = 'st'             male : female =      2.1 : 1.0\n",
      "                preffix2 = 'bl'           female : male   =      2.0 : 1.0\n",
      "                preffix2 = 'lo'           female : male   =      2.0 : 1.0\n",
      "                preffix2 = 'do'           female : male   =      2.0 : 1.0\n",
      "                count(i) = 2              female : male   =      2.0 : 1.0\n",
      "                 suffix2 = 'vy'             male : female =      2.0 : 1.0\n",
      "                preffix2 = 'ur'             male : female =      1.9 : 1.0\n",
      "              lastletter = 'l'              male : female =      1.9 : 1.0\n",
      "                preffix2 = 'el'           female : male   =      1.9 : 1.0\n",
      "                preffix2 = 'en'             male : female =      1.9 : 1.0\n",
      "                preffix2 = 'kr'           female : male   =      1.9 : 1.0\n",
      "                preffix2 = 'cr'           female : male   =      1.9 : 1.0\n",
      "                 suffix2 = 'le'           female : male   =      1.9 : 1.0\n",
      "                preffix2 = 'pr'             male : female =      1.9 : 1.0\n",
      "                preffix2 = 'hi'             male : female =      1.8 : 1.0\n",
      "                preffix2 = 'au'           female : male   =      1.8 : 1.0\n",
      "                preffix2 = 'an'           female : male   =      1.8 : 1.0\n",
      "              lastletter = 'e'            female : male   =      1.8 : 1.0\n",
      "                 suffix2 = 'nn'           female : male   =      1.8 : 1.0\n",
      "                 suffix2 = 'jo'           female : male   =      1.8 : 1.0\n",
      "                preffix2 = 'zi'           female : male   =      1.8 : 1.0\n",
      "                preffix2 = 'im'           female : male   =      1.8 : 1.0\n"
     ]
    }
   ],
   "source": [
    "# Show important features\n",
    "classifier.show_most_informative_features(200)"
   ]
  },
  {
   "cell_type": "code",
   "execution_count": 15,
   "metadata": {},
   "outputs": [],
   "source": [
    "# Check errors\n",
    "errors = []\n",
    "for (name, tag) in devtest_set:\n",
    "    guess = classifier.classify(gender_features2(name))\n",
    "    if guess != tag:\n",
    "        errors.append( (tag, guess, name) )\n"
   ]
  },
  {
   "cell_type": "code",
   "execution_count": 16,
   "metadata": {},
   "outputs": [
    {
     "name": "stdout",
     "output_type": "stream",
     "text": [
      "correct=female   guess=male     name=Avis                          \n",
      "correct=female   guess=male     name=Avril                         \n",
      "correct=female   guess=male     name=Bab                           \n",
      "correct=female   guess=male     name=Barry                         \n",
      "correct=female   guess=male     name=Betty                         \n",
      "correct=female   guess=male     name=Binny                         \n",
      "correct=female   guess=male     name=Bliss                         \n",
      "correct=female   guess=male     name=Brear                         \n",
      "correct=female   guess=male     name=Cameo                         \n",
      "correct=female   guess=male     name=Chris                         \n",
      "correct=female   guess=male     name=Cris                          \n",
      "correct=female   guess=male     name=Cyndy                         \n",
      "correct=female   guess=male     name=Darb                          \n",
      "correct=female   guess=male     name=Dody                          \n",
      "correct=female   guess=male     name=Donny                         \n",
      "correct=female   guess=male     name=Dorolice                      \n",
      "correct=female   guess=male     name=Dove                          \n",
      "correct=female   guess=male     name=Dulcy                         \n",
      "correct=female   guess=male     name=Francis                       \n",
      "correct=female   guess=male     name=Gale                          \n",
      "correct=female   guess=male     name=Grethel                       \n",
      "correct=female   guess=male     name=Hannis                        \n",
      "correct=female   guess=male     name=Hedwig                        \n",
      "correct=female   guess=male     name=Hildagard                     \n",
      "correct=female   guess=male     name=Honor                         \n",
      "correct=female   guess=male     name=Ines                          \n",
      "correct=female   guess=male     name=Ingaborg                      \n",
      "correct=female   guess=male     name=Ingrid                        \n",
      "correct=female   guess=male     name=Janot                         \n",
      "correct=female   guess=male     name=Jenn                          \n",
      "correct=female   guess=male     name=Jenny                         \n",
      "correct=female   guess=male     name=Jordan                        \n",
      "correct=female   guess=male     name=Joyce                         \n",
      "correct=female   guess=male     name=Kip                           \n",
      "correct=female   guess=male     name=Korney                        \n",
      "correct=female   guess=male     name=Mel                           \n",
      "correct=female   guess=male     name=Melisent                      \n",
      "correct=female   guess=male     name=Michell                       \n",
      "correct=female   guess=male     name=Myriam                        \n",
      "correct=female   guess=male     name=Nerty                         \n",
      "correct=female   guess=male     name=Pam                           \n",
      "correct=female   guess=male     name=Penelope                      \n",
      "correct=female   guess=male     name=Rayshell                      \n",
      "correct=female   guess=male     name=Robinett                      \n",
      "correct=female   guess=male     name=Roby                          \n",
      "correct=female   guess=male     name=Ronny                         \n",
      "correct=female   guess=male     name=Rozamond                      \n",
      "correct=female   guess=male     name=Salome                        \n",
      "correct=female   guess=male     name=Shannon                       \n",
      "correct=female   guess=male     name=Siobhan                       \n",
      "correct=female   guess=male     name=Sonny                         \n",
      "correct=female   guess=male     name=Stacy                         \n",
      "correct=female   guess=male     name=Star                          \n",
      "correct=female   guess=male     name=Storey                        \n",
      "correct=female   guess=male     name=Stormie                       \n",
      "correct=female   guess=male     name=Susann                        \n",
      "correct=female   guess=male     name=Tamar                         \n",
      "correct=female   guess=male     name=Terri-Jo                      \n",
      "correct=female   guess=male     name=Tomiko                        \n",
      "correct=female   guess=male     name=Tommy                         \n",
      "correct=female   guess=male     name=Tory                          \n",
      "correct=female   guess=male     name=Trish                         \n",
      "correct=female   guess=male     name=Ulrike                        \n",
      "correct=male     guess=female   name=Allin                         \n",
      "correct=male     guess=female   name=Angie                         \n",
      "correct=male     guess=female   name=Ansel                         \n",
      "correct=male     guess=female   name=Archie                        \n",
      "correct=male     guess=female   name=Benjamen                      \n",
      "correct=male     guess=female   name=Blayne                        \n",
      "correct=male     guess=female   name=Bobbie                        \n",
      "correct=male     guess=female   name=Caryl                         \n",
      "correct=male     guess=female   name=Cat                           \n",
      "correct=male     guess=female   name=Chaunce                       \n",
      "correct=male     guess=female   name=Chrissy                       \n",
      "correct=male     guess=female   name=Clemmie                       \n",
      "correct=male     guess=female   name=Darcy                         \n",
      "correct=male     guess=female   name=Daren                         \n",
      "correct=male     guess=female   name=Darien                        \n",
      "correct=male     guess=female   name=Davide                        \n",
      "correct=male     guess=female   name=Dougie                        \n",
      "correct=male     guess=female   name=Elisha                        \n",
      "correct=male     guess=female   name=Gere                          \n",
      "correct=male     guess=female   name=Glen                          \n",
      "correct=male     guess=female   name=Glenn                         \n",
      "correct=male     guess=female   name=Hari                          \n",
      "correct=male     guess=female   name=Jose                          \n",
      "correct=male     guess=female   name=Keene                         \n",
      "correct=male     guess=female   name=Keith                         \n",
      "correct=male     guess=female   name=Kelley                        \n",
      "correct=male     guess=female   name=Lane                          \n",
      "correct=male     guess=female   name=Marven                        \n",
      "correct=male     guess=female   name=Meredeth                      \n",
      "correct=male     guess=female   name=Michail                       \n",
      "correct=male     guess=female   name=Micheal                       \n",
      "correct=male     guess=female   name=Mitchel                       \n",
      "correct=male     guess=female   name=Moishe                        \n",
      "correct=male     guess=female   name=Mordecai                      \n",
      "correct=male     guess=female   name=Mortie                        \n",
      "correct=male     guess=female   name=Nathanial                     \n",
      "correct=male     guess=female   name=Nathaniel                     \n",
      "correct=male     guess=female   name=Nealy                         \n",
      "correct=male     guess=female   name=Niki                          \n",
      "correct=male     guess=female   name=Richie                        \n",
      "correct=male     guess=female   name=Roddie                        \n",
      "correct=male     guess=female   name=Sawyere                       \n",
      "correct=male     guess=female   name=Si                            \n",
      "correct=male     guess=female   name=Siddhartha                    \n",
      "correct=male     guess=female   name=Vale                          \n",
      "correct=male     guess=female   name=Zackariah                     \n"
     ]
    }
   ],
   "source": [
    "for (tag, guess, name) in sorted(errors): # doctest: +ELLIPSIS +NORMALIZE_WHITESPACE\n",
    "    print('correct=%-8s guess=%-8s name=%-30s' % (tag, guess, name))\n"
   ]
  },
  {
   "cell_type": "code",
   "execution_count": 17,
   "metadata": {},
   "outputs": [
    {
     "name": "stdout",
     "output_type": "stream",
     "text": [
      "Error count:  109\n"
     ]
    }
   ],
   "source": [
    "print(\"Error count: \", len(errors))"
   ]
  },
  {
   "cell_type": "markdown",
   "metadata": {},
   "source": [
    "## Classifier - DecisionTree"
   ]
  },
  {
   "cell_type": "code",
   "execution_count": 18,
   "metadata": {},
   "outputs": [
    {
     "name": "stdout",
     "output_type": "stream",
     "text": [
      "train_set:  0.9362039170506913\n",
      "test_set:  0.742\n",
      "devtest_set:  0.736\n"
     ]
    }
   ],
   "source": [
    "classifier_tree = nltk.DecisionTreeClassifier.train(train_set_fe)\n",
    "\n",
    "print(\"train_set: \", nltk.classify.accuracy(classifier_tree, train_set_fe))\n",
    "print(\"test_set: \", nltk.classify.accuracy(classifier_tree, test_set_fe))\n",
    "print(\"devtest_set: \", nltk.classify.accuracy(classifier_tree, devtest_set_fe))"
   ]
  },
  {
   "cell_type": "code",
   "execution_count": 19,
   "metadata": {
    "collapsed": true
   },
   "outputs": [],
   "source": [
    "errors2 = []\n",
    "for (name, tag) in devtest_set:\n",
    "    guess = classifier_tree.classify(gender_features2(name))\n",
    "    if guess != tag:\n",
    "        errors2.append( (tag, guess, name) )\n"
   ]
  },
  {
   "cell_type": "code",
   "execution_count": 20,
   "metadata": {},
   "outputs": [
    {
     "name": "stdout",
     "output_type": "stream",
     "text": [
      "correct=female   guess=male     name=Avis                          \n",
      "correct=female   guess=male     name=Avril                         \n",
      "correct=female   guess=male     name=Bab                           \n",
      "correct=female   guess=male     name=Barry                         \n",
      "correct=female   guess=male     name=Betty                         \n",
      "correct=female   guess=male     name=Binny                         \n",
      "correct=female   guess=male     name=Bliss                         \n",
      "correct=female   guess=male     name=Brear                         \n",
      "correct=female   guess=male     name=Cameo                         \n",
      "correct=female   guess=male     name=Chris                         \n",
      "correct=female   guess=male     name=Cris                          \n",
      "correct=female   guess=male     name=Cyndy                         \n",
      "correct=female   guess=male     name=Darb                          \n",
      "correct=female   guess=male     name=Dody                          \n",
      "correct=female   guess=male     name=Donny                         \n",
      "correct=female   guess=male     name=Dorolice                      \n",
      "correct=female   guess=male     name=Dove                          \n",
      "correct=female   guess=male     name=Dulcy                         \n",
      "correct=female   guess=male     name=Francis                       \n",
      "correct=female   guess=male     name=Gale                          \n",
      "correct=female   guess=male     name=Grethel                       \n",
      "correct=female   guess=male     name=Hannis                        \n",
      "correct=female   guess=male     name=Hedwig                        \n",
      "correct=female   guess=male     name=Hildagard                     \n",
      "correct=female   guess=male     name=Honor                         \n",
      "correct=female   guess=male     name=Ines                          \n",
      "correct=female   guess=male     name=Ingaborg                      \n",
      "correct=female   guess=male     name=Ingrid                        \n",
      "correct=female   guess=male     name=Janot                         \n",
      "correct=female   guess=male     name=Jenn                          \n",
      "correct=female   guess=male     name=Jenny                         \n",
      "correct=female   guess=male     name=Jordan                        \n",
      "correct=female   guess=male     name=Joyce                         \n",
      "correct=female   guess=male     name=Kip                           \n",
      "correct=female   guess=male     name=Korney                        \n",
      "correct=female   guess=male     name=Mel                           \n",
      "correct=female   guess=male     name=Melisent                      \n",
      "correct=female   guess=male     name=Michell                       \n",
      "correct=female   guess=male     name=Myriam                        \n",
      "correct=female   guess=male     name=Nerty                         \n",
      "correct=female   guess=male     name=Pam                           \n",
      "correct=female   guess=male     name=Penelope                      \n",
      "correct=female   guess=male     name=Rayshell                      \n",
      "correct=female   guess=male     name=Robinett                      \n",
      "correct=female   guess=male     name=Roby                          \n",
      "correct=female   guess=male     name=Ronny                         \n",
      "correct=female   guess=male     name=Rozamond                      \n",
      "correct=female   guess=male     name=Salome                        \n",
      "correct=female   guess=male     name=Shannon                       \n",
      "correct=female   guess=male     name=Siobhan                       \n",
      "correct=female   guess=male     name=Sonny                         \n",
      "correct=female   guess=male     name=Stacy                         \n",
      "correct=female   guess=male     name=Star                          \n",
      "correct=female   guess=male     name=Storey                        \n",
      "correct=female   guess=male     name=Stormie                       \n",
      "correct=female   guess=male     name=Susann                        \n",
      "correct=female   guess=male     name=Tamar                         \n",
      "correct=female   guess=male     name=Terri-Jo                      \n",
      "correct=female   guess=male     name=Tomiko                        \n",
      "correct=female   guess=male     name=Tommy                         \n",
      "correct=female   guess=male     name=Tory                          \n",
      "correct=female   guess=male     name=Trish                         \n",
      "correct=female   guess=male     name=Ulrike                        \n",
      "correct=male     guess=female   name=Allin                         \n",
      "correct=male     guess=female   name=Angie                         \n",
      "correct=male     guess=female   name=Ansel                         \n",
      "correct=male     guess=female   name=Archie                        \n",
      "correct=male     guess=female   name=Benjamen                      \n",
      "correct=male     guess=female   name=Blayne                        \n",
      "correct=male     guess=female   name=Bobbie                        \n",
      "correct=male     guess=female   name=Caryl                         \n",
      "correct=male     guess=female   name=Cat                           \n",
      "correct=male     guess=female   name=Chaunce                       \n",
      "correct=male     guess=female   name=Chrissy                       \n",
      "correct=male     guess=female   name=Clemmie                       \n",
      "correct=male     guess=female   name=Darcy                         \n",
      "correct=male     guess=female   name=Daren                         \n",
      "correct=male     guess=female   name=Darien                        \n",
      "correct=male     guess=female   name=Davide                        \n",
      "correct=male     guess=female   name=Dougie                        \n",
      "correct=male     guess=female   name=Elisha                        \n",
      "correct=male     guess=female   name=Gere                          \n",
      "correct=male     guess=female   name=Glen                          \n",
      "correct=male     guess=female   name=Glenn                         \n",
      "correct=male     guess=female   name=Hari                          \n",
      "correct=male     guess=female   name=Jose                          \n",
      "correct=male     guess=female   name=Keene                         \n",
      "correct=male     guess=female   name=Keith                         \n",
      "correct=male     guess=female   name=Kelley                        \n",
      "correct=male     guess=female   name=Lane                          \n",
      "correct=male     guess=female   name=Marven                        \n",
      "correct=male     guess=female   name=Meredeth                      \n",
      "correct=male     guess=female   name=Michail                       \n",
      "correct=male     guess=female   name=Micheal                       \n",
      "correct=male     guess=female   name=Mitchel                       \n",
      "correct=male     guess=female   name=Moishe                        \n",
      "correct=male     guess=female   name=Mordecai                      \n",
      "correct=male     guess=female   name=Mortie                        \n",
      "correct=male     guess=female   name=Nathanial                     \n",
      "correct=male     guess=female   name=Nathaniel                     \n",
      "correct=male     guess=female   name=Nealy                         \n",
      "correct=male     guess=female   name=Niki                          \n",
      "correct=male     guess=female   name=Richie                        \n",
      "correct=male     guess=female   name=Roddie                        \n",
      "correct=male     guess=female   name=Sawyere                       \n",
      "correct=male     guess=female   name=Si                            \n",
      "correct=male     guess=female   name=Siddhartha                    \n",
      "correct=male     guess=female   name=Vale                          \n",
      "correct=male     guess=female   name=Zackariah                     \n"
     ]
    }
   ],
   "source": [
    "for (tag, guess, name) in sorted(errors): # doctest: +ELLIPSIS +NORMALIZE_WHITESPACE\n",
    "    print('correct=%-8s guess=%-8s name=%-30s' % (tag, guess, name))"
   ]
  },
  {
   "cell_type": "code",
   "execution_count": 21,
   "metadata": {},
   "outputs": [
    {
     "name": "stdout",
     "output_type": "stream",
     "text": [
      "Error count\n"
     ]
    },
    {
     "data": {
      "text/plain": [
       "132"
      ]
     },
     "execution_count": 21,
     "metadata": {},
     "output_type": "execute_result"
    }
   ],
   "source": [
    "print(\"Error count\")\n",
    "len(errors2)"
   ]
  },
  {
   "cell_type": "markdown",
   "metadata": {},
   "source": [
    "## Features - B"
   ]
  },
  {
   "cell_type": "code",
   "execution_count": 22,
   "metadata": {
    "collapsed": true
   },
   "outputs": [],
   "source": [
    "def gender_features(name):\n",
    "    name = name.lower()\n",
    "    return{\n",
    "        'first_letter': name[0],\n",
    "        'first2_letter': name[0:2],\n",
    "        'first3_letter': name[0:3],\n",
    "        'last_letter': name[-1],\n",
    "        'last2_letter': name[-2:],\n",
    "        'last3_letter': name[-3:],\n",
    "        'last_vowel': (name[-1] in 'aeiou')\n",
    "    }"
   ]
  },
  {
   "cell_type": "code",
   "execution_count": 23,
   "metadata": {},
   "outputs": [
    {
     "data": {
      "text/plain": [
       "{'first2_letter': 'ro',\n",
       " 'first3_letter': 'ros',\n",
       " 'first_letter': 'r',\n",
       " 'last2_letter': 'se',\n",
       " 'last3_letter': 'ose',\n",
       " 'last_letter': 'e',\n",
       " 'last_vowel': True}"
      ]
     },
     "execution_count": 23,
     "metadata": {},
     "output_type": "execute_result"
    }
   ],
   "source": [
    "gender_features(\"Rose\")"
   ]
  },
  {
   "cell_type": "markdown",
   "metadata": {},
   "source": [
    "## Vectorize"
   ]
  },
  {
   "cell_type": "code",
   "execution_count": 24,
   "metadata": {},
   "outputs": [
    {
     "name": "stdout",
     "output_type": "stream",
     "text": [
      "[ {'first_letter': 'r', 'first2_letter': 'ro', 'first3_letter': 'ros', 'last_letter': 'e', 'last2_letter': 'se', 'last3_letter': 'ose', 'last_vowel': True}\n",
      " {'first_letter': 'm', 'first2_letter': 'mi', 'first3_letter': 'mik', 'last_letter': 'e', 'last2_letter': 'ke', 'last3_letter': 'ike', 'last_vowel': True}]\n"
     ]
    }
   ],
   "source": [
    "import numpy as np\n",
    "features = np.vectorize(gender_features)\n",
    "print(features(['Rose', 'Mike']))"
   ]
  },
  {
   "cell_type": "code",
   "execution_count": 25,
   "metadata": {},
   "outputs": [
    {
     "name": "stdout",
     "output_type": "stream",
     "text": [
      "Name: Ephraim, features={'first_letter': 'e', 'first2_letter': 'ep', 'first3_letter': 'eph', 'last_letter': 'm', 'last2_letter': 'im', 'last3_letter': 'aim', 'last_vowel': False}, gender=male\n"
     ]
    }
   ],
   "source": [
    "# Extract the features for entire dataset\n",
    "X = np.array(features(names))[:, 0] # X contains the features\n",
    "\n",
    "# Get the gender column\n",
    "y = np.array(names)[:, 1]           # y contains the targets\n",
    "\n",
    "print(\"Name: %s, features=%s, gender=%s\" % (names[0][0], X[0], y[0]))"
   ]
  },
  {
   "cell_type": "code",
   "execution_count": 26,
   "metadata": {},
   "outputs": [
    {
     "name": "stdout",
     "output_type": "stream",
     "text": [
      "test:  500\n",
      "devtest:  500\n",
      "train:  6944\n"
     ]
    }
   ],
   "source": [
    "# Shuffle and split:  train, dev-test, test \n",
    "from sklearn.utils import shuffle\n",
    "X,y = shuffle(X,y)\n",
    "\n",
    "X_test, X_dev_test, X_train = X[:500], X[500:1000], X[1000:]\n",
    "y_test, y_dev_test, y_train = y[:500], y[500:1000], y[1000:]\n",
    "\n",
    "print(\"test: \" , len(X_test))\n",
    "print(\"devtest: \", len(X_dev_test))\n",
    "print(\"train: \", len(X_train))"
   ]
  },
  {
   "cell_type": "code",
   "execution_count": 27,
   "metadata": {},
   "outputs": [
    {
     "name": "stdout",
     "output_type": "stream",
     "text": [
      "[ {'first_letter': 'r', 'first2_letter': 'ro', 'first3_letter': 'ros', 'last_letter': 'e', 'last2_letter': 'se', 'last3_letter': 'ose', 'last_vowel': True}\n",
      " {'first_letter': 'm', 'first2_letter': 'mi', 'first3_letter': 'mik', 'last_letter': 'e', 'last2_letter': 'ke', 'last3_letter': 'ike', 'last_vowel': True}]\n",
      "  (0, 169)\t1.0\n",
      "  (0, 1225)\t1.0\n",
      "  (0, 1525)\t1.0\n",
      "  (0, 1740)\t1.0\n",
      "  (0, 2683)\t1.0\n",
      "  (0, 3144)\t1.0\n",
      "  (0, 3165)\t1.0\n",
      "  (1, 130)\t1.0\n",
      "  (1, 1007)\t1.0\n",
      "  (1, 1520)\t1.0\n",
      "  (1, 1654)\t1.0\n",
      "  (1, 2284)\t1.0\n",
      "  (1, 3144)\t1.0\n",
      "  (1, 3165)\t1.0\n",
      "<class 'scipy.sparse.csr.csr_matrix'>\n",
      "0.0\n",
      "first2_letter=ap\n"
     ]
    }
   ],
   "source": [
    "from sklearn.feature_extraction import DictVectorizer\n",
    "\n",
    "print(features(['Rose', 'Mike']))\n",
    "\n",
    "vectorizer = DictVectorizer()\n",
    "vectorizer.fit(X_train)\n",
    "\n",
    "transform = vectorizer.transform(features(['Rose', 'Mike']))\n",
    "print(transform)\n",
    "print(type(transform))\n",
    "print(transform.toarray()[0][12])\n",
    "print(vectorizer.feature_names_[12])"
   ]
  },
  {
   "cell_type": "markdown",
   "metadata": {},
   "source": [
    "## Classifier - DecisionTree"
   ]
  },
  {
   "cell_type": "code",
   "execution_count": 28,
   "metadata": {},
   "outputs": [
    {
     "data": {
      "text/plain": [
       "DecisionTreeClassifier(class_weight=None, criterion='gini', max_depth=None,\n",
       "            max_features=None, max_leaf_nodes=None,\n",
       "            min_impurity_decrease=0.0, min_impurity_split=None,\n",
       "            min_samples_leaf=1, min_samples_split=2,\n",
       "            min_weight_fraction_leaf=0.0, presort=False, random_state=None,\n",
       "            splitter='best')"
      ]
     },
     "execution_count": 28,
     "metadata": {},
     "output_type": "execute_result"
    }
   ],
   "source": [
    "from sklearn.tree import DecisionTreeClassifier\n",
    " \n",
    "DT_classifier = DecisionTreeClassifier()\n",
    "\n",
    "DT_classifier.fit(vectorizer.transform(X_train), y_train)"
   ]
  },
  {
   "cell_type": "code",
   "execution_count": 29,
   "metadata": {},
   "outputs": [
    {
     "name": "stdout",
     "output_type": "stream",
     "text": [
      "['male' 'female']\n"
     ]
    }
   ],
   "source": [
    "print(DT_classifier.predict(vectorizer.transform(features([\"Sebastian\", \"Amy\"]))))"
   ]
  },
  {
   "cell_type": "code",
   "execution_count": 30,
   "metadata": {},
   "outputs": [
    {
     "name": "stdout",
     "output_type": "stream",
     "text": [
      "Accuracy on training set:  0.958381336406\n",
      "Accuracy on dev-test set:  0.77\n",
      "Accuracy on test set:  0.77\n"
     ]
    }
   ],
   "source": [
    "# Accuracy\n",
    "print(\"Accuracy on training set: \", DT_classifier.score(vectorizer.transform(X_train), y_train))\n",
    "print(\"Accuracy on dev-test set: \",DT_classifier.score(vectorizer.transform(X_dev_test), y_dev_test))\n",
    "print(\"Accuracy on test set: \",DT_classifier.score(vectorizer.transform(X_test), y_test))\n"
   ]
  },
  {
   "cell_type": "markdown",
   "metadata": {},
   "source": [
    "## Conclusion"
   ]
  },
  {
   "cell_type": "markdown",
   "metadata": {},
   "source": [
    "* How does the performance on the test set compare to the performance on the dev-test set? Is this what you'd expect?"
   ]
  },
  {
   "cell_type": "markdown",
   "metadata": {},
   "source": [
    "The performance on the test set is lower compare to that of the dev-test set.  As we optimize against the dev-test set, we are likely to create overfitting and generalizing the outcome to the model will be ineffective as the test set is a new dataset for the model.  The training accuracy is higher as the model performs better on the data it has experienced before compared to the data it has not."
   ]
  },
  {
   "cell_type": "markdown",
   "metadata": {},
   "source": [
    "# Source\n",
    "\n",
    "https://www.nltk.org/book/ch06.html"
   ]
  },
  {
   "cell_type": "code",
   "execution_count": null,
   "metadata": {
    "collapsed": true
   },
   "outputs": [],
   "source": []
  }
 ],
 "metadata": {
  "kernelspec": {
   "display_name": "Python 3",
   "language": "python",
   "name": "python3"
  },
  "language_info": {
   "codemirror_mode": {
    "name": "ipython",
    "version": 3
   },
   "file_extension": ".py",
   "mimetype": "text/x-python",
   "name": "python",
   "nbconvert_exporter": "python",
   "pygments_lexer": "ipython3",
   "version": "3.6.2"
  }
 },
 "nbformat": 4,
 "nbformat_minor": 2
}
