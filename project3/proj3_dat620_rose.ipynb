{
 "cells": [
  {
   "cell_type": "markdown",
   "metadata": {},
   "source": [
    "## Project 3: Gender Name Classifier\n",
    "## CUNY MSDS DATA 620 Web Analytics, CUNY Spring 2018\n",
    "---\n",
    "### Team5: Christopher Estevez, Meaghan Burke, Rickidon Singh,  Ritesh Lohiya, Rose Koh\n",
    "### 07/09/2018 (due date)\n",
    "##### python version: 3.6\n",
    "---\n"
   ]
  },
  {
   "cell_type": "markdown",
   "metadata": {},
   "source": [
    "<h2> Assignment Details </h2>\n",
    "\n",
    "For this project, please work with the entire class as one collaborative group!Your project should be\n",
    "submitted (as a Jupyter Notebook via GitHub) by end of the due date. The group should present their\n",
    "code and findings in our meetup.\n",
    "\n",
    "<i>The ability to be an effective member of a virtual team is highly valued in the data science job market. </i>\n",
    "\n",
    "\n",
    "-------------------------------------------------------------------------------------------------------------\n",
    "\n",
    "Using any of the three classifiers described in chapter 6 of <b>Natural Language Processing with Python</b>,\n",
    "and any features you can think of, *build the best name gender classifier* you can.\n",
    "\n",
    "Begin by splitting the Names Corpus into three subsets: 500 words for the test set, 500 words for the devtest\n",
    "set, and the remaining 6900 words for the training set. Then, starting with the example name gender\n",
    "classifier, make incremental improvements. Use the dev-test set to check your progress. Once you are\n",
    "satisfied with your classifier, check its final performance on the test set.\n",
    "\n",
    "How does the performance on the test set compare to the performance on the dev-test set? Is this what\n",
    "you'd expect?\n",
    "\n",
    "Source: Natural Language Processing with Python, exercise 6.10.2.\n",
    "\n"
   ]
  },
  {
   "cell_type": "code",
   "execution_count": 1,
   "metadata": {},
   "outputs": [
    {
     "name": "stdout",
     "output_type": "stream",
     "text": [
      "[nltk_data] Downloading package names to /Users/rosekoh/nltk_data...\n",
      "[nltk_data]   Package names is already up-to-date!\n"
     ]
    },
    {
     "data": {
      "text/plain": [
       "True"
      ]
     },
     "execution_count": 1,
     "metadata": {},
     "output_type": "execute_result"
    }
   ],
   "source": [
    "#import nltk\n",
    "#nltk.download('names')"
   ]
  },
  {
   "cell_type": "code",
   "execution_count": 2,
   "metadata": {
    "collapsed": true
   },
   "outputs": [],
   "source": [
    "from nltk.corpus import names\n",
    "import random\n",
    "from nltk.classify import apply_features\n",
    "\n",
    "#get data\n",
    "names = ([(name, 'male') for name in names.words('male.txt')] +\n",
    "[(name, 'female') for name in names.words('female.txt')])\n",
    "random.shuffle(names)"
   ]
  },
  {
   "cell_type": "code",
   "execution_count": 3,
   "metadata": {},
   "outputs": [
    {
     "data": {
      "text/plain": [
       "[('Rahal', 'female'),\n",
       " ('Joannes', 'female'),\n",
       " ('Loreen', 'female'),\n",
       " ('Chelsae', 'female'),\n",
       " ('Dasie', 'female'),\n",
       " ('Imelda', 'female'),\n",
       " ('Hank', 'male'),\n",
       " ('Kostas', 'male'),\n",
       " ('Ulberto', 'male'),\n",
       " ('Elyse', 'female')]"
      ]
     },
     "execution_count": 3,
     "metadata": {},
     "output_type": "execute_result"
    }
   ],
   "source": [
    "names[0:10]"
   ]
  },
  {
   "cell_type": "code",
   "execution_count": 76,
   "metadata": {
    "collapsed": true
   },
   "outputs": [],
   "source": [
    "#from NLP page 223 and modified for optimization\n",
    "def gender_features(name):\n",
    "    name = name.lower()\n",
    "    return{\n",
    "        'first_letter': name[0],\n",
    "        'first2_letter': name[0:2],\n",
    "        'first3_letter': name[0:3],\n",
    "        'last_letter': name[-1],\n",
    "        'last2_letter': name[-2:],\n",
    "        'last3_letter': name[-3:],\n",
    "        'last_vowel': (name[-1] in 'aeiou')\n",
    "    }"
   ]
  },
  {
   "cell_type": "code",
   "execution_count": 78,
   "metadata": {},
   "outputs": [
    {
     "data": {
      "text/plain": [
       "{'first2_letter': 'ro',\n",
       " 'first3_letter': 'ros',\n",
       " 'first_letter': 'r',\n",
       " 'last2_letter': 'se',\n",
       " 'last3_letter': 'ose',\n",
       " 'last_letter': 'e',\n",
       " 'last_vowel': True}"
      ]
     },
     "execution_count": 78,
     "metadata": {},
     "output_type": "execute_result"
    }
   ],
   "source": [
    "gender_features(\"Rose\")"
   ]
  },
  {
   "cell_type": "code",
   "execution_count": 103,
   "metadata": {},
   "outputs": [
    {
     "name": "stdout",
     "output_type": "stream",
     "text": [
      "[ {'first_letter': 'r', 'first2_letter': 'ro', 'first3_letter': 'ros', 'last_letter': 'e', 'last2_letter': 'se', 'last3_letter': 'ose', 'last_vowel': True}\n",
      " {'first_letter': 'm', 'first2_letter': 'mi', 'first3_letter': 'mik', 'last_letter': 'e', 'last2_letter': 'ke', 'last3_letter': 'ike', 'last_vowel': True}]\n"
     ]
    }
   ],
   "source": [
    "# Vectorize the feature func\n",
    "import numpy as np\n",
    "features = np.vectorize(gender_features)\n",
    "print(features(['Rose', 'Mike']))"
   ]
  },
  {
   "cell_type": "code",
   "execution_count": 104,
   "metadata": {},
   "outputs": [
    {
     "name": "stdout",
     "output_type": "stream",
     "text": [
      "Name: Rahal, features={'first_letter': 'r', 'first2_letter': 'ra', 'first3_letter': 'rah', 'last_letter': 'l', 'last2_letter': 'al', 'last3_letter': 'hal', 'last_vowel': False}, gender=female\n"
     ]
    }
   ],
   "source": [
    "# Extract the features for entire dataset\n",
    "X = np.array(features(names))[:, 0] # X contains the features\n",
    "\n",
    "# Get the gender column\n",
    "y = np.array(names)[:, 1]           # y contains the targets\n",
    "\n",
    "print(\"Name: %s, features=%s, gender=%s\" % (names[0][0], X[0], y[0]))"
   ]
  },
  {
   "cell_type": "markdown",
   "metadata": {},
   "source": [
    "---------"
   ]
  },
  {
   "cell_type": "code",
   "execution_count": 105,
   "metadata": {},
   "outputs": [
    {
     "name": "stdout",
     "output_type": "stream",
     "text": [
      "test:  500\n",
      "devtest:  500\n",
      "train:  6944\n"
     ]
    }
   ],
   "source": [
    "# shuffle and split: train, dev-test, test \n",
    "from sklearn.utils import shuffle\n",
    "X,y = shuffle(X,y)\n",
    "\n",
    "X_test, X_dev_test, X_train = X[:500], X[500:1000], X[1000:]\n",
    "y_test, y_dev_test, y_train = y[:500], y[500:1000], y[1000:]\n",
    "\n",
    "print(\"test: \" , len(X_test))\n",
    "print(\"devtest: \", len(X_dev_test))\n",
    "print(\"train: \", len(X_train))"
   ]
  },
  {
   "cell_type": "code",
   "execution_count": 106,
   "metadata": {},
   "outputs": [
    {
     "name": "stdout",
     "output_type": "stream",
     "text": [
      "[ {'first_letter': 'r', 'first2_letter': 'ro', 'first3_letter': 'ros', 'last_letter': 'e', 'last2_letter': 'se', 'last3_letter': 'ose', 'last_vowel': True}\n",
      " {'first_letter': 'm', 'first2_letter': 'mi', 'first3_letter': 'mik', 'last_letter': 'e', 'last2_letter': 'ke', 'last3_letter': 'ike', 'last_vowel': True}]\n",
      "  (0, 169)\t1.0\n",
      "  (0, 1232)\t1.0\n",
      "  (0, 1529)\t1.0\n",
      "  (0, 1746)\t1.0\n",
      "  (0, 2688)\t1.0\n",
      "  (0, 3140)\t1.0\n",
      "  (0, 3161)\t1.0\n",
      "  (1, 130)\t1.0\n",
      "  (1, 1010)\t1.0\n",
      "  (1, 1524)\t1.0\n",
      "  (1, 1660)\t1.0\n",
      "  (1, 2293)\t1.0\n",
      "  (1, 3140)\t1.0\n",
      "  (1, 3161)\t1.0\n",
      "<class 'scipy.sparse.csr.csr_matrix'>\n",
      "0.0\n",
      "first2_letter=ap\n"
     ]
    }
   ],
   "source": [
    "from sklearn.feature_extraction import DictVectorizer\n",
    "\n",
    "print(features(['Rose', 'Mike']))\n",
    "\n",
    "vectorizer = DictVectorizer()\n",
    "vectorizer.fit(X_train)\n",
    "\n",
    "transform = vectorizer.transform(features(['Rose', 'Mike']))\n",
    "print(transform)\n",
    "print(type(transform))\n",
    "print(transform.toarray()[0][12])\n",
    "print(vectorizer.feature_names_[12])"
   ]
  },
  {
   "cell_type": "code",
   "execution_count": 107,
   "metadata": {},
   "outputs": [
    {
     "data": {
      "text/plain": [
       "DecisionTreeClassifier(class_weight=None, criterion='gini', max_depth=None,\n",
       "            max_features=None, max_leaf_nodes=None,\n",
       "            min_impurity_decrease=0.0, min_impurity_split=None,\n",
       "            min_samples_leaf=1, min_samples_split=2,\n",
       "            min_weight_fraction_leaf=0.0, presort=False, random_state=None,\n",
       "            splitter='best')"
      ]
     },
     "execution_count": 107,
     "metadata": {},
     "output_type": "execute_result"
    }
   ],
   "source": [
    "from sklearn.tree import DecisionTreeClassifier\n",
    " \n",
    "DT_classifier = DecisionTreeClassifier()\n",
    "DT_classifier.fit(vectorizer.transform(X_train), y_train)"
   ]
  },
  {
   "cell_type": "code",
   "execution_count": 108,
   "metadata": {},
   "outputs": [
    {
     "name": "stdout",
     "output_type": "stream",
     "text": [
      "['male' 'female']\n"
     ]
    }
   ],
   "source": [
    "print(DT_classifier.predict(vectorizer.transform(features([\"Sebastian\", \"Amy\"]))))"
   ]
  },
  {
   "cell_type": "code",
   "execution_count": 112,
   "metadata": {},
   "outputs": [
    {
     "name": "stdout",
     "output_type": "stream",
     "text": [
      "Accuracy on training set:  0.957661290323\n",
      "Accuracy on dev-test set:  0.796\n",
      "Accuracy on test set:  0.776\n"
     ]
    }
   ],
   "source": [
    "print(\"Accuracy on training set: \", DT_classifier.score(vectorizer.transform(X_train), y_train))\n",
    "print(\"Accuracy on dev-test set: \",DT_classifier.score(vectorizer.transform(X_dev_test), y_dev_test))\n",
    "print(\"Accuracy on test set: \",DT_classifier.score(vectorizer.transform(X_test), y_test))\n"
   ]
  },
  {
   "cell_type": "markdown",
   "metadata": {},
   "source": [
    "---------"
   ]
  },
  {
   "cell_type": "markdown",
   "metadata": {},
   "source": [
    "* How does the performance on the test set compare to the performance on the dev-test set? \n",
    "  Is this what you'd expect?\n",
    "\n",
    "The accuracy \n",
    "\n",
    "As we optimize against the dev-test set, the prformance is going to be lower. \n",
    "It is generally going to be lower, because we are going to be optimizing against the dev-test set, which means we will probably be overfitting a little and our results will not generalize well to data our model hasn't seen before (the test set). However, if we are doing a good job and not overfitting too much, it won't be significantly lower.\n",
    "\n",
    "The dev-test set has an accuracy roughly in the range of 0.784 to 0.826. The test set has a range from 0.786 to 0.822, which is pretty similar. However, the training accuracy is higher (e.g., 0.828), which is what we would expect, since our model should perform better on data it has seen compared with data it hasn't seen."
   ]
  },
  {
   "cell_type": "code",
   "execution_count": null,
   "metadata": {
    "collapsed": true
   },
   "outputs": [],
   "source": []
  }
 ],
 "metadata": {
  "kernelspec": {
   "display_name": "Python 3",
   "language": "python",
   "name": "python3"
  },
  "language_info": {
   "codemirror_mode": {
    "name": "ipython",
    "version": 3
   },
   "file_extension": ".py",
   "mimetype": "text/x-python",
   "name": "python",
   "nbconvert_exporter": "python",
   "pygments_lexer": "ipython3",
   "version": "3.6.2"
  }
 },
 "nbformat": 4,
 "nbformat_minor": 2
}
