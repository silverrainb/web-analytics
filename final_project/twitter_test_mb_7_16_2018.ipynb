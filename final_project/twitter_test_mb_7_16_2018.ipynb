{
 "cells": [
  {
   "cell_type": "markdown",
   "metadata": {},
   "source": [
    "# <center>Team 5 - Final Project</center>\n",
    "## <center>DATA 620 - Web Analytics - Summer 2018</center>\n",
    "## <center>Final Project</center>\n",
    "### Christopher Estevez, Meaghan Burke, Rickidon Singh,  Ritesh Lohiya, Rose Koh"
   ]
  },
  {
   "cell_type": "markdown",
   "metadata": {},
   "source": [
    "### @jimmyfallon: A Twitter Sentiment and Network Analysis\n",
    "\n",
    "#### Introduction:\n",
    "\n",
    "Jimmy Fallon is a comedian known for his work on Saturday Night Live and as the host of late-night talk show The Tonight Show Starring Jimmy Fallon. Jimmy Fallon's Twitter handle, **@jimmyfallon**, is the 20th most followed account on twitter with 50.2 million followers. For the final project, team 5 will employ Data 620 concepts to understand the overall tweet sentiment and social network influence of a **@jimmyfallon**.  \n",
    "\n",
    "#### Hypothesis:\n",
    "- Team 5 is expecting the tweet sentiment analysis for **@jimmyfallon** to be mostly positive due to his occupation as a comedian \n",
    "- Due to the size of his follower network and celebrity status, Team 5 is anticipating **@jimmyfallon** to have a relatively large influence\n",
    "\n",
    "#### Steps:\n",
    "\n",
    "    1) Mining Twitter\n",
    "    2) Convert the json object to a pandas dataframe\n",
    "    3) Text Frequency\n",
    "    4) Sentiment Analysis\n",
    "    6) Network Analysis\n"
   ]
  },
  {
   "cell_type": "code",
   "execution_count": 188,
   "metadata": {},
   "outputs": [
    {
     "name": "stderr",
     "output_type": "stream",
     "text": [
      "Python 2.7.14 :: Anaconda custom (64-bit)\n"
     ]
    }
   ],
   "source": [
    "!python --version\n",
    "#https://stackoverflow.com/questions/34168019/how-to-use-3to2"
   ]
  },
  {
   "cell_type": "markdown",
   "metadata": {},
   "source": [
    "### 1) Mining Twitter\n",
    "\n",
    "#### 1.1) Authorizing an application for access to twitter "
   ]
  },
  {
   "cell_type": "code",
   "execution_count": 189,
   "metadata": {},
   "outputs": [],
   "source": [
    "from tw_cred import * # import your own credential\n",
    "import tweepy\n",
    "\n",
    "consumer_key = consumer_key\n",
    "consumer_secret = consumer_secret\n",
    "access_token = access_token\n",
    "access_token_secret = access_token_secret\n",
    "\n",
    "\n",
    "auth = tweepy.OAuthHandler(consumer_key, consumer_secret)\n",
    "auth.set_access_token(access_token, access_token_secret)\n",
    "api = tweepy.API(auth,wait_on_rate_limit=True)"
   ]
  },
  {
   "cell_type": "markdown",
   "metadata": {},
   "source": [
    "####  1.2) Get @jimmyfallon tweet data using api.user_timeline()\n"
   ]
  },
  {
   "cell_type": "code",
   "execution_count": 190,
   "metadata": {},
   "outputs": [],
   "source": [
    "import sys\n",
    "import jsonpickle\n",
    "import os\n",
    "\n",
    "searchQuery = '@jimmyfallon' #'#someHashtag'  # this is what we're searching for\n",
    "maxTweets = 10000# Some arbitrary large number\n",
    "tweetsPerQry = 100 # this is the max the API permits\n",
    "fName = './data/tweets.txt' # We'll store the tweets in a text file..\n",
    "\n",
    "\n",
    "# If results from a specific ID onwards are reqd, set since_id to that ID.\n",
    "# else default to no lower limit, go as far back as API allows\n",
    "sinceId = None\n",
    "\n",
    "# If results only below a specific ID are, set max_id to that ID.\n",
    "# else default to no upper limit, start from the most recent tweet matching the search query.\n",
    "max_id=-1\n",
    "tweetCount = 0\n",
    "#print(\"Downloading max {0} tweets\".format(maxTweets))\n",
    "with open(fName, 'w') as f:\n",
    "    while tweetCount < maxTweets:\n",
    "        try:\n",
    "            if (max_id <= 0):\n",
    "                if (not sinceId):\n",
    "                    new_tweets = api.user_timeline(screen_name = searchQuery, # user_id=tweeters,\n",
    "                                include_rts=True,\n",
    "                                exclude_replies =False,\n",
    "                                count=tweetsPerQry)\n",
    "                else:\n",
    "                    new_tweets = api.user_timeline(screen_name = searchQuery, # user_id=tweeters,\n",
    "                                include_rts=True,\n",
    "                                exclude_replies =False,\n",
    "                                count=tweetsPerQry,\n",
    "                                max_id=str(max_id - 1),\n",
    "                                since_id=sinceId)\n",
    "            else:\n",
    "                if (not sinceId):\n",
    "                    new_tweets = api.user_timeline(screen_name = searchQuery, # user_id=tweeters,\n",
    "                                include_rts=True,\n",
    "                                exclude_replies =False, \n",
    "                                count=tweetsPerQry,\n",
    "                                max_id=str(max_id - 1))\n",
    "                else:\n",
    "                    new_tweets = api.user_timeline(screen_name = searchQuery, # user_id=tweeters,\n",
    "                                include_rts=True,\n",
    "                                exclude_replies =False, count=tweetsPerQry,\n",
    "                                            max_id=str(max_id - 1),\n",
    "                                            since_id=sinceId)\n",
    "            if not new_tweets:\n",
    "                #print(\"No more tweets found\")\n",
    "                break\n",
    "            for tweet in new_tweets:\n",
    "                f.write(jsonpickle.encode(tweet._json, unpicklable=False) +\n",
    "                        '\\n')\n",
    "            tweetCount += len(new_tweets)\n",
    "            #print(\"Downloaded {0} tweets\".format(tweetCount))\n",
    "            max_id = new_tweets[-1].id\n",
    "        except tweepy.TweepError as e:\n",
    "            # Just exit if any error\n",
    "            print(\"some error : \" + str(e))\n",
    "            break"
   ]
  },
  {
   "cell_type": "markdown",
   "metadata": {},
   "source": [
    "#### 1.3) Store tweets in a json object \n",
    "- load the json tweet data \n",
    "- Preliminary exploratory analysis of the json object \n",
    "   - Total tweets = 3,222\n",
    "   - Print sample json object  \n",
    "- Twitter stores tweet and user metadata such as user name, ID, creation date, user location, the number of re-tweets, etc.  This expansive data coverage will help team 5 understand the Twitter user's network and to measure **@jimmyfallon** relative influence within the network. \n"
   ]
  },
  {
   "cell_type": "code",
   "execution_count": 191,
   "metadata": {
    "collapsed": true
   },
   "outputs": [],
   "source": [
    "import json\n",
    "import pandas as pd"
   ]
  },
  {
   "cell_type": "code",
   "execution_count": 192,
   "metadata": {
    "collapsed": true
   },
   "outputs": [],
   "source": [
    "tweets_data_path = './data/tweets.txt'\n",
    "\n",
    "tweets_data = []\n",
    "tweets_file = open(tweets_data_path, \"r\")\n",
    "for line in tweets_file:\n",
    "    try:\n",
    "        tweet = json.loads(line)\n",
    "        tweets_data.append(tweet)\n",
    "    except:\n",
    "        continue"
   ]
  },
  {
   "cell_type": "code",
   "execution_count": 193,
   "metadata": {},
   "outputs": [
    {
     "name": "stdout",
     "output_type": "stream",
     "text": [
      "3222\n"
     ]
    }
   ],
   "source": [
    "print(len(tweets_data))"
   ]
  },
  {
   "cell_type": "code",
   "execution_count": 194,
   "metadata": {
    "scrolled": false
   },
   "outputs": [
    {
     "data": {
      "text/plain": [
       "{u'contributors': None,\n",
       " u'coordinates': None,\n",
       " u'created_at': u'Sun Jul 08 15:09:06 +0000 2018',\n",
       " u'entities': {u'hashtags': [{u'indices': [50, 73],\n",
       "    u'text': u'TonightShowSummerReads'}],\n",
       "  u'symbols': [],\n",
       "  u'urls': [],\n",
       "  u'user_mentions': []},\n",
       " u'favorite_count': 755,\n",
       " u'favorited': False,\n",
       " u'geo': None,\n",
       " u'id': 1015976073576804352L,\n",
       " u'id_str': u'1015976073576804352',\n",
       " u'in_reply_to_screen_name': u'jimmyfallon',\n",
       " u'in_reply_to_status_id': 1015975660890796032L,\n",
       " u'in_reply_to_status_id_str': u'1015975660890796032',\n",
       " u'in_reply_to_user_id': 15485441,\n",
       " u'in_reply_to_user_id_str': u'15485441',\n",
       " u'is_quote_status': False,\n",
       " u'lang': u'en',\n",
       " u'place': None,\n",
       " u'retweet_count': 84,\n",
       " u'retweeted': False,\n",
       " u'source': u'<a href=\"http://twitter.com\" rel=\"nofollow\">Twitter Web Client</a>',\n",
       " u'text': u'And share photos of where you are reading and use #TonightShowSummerReads!!',\n",
       " u'truncated': False,\n",
       " u'user': {u'contributors_enabled': False,\n",
       "  u'created_at': u'Fri Jul 18 19:46:50 +0000 2008',\n",
       "  u'default_profile': False,\n",
       "  u'default_profile_image': False,\n",
       "  u'description': u'astrophysicist',\n",
       "  u'entities': {u'description': {u'urls': []},\n",
       "   u'url': {u'urls': [{u'display_url': u'tonightshow.com',\n",
       "      u'expanded_url': u'http://www.tonightshow.com',\n",
       "      u'indices': [0, 22],\n",
       "      u'url': u'http://t.co/fgp5RYqr3T'}]}},\n",
       "  u'favourites_count': 175,\n",
       "  u'follow_request_sent': False,\n",
       "  u'followers_count': 50235828,\n",
       "  u'following': False,\n",
       "  u'friends_count': 8154,\n",
       "  u'geo_enabled': True,\n",
       "  u'has_extended_profile': False,\n",
       "  u'id': 15485441,\n",
       "  u'id_str': u'15485441',\n",
       "  u'is_translation_enabled': True,\n",
       "  u'is_translator': False,\n",
       "  u'lang': u'en',\n",
       "  u'listed_count': 67904,\n",
       "  u'location': u'New York, New York',\n",
       "  u'name': u'jimmy fallon',\n",
       "  u'notifications': False,\n",
       "  u'profile_background_color': u'131516',\n",
       "  u'profile_background_image_url': u'http://abs.twimg.com/images/themes/theme14/bg.gif',\n",
       "  u'profile_background_image_url_https': u'https://abs.twimg.com/images/themes/theme14/bg.gif',\n",
       "  u'profile_background_tile': False,\n",
       "  u'profile_banner_url': u'https://pbs.twimg.com/profile_banners/15485441/1501035926',\n",
       "  u'profile_image_url': u'http://pbs.twimg.com/profile_images/890035968656396288/nQU6aYAs_normal.jpg',\n",
       "  u'profile_image_url_https': u'https://pbs.twimg.com/profile_images/890035968656396288/nQU6aYAs_normal.jpg',\n",
       "  u'profile_link_color': u'009999',\n",
       "  u'profile_sidebar_border_color': u'FFFFFF',\n",
       "  u'profile_sidebar_fill_color': u'EFEFEF',\n",
       "  u'profile_text_color': u'333333',\n",
       "  u'profile_use_background_image': True,\n",
       "  u'protected': False,\n",
       "  u'screen_name': u'jimmyfallon',\n",
       "  u'statuses_count': 10971,\n",
       "  u'time_zone': None,\n",
       "  u'translator_type': u'regular',\n",
       "  u'url': u'http://t.co/fgp5RYqr3T',\n",
       "  u'utc_offset': None,\n",
       "  u'verified': True}}"
      ]
     },
     "execution_count": 194,
     "metadata": {},
     "output_type": "execute_result"
    }
   ],
   "source": [
    "tweets_data[2]"
   ]
  },
  {
   "cell_type": "markdown",
   "metadata": {},
   "source": [
    "### 2) Data Preprocessing"
   ]
  },
  {
   "cell_type": "markdown",
   "metadata": {},
   "source": [
    "#### 2.1 ) Convert Json Objects\n",
    "- Add applicable data for sentiment analysis \n",
    "    - time stamp, name, Tweet text, language, Tweet id, favorites number, retweets number, in_reply_to_status_id_str and in_reply_to_screen_name"
   ]
  },
  {
   "cell_type": "code",
   "execution_count": 195,
   "metadata": {
    "collapsed": true
   },
   "outputs": [],
   "source": [
    "tweets = pd.DataFrame() #create pandas dataframe\n",
    "tweets['TimeStamp'] = list(map(lambda tweet: tweet['created_at'], tweets_data))\n",
    "tweets['Name'] = list(map(lambda tweet: tweet[\"user\"][\"screen_name\"], tweets_data))\n",
    "tweets['text'] = list(map(lambda tweet: tweet['text'], tweets_data))\n",
    "tweets['lang'] = list(map(lambda tweet: tweet['lang'], tweets_data))\n",
    "tweets['tweet_id'] = list(map(lambda tweet: tweet['id'], tweets_data))\n",
    "tweets['Favorites'] = list(map(lambda tweet: tweet['favorite_count'], tweets_data))\n",
    "tweets['Retweet'] = list(map(lambda tweet: tweet['retweet_count'], tweets_data))\n",
    "tweets['in_reply_to_status_id_str'] = list(map(lambda tweet: tweet['in_reply_to_status_id_str'], tweets_data))\n",
    "tweets['in_reply_to_screen_name'] = list(map(lambda tweet: tweet['in_reply_to_screen_name'], tweets_data))"
   ]
  },
  {
   "cell_type": "code",
   "execution_count": 196,
   "metadata": {},
   "outputs": [
    {
     "data": {
      "text/html": [
       "<div>\n",
       "<style>\n",
       "    .dataframe thead tr:only-child th {\n",
       "        text-align: right;\n",
       "    }\n",
       "\n",
       "    .dataframe thead th {\n",
       "        text-align: left;\n",
       "    }\n",
       "\n",
       "    .dataframe tbody tr th {\n",
       "        vertical-align: top;\n",
       "    }\n",
       "</style>\n",
       "<table border=\"1\" class=\"dataframe\">\n",
       "  <thead>\n",
       "    <tr style=\"text-align: right;\">\n",
       "      <th></th>\n",
       "      <th>TimeStamp</th>\n",
       "      <th>Name</th>\n",
       "      <th>text</th>\n",
       "      <th>lang</th>\n",
       "      <th>tweet_id</th>\n",
       "      <th>Favorites</th>\n",
       "      <th>Retweet</th>\n",
       "      <th>in_reply_to_status_id_str</th>\n",
       "      <th>in_reply_to_screen_name</th>\n",
       "    </tr>\n",
       "  </thead>\n",
       "  <tbody>\n",
       "    <tr>\n",
       "      <th>0</th>\n",
       "      <td>Tue Jul 17 01:54:48 +0000 2018</td>\n",
       "      <td>jimmyfallon</td>\n",
       "      <td>RT @FallonTonight: Great way to start a week o...</td>\n",
       "      <td>en</td>\n",
       "      <td>1019037671295979520</td>\n",
       "      <td>0</td>\n",
       "      <td>92</td>\n",
       "      <td>None</td>\n",
       "      <td>None</td>\n",
       "    </tr>\n",
       "  </tbody>\n",
       "</table>\n",
       "</div>"
      ],
      "text/plain": [
       "                        TimeStamp         Name  \\\n",
       "0  Tue Jul 17 01:54:48 +0000 2018  jimmyfallon   \n",
       "\n",
       "                                                text lang  \\\n",
       "0  RT @FallonTonight: Great way to start a week o...   en   \n",
       "\n",
       "              tweet_id  Favorites  Retweet in_reply_to_status_id_str  \\\n",
       "0  1019037671295979520          0       92                      None   \n",
       "\n",
       "  in_reply_to_screen_name  \n",
       "0                    None  "
      ]
     },
     "execution_count": 196,
     "metadata": {},
     "output_type": "execute_result"
    }
   ],
   "source": [
    "tweets.head(1)"
   ]
  },
  {
   "cell_type": "markdown",
   "metadata": {},
   "source": [
    "#### 2.2) Data Cleaning\n",
    "- Extract the username through the tweets, if applicable \n",
    "- Remove the URLs, RTs, and twitter handles from the tweet text\n",
    "- Remove specific punctuation \n",
    "- Cast to lowercase and delete the double space with the function apply"
   ]
  },
  {
   "cell_type": "code",
   "execution_count": 197,
   "metadata": {
    "scrolled": true
   },
   "outputs": [
    {
     "name": "stdout",
     "output_type": "stream",
     "text": [
      "Wall time: 35.2 s\n"
     ]
    }
   ],
   "source": [
    "%%time\n",
    "\n",
    "pd.options.mode.chained_assignment = None\n",
    "\n",
    "#extract the username through the tweets (preceded by @ or by RT @)\n",
    "tweets['tweetos'] = '' \n",
    "\n",
    "#add tweetos first part\n",
    "for i in range(len(tweets['text'])):\n",
    "    try:\n",
    "        tweets['tweetos'][i] = tweets['text'].str.split(' ')[i][0]\n",
    "    except AttributeError:    \n",
    "        tweets['tweetos'][i] = 'other'\n",
    "\n",
    "#Preprocessing tweetos. select tweetos contains 'RT @'\n",
    "for i in range(len(tweets['text'])):\n",
    "    if tweets['tweetos'].str.contains('@')[i]  == False:\n",
    "        tweets['tweetos'][i] = 'other'\n",
    "        \n",
    "# remove URLs, RTs, and twitter handles\n",
    "for i in range(len(tweets['text'])):\n",
    "    tweets['text'][i] = \" \".join([word for word in tweets['text'][i].split()\n",
    "                                if 'http' not in word and '@' not in word and '<' not in word])"
   ]
  },
  {
   "cell_type": "code",
   "execution_count": 198,
   "metadata": {},
   "outputs": [
    {
     "data": {
      "text/plain": [
       "u'RT Great way to start a week of new shows with and Plus, Charades with #FallonTo\\u2026'"
      ]
     },
     "execution_count": 198,
     "metadata": {},
     "output_type": "execute_result"
    }
   ],
   "source": [
    "tweets['text'][0]"
   ]
  },
  {
   "cell_type": "code",
   "execution_count": 199,
   "metadata": {},
   "outputs": [
    {
     "data": {
      "text/plain": [
       "u'rt great way to start a week of new shows with and plus charades with fallonto\\u2026'"
      ]
     },
     "execution_count": 199,
     "metadata": {},
     "output_type": "execute_result"
    }
   ],
   "source": [
    "#delete certains punctuations, put the text in lower case and delete the double space with the function apply\n",
    "import re\n",
    "tweets['text'] = tweets['text'].apply(lambda x: re.sub('[!@#$:).;,?&]', '', x.lower()))\n",
    "tweets['text'] = tweets['text'].apply(lambda x: re.sub('  ', ' ', x))\n",
    "tweets['text'][0]"
   ]
  },
  {
   "cell_type": "markdown",
   "metadata": {},
   "source": [
    "### 3) Text Frequency"
   ]
  },
  {
   "cell_type": "markdown",
   "metadata": {},
   "source": [
    "#### 3.1) CountVectorizer to get the frequency of words \n"
   ]
  },
  {
   "cell_type": "code",
   "execution_count": 200,
   "metadata": {
    "collapsed": true
   },
   "outputs": [],
   "source": [
    "# copy the text column\n",
    "tweets[\"text_original\"] = tweets[\"text\"]"
   ]
  },
  {
   "cell_type": "code",
   "execution_count": 201,
   "metadata": {
    "collapsed": true
   },
   "outputs": [],
   "source": [
    "from sklearn.feature_extraction.text import CountVectorizer\n",
    "vectorizer = CountVectorizer(max_features = 30000, ngram_range = (1,4),\n",
    "                             stop_words =['the',\n",
    "'of','to','it','in','that','an','of the','this','his','about','at','or','than','from',\n",
    "'in the','are','so','rrb','the film','who','lrb','to the','doe','do','for the','been',\n",
    "'ani','on the','co','https', 'http', 'https co', 'and', 'on', 'is', 'amp', 'for', 'here', 'by',\n",
    "'your', 'be', 'my', 'is here', 'and music'])"
   ]
  },
  {
   "cell_type": "code",
   "execution_count": 202,
   "metadata": {},
   "outputs": [
    {
     "data": {
      "text/plain": [
       "CountVectorizer(analyzer=u'word', binary=False, decode_error=u'strict',\n",
       "        dtype=<type 'numpy.int64'>, encoding=u'utf-8', input=u'content',\n",
       "        lowercase=True, max_df=1.0, max_features=30000, min_df=1,\n",
       "        ngram_range=(1, 4), preprocessor=None,\n",
       "        stop_words=['the', 'of', 'to', 'it', 'in', 'that', 'an', 'of the', 'this', 'his', 'about', 'at', 'or', 'than', 'from', 'in the', 'are', 'so', 'rrb', 'the film', 'who', 'lrb', 'to the', 'doe', 'do', 'for the', 'been', 'ani', 'on the', 'co', 'https', 'http', 'https co', 'and', 'on', 'is', 'amp', 'for', 'here', 'by', 'your', 'be', 'my', 'is here', 'and music'],\n",
       "        strip_accents=None, token_pattern=u'(?u)\\\\b\\\\w\\\\w+\\\\b',\n",
       "        tokenizer=None, vocabulary=None)"
      ]
     },
     "execution_count": 202,
     "metadata": {},
     "output_type": "execute_result"
    }
   ],
   "source": [
    "vectorizer.fit(tweets[\"text\"])"
   ]
  },
  {
   "cell_type": "code",
   "execution_count": 203,
   "metadata": {},
   "outputs": [
    {
     "name": "stdout",
     "output_type": "stream",
     "text": [
      "(3222, 30000)\n"
     ]
    }
   ],
   "source": [
    "tweets_vect = vectorizer.transform(tweets[\"text\"])\n",
    "columns = vectorizer.get_feature_names()\n",
    "tweets_vector = pd.DataFrame(tweets_vect.toarray(), columns= columns)\n",
    "print(tweets_vector.shape)"
   ]
  },
  {
   "cell_type": "code",
   "execution_count": 204,
   "metadata": {
    "collapsed": true
   },
   "outputs": [],
   "source": [
    "import time"
   ]
  },
  {
   "cell_type": "code",
   "execution_count": 205,
   "metadata": {},
   "outputs": [
    {
     "name": "stdout",
     "output_type": "stream",
     "text": [
      "Wall time: 4.92 s\n"
     ]
    }
   ],
   "source": [
    "%%time\n",
    "dictionary = {}\n",
    "\n",
    "# This takes a while\n",
    "# This will take each train dataset's word and count the frequency in dictionary form.\n",
    "for column in tweets_vector.columns:\n",
    "    dictionary[column] = tweets_vector[column].sum()\n",
    "\n",
    "dictionary_df = pd.DataFrame.from_dict({'word': list(dictionary.keys()), 'count': list(dictionary.values())})\n",
    "dictionary_df = dictionary_df.sort_values('count', ascending=False)\n",
    "dictionary_df = dictionary_df[0:100]\n",
    "\n",
    "#save it as .csv\n",
    "dictionary_df.to_csv(\"countvect_frequency.csv\")"
   ]
  },
  {
   "cell_type": "markdown",
   "metadata": {},
   "source": [
    "#### 3.2) Plot the results with seaborn "
   ]
  },
  {
   "cell_type": "code",
   "execution_count": 206,
   "metadata": {},
   "outputs": [
    {
     "data": {
      "text/plain": [
       "<matplotlib.axes._subplots.AxesSubplot at 0xf62a7f0>"
      ]
     },
     "execution_count": 206,
     "metadata": {},
     "output_type": "execute_result"
    },
    {
     "data": {
      "image/png": "[encoded data removed]",
      "text/plain": [
       "<matplotlib.figure.Figure at 0x1b72fcc0>"
      ]
     },
     "metadata": {},
     "output_type": "display_data"
    }
   ],
   "source": [
    "import seaborn as sns\n",
    "import matplotlib.pyplot as plt\n",
    "from matplotlib import style\n",
    "\n",
    "style.use('fivethirtyeight')\n",
    "%matplotlib inline\n",
    "\n",
    "figure, ax = plt.subplots(nrows=1, ncols=1)\n",
    "figure.set_size_inches(10, 4)\n",
    "\n",
    "sns.barplot(data=dictionary_df[:10], y=\"word\", x=\"count\", ax=ax)"
   ]
  },
  {
   "cell_type": "markdown",
   "metadata": {},
   "source": [
    "#### 3.3) Wordcloud Visualization \n",
    "- Display most used words in **@jimmyfallon tweets**"
   ]
  },
  {
   "cell_type": "code",
   "execution_count": 207,
   "metadata": {},
   "outputs": [
    {
     "data": {
      "image/png": "[encoded data removed]",
      "text/plain": [
       "<matplotlib.figure.Figure at 0x154af748>"
      ]
     },
     "metadata": {},
     "output_type": "display_data"
    }
   ],
   "source": [
    "#from IPython.display import display\n",
    "from wordcloud import WordCloud, STOPWORDS\n",
    "\n",
    "def wordcloud(tweets,col):\n",
    "    stopwords = set(STOPWORDS)\n",
    "    wordcloud = WordCloud(background_color=\"white\",stopwords=stopwords,random_state = 2016).generate(\" \".join([i for i in tweets[col]]))\n",
    "    plt.figure( figsize=(10,10), facecolor='k')\n",
    "    plt.imshow(wordcloud)\n",
    "    plt.axis(\"off\")\n",
    "    plt.title(\"Wordcloud\")\n",
    "\n",
    "    \n",
    "wordcloud(tweets,'text')  "
   ]
  },
  {
   "cell_type": "markdown",
   "metadata": {},
   "source": [
    "#### 3.4) Team 5 Findings - Word Frequency:\n",
    "- **@jimmyfallon** mainly promotes his show on Twitter \n"
   ]
  },
  {
   "cell_type": "markdown",
   "metadata": {},
   "source": [
    "---"
   ]
  },
  {
   "cell_type": "markdown",
   "metadata": {},
   "source": [
    "### 4) Sentiment Analysis\n",
    "\n",
    "#### 4.1) Assign sentiment values: \n",
    "- Score each Tweet using sentiment_analyzer.polarity_scores()\n",
    "- Assign each score a sentiment id based on range "
   ]
  },
  {
   "cell_type": "code",
   "execution_count": 208,
   "metadata": {},
   "outputs": [],
   "source": [
    "import numpy as np\n",
    "import nltk\n",
    "from nltk.stem import WordNetLemmatizer\n",
    "from sklearn.feature_extraction.text import TfidfVectorizer\n",
    "#nltk.download('vader_lexicon')\n",
    "from nltk.sentiment.vader import SentimentIntensityAnalyzer"
   ]
  },
  {
   "cell_type": "code",
   "execution_count": 209,
   "metadata": {
    "collapsed": true
   },
   "outputs": [],
   "source": [
    "sentiment_analyzer = SentimentIntensityAnalyzer()"
   ]
  },
  {
   "cell_type": "code",
   "execution_count": 210,
   "metadata": {
    "collapsed": true
   },
   "outputs": [],
   "source": [
    "tweets['text_lem'] = [''.join([WordNetLemmatizer().lemmatize(re.sub('[^A-Za-z]', ' ', line)) for line in lists]).strip() for lists in tweets['text']] \n",
    "vectorizer = TfidfVectorizer(max_df=0.5,max_features=10000,min_df=10,stop_words='english',use_idf=True)\n",
    "X = vectorizer.fit_transform(tweets['text'].str.upper())\n"
   ]
  },
  {
   "cell_type": "code",
   "execution_count": 211,
   "metadata": {
    "collapsed": true
   },
   "outputs": [],
   "source": [
    "tweets['sentiment_compound_polarity']=tweets.text_lem.apply(lambda x:sentiment_analyzer.polarity_scores(x)['compound'])\n",
    "tweets['sentiment_neutral']=tweets.text_lem.apply(lambda x:sentiment_analyzer.polarity_scores(x)['neu'])\n",
    "tweets['sentiment_negative']=tweets.text_lem.apply(lambda x:sentiment_analyzer.polarity_scores(x)['neg'])\n",
    "tweets['sentiment_pos']=tweets.text_lem.apply(lambda x:sentiment_analyzer.polarity_scores(x)['pos'])\n",
    "tweets['sentiment_type']=''\n",
    "\n",
    "tweets.loc[tweets.sentiment_compound_polarity>0,'sentiment_type']='POSITIVE'\n",
    "tweets.loc[tweets.sentiment_compound_polarity==0,'sentiment_type']='NEUTRAL'\n",
    "tweets.loc[tweets.sentiment_compound_polarity<0,'sentiment_type']='NEGATIVE'"
   ]
  },
  {
   "cell_type": "code",
   "execution_count": 212,
   "metadata": {},
   "outputs": [
    {
     "data": {
      "text/html": [
       "<div>\n",
       "<style>\n",
       "    .dataframe thead tr:only-child th {\n",
       "        text-align: right;\n",
       "    }\n",
       "\n",
       "    .dataframe thead th {\n",
       "        text-align: left;\n",
       "    }\n",
       "\n",
       "    .dataframe tbody tr th {\n",
       "        vertical-align: top;\n",
       "    }\n",
       "</style>\n",
       "<table border=\"1\" class=\"dataframe\">\n",
       "  <thead>\n",
       "    <tr style=\"text-align: right;\">\n",
       "      <th></th>\n",
       "      <th>TimeStamp</th>\n",
       "      <th>Name</th>\n",
       "      <th>text</th>\n",
       "      <th>lang</th>\n",
       "      <th>tweet_id</th>\n",
       "      <th>Favorites</th>\n",
       "      <th>Retweet</th>\n",
       "      <th>in_reply_to_status_id_str</th>\n",
       "      <th>in_reply_to_screen_name</th>\n",
       "      <th>tweetos</th>\n",
       "      <th>text_original</th>\n",
       "      <th>text_lem</th>\n",
       "      <th>sentiment_compound_polarity</th>\n",
       "      <th>sentiment_neutral</th>\n",
       "      <th>sentiment_negative</th>\n",
       "      <th>sentiment_pos</th>\n",
       "      <th>sentiment_type</th>\n",
       "    </tr>\n",
       "  </thead>\n",
       "  <tbody>\n",
       "    <tr>\n",
       "      <th>0</th>\n",
       "      <td>Tue Jul 17 01:54:48 +0000 2018</td>\n",
       "      <td>jimmyfallon</td>\n",
       "      <td>rt great way to start a week of new shows with...</td>\n",
       "      <td>en</td>\n",
       "      <td>1019037671295979520</td>\n",
       "      <td>0</td>\n",
       "      <td>92</td>\n",
       "      <td>None</td>\n",
       "      <td>None</td>\n",
       "      <td>other</td>\n",
       "      <td>rt great way to start a week of new shows with...</td>\n",
       "      <td>rt great way to start a week of new shows with...</td>\n",
       "      <td>0.6249</td>\n",
       "      <td>0.773</td>\n",
       "      <td>0.0</td>\n",
       "      <td>0.227</td>\n",
       "      <td>POSITIVE</td>\n",
       "    </tr>\n",
       "  </tbody>\n",
       "</table>\n",
       "</div>"
      ],
      "text/plain": [
       "                        TimeStamp         Name  \\\n",
       "0  Tue Jul 17 01:54:48 +0000 2018  jimmyfallon   \n",
       "\n",
       "                                                text lang  \\\n",
       "0  rt great way to start a week of new shows with...   en   \n",
       "\n",
       "              tweet_id  Favorites  Retweet in_reply_to_status_id_str  \\\n",
       "0  1019037671295979520          0       92                      None   \n",
       "\n",
       "  in_reply_to_screen_name tweetos  \\\n",
       "0                    None   other   \n",
       "\n",
       "                                       text_original  \\\n",
       "0  rt great way to start a week of new shows with...   \n",
       "\n",
       "                                            text_lem  \\\n",
       "0  rt great way to start a week of new shows with...   \n",
       "\n",
       "   sentiment_compound_polarity  sentiment_neutral  sentiment_negative  \\\n",
       "0                       0.6249              0.773                 0.0   \n",
       "\n",
       "   sentiment_pos sentiment_type  \n",
       "0          0.227       POSITIVE  "
      ]
     },
     "execution_count": 212,
     "metadata": {},
     "output_type": "execute_result"
    }
   ],
   "source": [
    "tweets.head(1)"
   ]
  },
  {
   "cell_type": "markdown",
   "metadata": {},
   "source": [
    "#### 4.2) Summarize the Sentiment Data\n",
    "\n",
    "-  Count of tweets, average favorites, and average retweets\n",
    "-  Display the most positive/most negative Tweet \n",
    "-  Bar/pie chart displaying the tweet sentiment by sentiment id "
   ]
  },
  {
   "cell_type": "code",
   "execution_count": 221,
   "metadata": {},
   "outputs": [
    {
     "data": {
      "text/html": [
       "<div>\n",
       "<style>\n",
       "    .dataframe thead tr:only-child th {\n",
       "        text-align: right;\n",
       "    }\n",
       "\n",
       "    .dataframe thead th {\n",
       "        text-align: left;\n",
       "    }\n",
       "\n",
       "    .dataframe tbody tr th {\n",
       "        vertical-align: top;\n",
       "    }\n",
       "</style>\n",
       "<table border=\"1\" class=\"dataframe\">\n",
       "  <thead>\n",
       "    <tr style=\"text-align: right;\">\n",
       "      <th></th>\n",
       "      <th>sentiment_type</th>\n",
       "      <th>Retweet</th>\n",
       "      <th>Favorites</th>\n",
       "    </tr>\n",
       "    <tr>\n",
       "      <th>sentiment_type</th>\n",
       "      <th></th>\n",
       "      <th></th>\n",
       "      <th></th>\n",
       "    </tr>\n",
       "  </thead>\n",
       "  <tbody>\n",
       "    <tr>\n",
       "      <th>POSITIVE</th>\n",
       "      <td>1736</td>\n",
       "      <td>843.044931</td>\n",
       "      <td>3075.373848</td>\n",
       "    </tr>\n",
       "    <tr>\n",
       "      <th>NEUTRAL</th>\n",
       "      <td>1034</td>\n",
       "      <td>790.825919</td>\n",
       "      <td>2604.858801</td>\n",
       "    </tr>\n",
       "    <tr>\n",
       "      <th>NEGATIVE</th>\n",
       "      <td>452</td>\n",
       "      <td>1106.037611</td>\n",
       "      <td>2748.402655</td>\n",
       "    </tr>\n",
       "  </tbody>\n",
       "</table>\n",
       "</div>"
      ],
      "text/plain": [
       "                sentiment_type      Retweet    Favorites\n",
       "sentiment_type                                          \n",
       "POSITIVE                  1736   843.044931  3075.373848\n",
       "NEUTRAL                   1034   790.825919  2604.858801\n",
       "NEGATIVE                   452  1106.037611  2748.402655"
      ]
     },
     "execution_count": 221,
     "metadata": {},
     "output_type": "execute_result"
    }
   ],
   "source": [
    "calcs = {'sentiment_type': 'count', \n",
    "         'Favorites': 'mean',\n",
    "         'Retweet': 'mean'}\n",
    "tweets.groupby(['sentiment_type']).agg(calcs).sort_values(['sentiment_type'], ascending = False)"
   ]
  },
  {
   "cell_type": "code",
   "execution_count": 222,
   "metadata": {
    "collapsed": true
   },
   "outputs": [],
   "source": [
    "#most positive/ most negative tweets\n",
    "sentiment = tweets.sort_values(['sentiment_compound_polarity'], ascending = False).reset_index()\n",
    "most_positive = sentiment .iloc[0]\n",
    "most_negative = sentiment .iloc[(len(sentiment)-1)]"
   ]
  },
  {
   "cell_type": "code",
   "execution_count": 223,
   "metadata": {},
   "outputs": [
    {
     "data": {
      "text/plain": [
       "index                                                                       2319\n",
       "TimeStamp                                         Fri Nov 27 00:57:38 +0000 2015\n",
       "Name                                                                 jimmyfallon\n",
       "text                           thanks thanks thanks thanks thanks thanks than...\n",
       "lang                                                                          en\n",
       "tweet_id                                                      670043770113495041\n",
       "Favorites                                                                  18753\n",
       "Retweet                                                                     7849\n",
       "in_reply_to_status_id_str                                                   None\n",
       "in_reply_to_screen_name                                                     None\n",
       "tweetos                                                                    other\n",
       "text_original                  thanks thanks thanks thanks thanks thanks than...\n",
       "text_lem                       thanks thanks thanks thanks thanks thanks than...\n",
       "sentiment_compound_polarity                                               0.9948\n",
       "sentiment_neutral                                                              0\n",
       "sentiment_negative                                                             0\n",
       "sentiment_pos                                                                  1\n",
       "sentiment_type                                                          POSITIVE\n",
       "Name: 0, dtype: object"
      ]
     },
     "execution_count": 223,
     "metadata": {},
     "output_type": "execute_result"
    }
   ],
   "source": [
    "most_positive"
   ]
  },
  {
   "cell_type": "code",
   "execution_count": 224,
   "metadata": {},
   "outputs": [
    {
     "data": {
      "text/plain": [
       "index                                                                        241\n",
       "TimeStamp                                         Thu Apr 26 04:29:24 +0000 2018\n",
       "Name                                                                 jimmyfallon\n",
       "text                           nono no no no no no no no no no no no no it’s ...\n",
       "lang                                                                          it\n",
       "tweet_id                                                      989360772739461120\n",
       "Favorites                                                                    646\n",
       "Retweet                                                                       69\n",
       "in_reply_to_status_id_str                                                   None\n",
       "in_reply_to_screen_name                                                     None\n",
       "tweetos                                                                    other\n",
       "text_original                  nono no no no no no no no no no no no no it’s ...\n",
       "text_lem                       nono no no no no no no no no no no no no it s ...\n",
       "sentiment_compound_polarity                                              -0.9735\n",
       "sentiment_neutral                                                          0.213\n",
       "sentiment_negative                                                         0.787\n",
       "sentiment_pos                                                                  0\n",
       "sentiment_type                                                          NEGATIVE\n",
       "Name: 3221, dtype: object"
      ]
     },
     "execution_count": 224,
     "metadata": {},
     "output_type": "execute_result"
    }
   ],
   "source": [
    "most_negative"
   ]
  },
  {
   "cell_type": "code",
   "execution_count": 225,
   "metadata": {},
   "outputs": [
    {
     "data": {
      "image/png": "[encoded data removed]",
      "text/plain": [
       "<matplotlib.figure.Figure at 0x737c320>"
      ]
     },
     "metadata": {},
     "output_type": "display_data"
    }
   ],
   "source": [
    "#Visualize sentiments\n",
    "tweets_sentiment = tweets.groupby(['sentiment_type'])['sentiment_neutral'].count()\n",
    "tweets_sentiment.rename(\"\",inplace=True)\n",
    "explode = (1, 0, 0)\n",
    "plt.subplot(221)\n",
    "tweets_sentiment.transpose().plot(kind='barh',figsize=(20, 20))\n",
    "plt.title('Sentiment Analysis Bar chart', bbox={'facecolor':'0.8', 'pad':0})\n",
    "plt.subplot(222)\n",
    "tweets_sentiment.plot(kind='pie',figsize=(20, 20),autopct='%1.1f%%',shadow=True,explode=explode)\n",
    "plt.legend(bbox_to_anchor=(1, 1), loc=3, borderaxespad=0.)\n",
    "plt.title('Sentiment Analysis Pie chart', bbox={'facecolor':'0.8', 'pad':0})\n",
    "plt.show()"
   ]
  },
  {
   "cell_type": "markdown",
   "metadata": {},
   "source": [
    "#### 4.2) Team 5 Findings - Sentiment Analysis:\n",
    "-  Over 50% of **@jimmyfallon** tweets were positive\n",
    "    - Since most of the tweets were either positive or neutral, Team 5 confirmed its positive tweet hypothesis  \n",
    "    \n",
    "-  Negative tweets were retweeted more often, on average\n",
    "\n",
    "  - Given that the majority of tweets were positive, it is surprising that **@jimmyfallon** Twitter followers were more likely to retweet a negative tweet. \n",
    "  \n",
    "-  Positive tweets are favored more often, on average\n",
    "\n"
   ]
  },
  {
   "cell_type": "markdown",
   "metadata": {},
   "source": [
    "---"
   ]
  },
  {
   "cell_type": "markdown",
   "metadata": {},
   "source": [
    "### 6) Network Analysis\n",
    "\n",
    "    6.1) Gather the data using api.friends_ids() & api.get_user()\n",
    "    6.2) Explore the relationship between twitter accounts\n",
    "    6.3) A weight value should be total number of followers for the first twitter account."
   ]
  },
  {
   "cell_type": "code",
   "execution_count": 227,
   "metadata": {},
   "outputs": [],
   "source": [
    "friend_ids = api.friends_ids(screen_name=\"jimmyfallon\")\n",
    "keys = []\n",
    "values = []\n",
    "\n",
    "for x in friend_ids[:200]:\n",
    "    keys.append(x)\n",
    "    profiles = api.get_user(id = x)\n",
    "    values.append(jsonpickle.encode(profiles._json, unpicklable=False))\n"
   ]
  },
  {
   "cell_type": "code",
   "execution_count": 233,
   "metadata": {
    "scrolled": true
   },
   "outputs": [],
   "source": [
    "temp_tweets_data = []\n",
    "for line in values:\n",
    "    try:\n",
    "        temp_tweet = json.loads(line)\n",
    "        temp_tweets_data.append(temp_tweet)\n",
    "    except:\n",
    "        continue"
   ]
  },
  {
   "cell_type": "code",
   "execution_count": 240,
   "metadata": {},
   "outputs": [
    {
     "data": {
      "text/plain": [
       "200"
      ]
     },
     "execution_count": 240,
     "metadata": {},
     "output_type": "execute_result"
    }
   ],
   "source": [
    "len(temp_tweets_data)"
   ]
  },
  {
   "cell_type": "code",
   "execution_count": null,
   "metadata": {},
   "outputs": [],
   "source": []
  },
  {
   "cell_type": "code",
   "execution_count": null,
   "metadata": {
    "collapsed": true
   },
   "outputs": [],
   "source": []
  },
  {
   "cell_type": "code",
   "execution_count": null,
   "metadata": {
    "collapsed": true
   },
   "outputs": [],
   "source": []
  },
  {
   "cell_type": "code",
   "execution_count": null,
   "metadata": {
    "collapsed": true
   },
   "outputs": [],
   "source": []
  },
  {
   "cell_type": "code",
   "execution_count": null,
   "metadata": {
    "collapsed": true
   },
   "outputs": [],
   "source": []
  },
  {
   "cell_type": "code",
   "execution_count": null,
   "metadata": {
    "collapsed": true
   },
   "outputs": [],
   "source": []
  },
  {
   "cell_type": "code",
   "execution_count": null,
   "metadata": {
    "collapsed": true
   },
   "outputs": [],
   "source": []
  },
  {
   "cell_type": "markdown",
   "metadata": {},
   "source": [
    "---"
   ]
  },
  {
   "cell_type": "markdown",
   "metadata": {},
   "source": [
    "# Sources\n",
    "\n",
    "http://adilmoujahid.com/posts/2014/07/twitter-analytics/\n",
    "\n",
    "https://media.readthedocs.org/pdf/tweepy/latest/tweepy.pdf\n",
    "\n",
    "https://www.karambelkar.info/2015/01/how-to-use-twitters-search-rest-api-most-effectively./\n",
    "\n",
    "https://developer.twitter.com/en/docs/tweets/data-dictionary/overview/tweet-object.html\n"
   ]
  },
  {
   "cell_type": "code",
   "execution_count": null,
   "metadata": {
    "collapsed": true
   },
   "outputs": [],
   "source": []
  }
 ],
 "metadata": {
  "kernelspec": {
   "display_name": "Python 2",
   "language": "python",
   "name": "python2"
  }
 },
 "nbformat": 4,
 "nbformat_minor": 2
}
