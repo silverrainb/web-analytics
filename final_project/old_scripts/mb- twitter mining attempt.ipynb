{
 "cells": [
  {
   "cell_type": "markdown",
   "metadata": {},
   "source": [
    "# <center>Team 5 - Final Project</center>\n",
    "## <center>DATA 620 - Web Analytics - Summer 2018</center>\n",
    "## <center>Final Project</center>\n",
    "### <center> *Team 5: Christopher Estevez, Meaghan Burke, Rickidon Singh,  Ritesh Lohiya, Rose Koh* </center>\n"
   ]
  },
  {
   "cell_type": "code",
   "execution_count": 75,
   "metadata": {},
   "outputs": [
    {
     "name": "stdout",
     "output_type": "stream",
     "text": [
      "Started running script trump.py at Sat Jul 14 12:25:22 2018\n"
     ]
    }
   ],
   "source": [
    "from tweepy import OAuthHandler\n",
    "from tweepy import API\n",
    "import json\n",
    "import time\n",
    "import os\n",
    "from sys import platform\n",
    "\n",
    "\n",
    "print \"Started running script trump.py at %s\" % time.ctime()"
   ]
  },
  {
   "cell_type": "code",
   "execution_count": 76,
   "metadata": {
    "collapsed": true
   },
   "outputs": [],
   "source": [
    "try:\n",
    "    ckey = ''",
    "    consumer_secret = ''",
    "    access_token_key =  ''",
    "    access_token_secret = ''",
    "\n",
    "except:\n",
    "    print \"\"\"Please specify your Twitter key, access token etc.See https://dev.twitter.com/oauth/overview/application-owner-access-tokens\n",
    "    for more info\"\"\"\n",
    "\n",
    "\n",
    "tweeters = ['jimmyfallon']\n",
    "\n",
    "\n",
    "auth = OAuthHandler(ckey, consumer_secret) #OAuth object\n",
    "auth.set_access_token(access_token_key, access_token_secret)"
   ]
  },
  {
   "cell_type": "code",
   "execution_count": 4,
   "metadata": {
    "collapsed": true
   },
   "outputs": [],
   "source": [
    "api = API(auth)\n",
    "\n",
    "counter = 0\n",
    "\n",
    "tweet_ids = []\n",
    "doc_path = r'C:\\Users\\burke\\OneDrive\\Desktop\\Data 620\\fallontweets.txt'\n"
   ]
  },
  {
   "cell_type": "code",
   "execution_count": 5,
   "metadata": {},
   "outputs": [
    {
     "name": "stdout",
     "output_type": "stream",
     "text": [
      "Not opened\n"
     ]
    }
   ],
   "source": [
    "try: # if file is already existent\n",
    "    with open(doc_path, 'r+') as f:\n",
    "\n",
    "        # get tweet_ids from the existing file:\n",
    "        objs_string = f.read()\n",
    "        objs = json.loads(objs_string)\n",
    "        tweet_ids = [tweet['id'] for tweet in objs]\n",
    "\n",
    "        # Delete last \"]\"\n",
    "        f.seek(-1, os.SEEK_END)\n",
    "        f.truncate()\n",
    "        f.write(u',') # add comma after last tweet from file.\n",
    "\n",
    "\n",
    "except: # if file doesn't exist, create it and add \"[\" at the very beginning.\n",
    "    print \"Not opened\"\n",
    "    with open(doc_path, 'w+') as f:\n",
    "        f.write(u'[')\n"
   ]
  },
  {
   "cell_type": "code",
   "execution_count": 21,
   "metadata": {
    "collapsed": true
   },
   "outputs": [],
   "source": [
    "# define on how to add tweets of a given user to the txt file:\n",
    "def getusertweets(user, tweet_ids = tweet_ids):\n",
    "    global counter\n",
    "    timeline = api.user_timeline(screen_name = user, # user_id=tweeters,\n",
    "                                include_rts=True,\n",
    "                                exclude_replies = False,\n",
    "                                count=200)\n",
    "\n",
    "    for tweet in timeline:\n",
    "        tweet = json.dumps(tweet._json) # http://stackoverflow.com/questions/27900451/convert-tweepy-status-object-into-json\n",
    "        tweet = json.loads(tweet)\n",
    "        # print(\"Got tweet of user: %s\" % tweet['user']['screen_name'])\n",
    "\n",
    "        # check whether tweet already exist in json data:\n",
    "        if tweet['id'] not in tweet_ids:\n",
    "            with open(doc_path, 'a+') as outfile:\n",
    "                json.dump(tweet, outfile)\n",
    "                outfile.write(u',\\n') # add comma and newline\n",
    "                print \"Wrote new tweet to file (user %s)\" % tweet['user']['screen_name']\n",
    "                counter += 1"
   ]
  },
  {
   "cell_type": "code",
   "execution_count": 22,
   "metadata": {},
   "outputs": [
    {
     "name": "stdout",
     "output_type": "stream",
     "text": [
      "Wrote new tweet to file (user jimmyfallon)\n",
      "Wrote new tweet to file (user jimmyfallon)\n",
      "Wrote new tweet to file (user jimmyfallon)\n",
      "Wrote new tweet to file (user jimmyfallon)\n",
      "Wrote new tweet to file (user jimmyfallon)\n",
      "Wrote new tweet to file (user jimmyfallon)\n",
      "Wrote new tweet to file (user jimmyfallon)\n",
      "Wrote new tweet to file (user jimmyfallon)\n",
      "Wrote new tweet to file (user jimmyfallon)\n",
      "Wrote new tweet to file (user jimmyfallon)\n",
      "Wrote new tweet to file (user jimmyfallon)\n",
      "Wrote new tweet to file (user jimmyfallon)\n",
      "Wrote new tweet to file (user jimmyfallon)\n",
      "Wrote new tweet to file (user jimmyfallon)\n",
      "Wrote new tweet to file (user jimmyfallon)\n",
      "Wrote new tweet to file (user jimmyfallon)\n",
      "Wrote new tweet to file (user jimmyfallon)\n",
      "Wrote new tweet to file (user jimmyfallon)\n",
      "Wrote new tweet to file (user jimmyfallon)\n",
      "Wrote new tweet to file (user jimmyfallon)\n",
      "Wrote new tweet to file (user jimmyfallon)\n",
      "Wrote new tweet to file (user jimmyfallon)\n",
      "Wrote new tweet to file (user jimmyfallon)\n",
      "Wrote new tweet to file (user jimmyfallon)\n",
      "Wrote new tweet to file (user jimmyfallon)\n",
      "Wrote new tweet to file (user jimmyfallon)\n",
      "Wrote new tweet to file (user jimmyfallon)\n",
      "Wrote new tweet to file (user jimmyfallon)\n",
      "Wrote new tweet to file (user jimmyfallon)\n",
      "Wrote new tweet to file (user jimmyfallon)\n",
      "Wrote new tweet to file (user jimmyfallon)\n",
      "Wrote new tweet to file (user jimmyfallon)\n",
      "Wrote new tweet to file (user jimmyfallon)\n",
      "Wrote new tweet to file (user jimmyfallon)\n",
      "Wrote new tweet to file (user jimmyfallon)\n",
      "Wrote new tweet to file (user jimmyfallon)\n",
      "Wrote new tweet to file (user jimmyfallon)\n",
      "Wrote new tweet to file (user jimmyfallon)\n",
      "Wrote new tweet to file (user jimmyfallon)\n",
      "Wrote new tweet to file (user jimmyfallon)\n",
      "Wrote new tweet to file (user jimmyfallon)\n",
      "Wrote new tweet to file (user jimmyfallon)\n",
      "Wrote new tweet to file (user jimmyfallon)\n",
      "Wrote new tweet to file (user jimmyfallon)\n",
      "Wrote new tweet to file (user jimmyfallon)\n",
      "Wrote new tweet to file (user jimmyfallon)\n",
      "Wrote new tweet to file (user jimmyfallon)\n",
      "Wrote new tweet to file (user jimmyfallon)\n",
      "Wrote new tweet to file (user jimmyfallon)\n",
      "Wrote new tweet to file (user jimmyfallon)\n",
      "Wrote new tweet to file (user jimmyfallon)\n",
      "Wrote new tweet to file (user jimmyfallon)\n",
      "Wrote new tweet to file (user jimmyfallon)\n",
      "Wrote new tweet to file (user jimmyfallon)\n",
      "Wrote new tweet to file (user jimmyfallon)\n",
      "Wrote new tweet to file (user jimmyfallon)\n",
      "Wrote new tweet to file (user jimmyfallon)\n",
      "Wrote new tweet to file (user jimmyfallon)\n",
      "Wrote new tweet to file (user jimmyfallon)\n",
      "Wrote new tweet to file (user jimmyfallon)\n",
      "Wrote new tweet to file (user jimmyfallon)\n",
      "Wrote new tweet to file (user jimmyfallon)\n",
      "Wrote new tweet to file (user jimmyfallon)\n",
      "Wrote new tweet to file (user jimmyfallon)\n",
      "Wrote new tweet to file (user jimmyfallon)\n",
      "Wrote new tweet to file (user jimmyfallon)\n",
      "Wrote new tweet to file (user jimmyfallon)\n",
      "Wrote new tweet to file (user jimmyfallon)\n",
      "Wrote new tweet to file (user jimmyfallon)\n",
      "Wrote new tweet to file (user jimmyfallon)\n",
      "Wrote new tweet to file (user jimmyfallon)\n",
      "Wrote new tweet to file (user jimmyfallon)\n",
      "Wrote new tweet to file (user jimmyfallon)\n",
      "Wrote new tweet to file (user jimmyfallon)\n",
      "Wrote new tweet to file (user jimmyfallon)\n",
      "Wrote new tweet to file (user jimmyfallon)\n",
      "Wrote new tweet to file (user jimmyfallon)\n",
      "Wrote new tweet to file (user jimmyfallon)\n",
      "Wrote new tweet to file (user jimmyfallon)\n",
      "Wrote new tweet to file (user jimmyfallon)\n",
      "Wrote new tweet to file (user jimmyfallon)\n",
      "Wrote new tweet to file (user jimmyfallon)\n",
      "Wrote new tweet to file (user jimmyfallon)\n",
      "Wrote new tweet to file (user jimmyfallon)\n",
      "Wrote new tweet to file (user jimmyfallon)\n",
      "Wrote new tweet to file (user jimmyfallon)\n",
      "Wrote new tweet to file (user jimmyfallon)\n",
      "Wrote new tweet to file (user jimmyfallon)\n",
      "Wrote new tweet to file (user jimmyfallon)\n",
      "Wrote new tweet to file (user jimmyfallon)\n",
      "Wrote new tweet to file (user jimmyfallon)\n",
      "Wrote new tweet to file (user jimmyfallon)\n",
      "Wrote new tweet to file (user jimmyfallon)\n",
      "Wrote new tweet to file (user jimmyfallon)\n",
      "Wrote new tweet to file (user jimmyfallon)\n",
      "Wrote new tweet to file (user jimmyfallon)\n",
      "Wrote new tweet to file (user jimmyfallon)\n",
      "Wrote new tweet to file (user jimmyfallon)\n",
      "Wrote new tweet to file (user jimmyfallon)\n",
      "Wrote new tweet to file (user jimmyfallon)\n",
      "Wrote new tweet to file (user jimmyfallon)\n",
      "Wrote new tweet to file (user jimmyfallon)\n",
      "Wrote new tweet to file (user jimmyfallon)\n",
      "Wrote new tweet to file (user jimmyfallon)\n",
      "Wrote new tweet to file (user jimmyfallon)\n",
      "Wrote new tweet to file (user jimmyfallon)\n",
      "Wrote new tweet to file (user jimmyfallon)\n",
      "Wrote new tweet to file (user jimmyfallon)\n",
      "Wrote new tweet to file (user jimmyfallon)\n",
      "Wrote new tweet to file (user jimmyfallon)\n",
      "Wrote new tweet to file (user jimmyfallon)\n",
      "Wrote new tweet to file (user jimmyfallon)\n",
      "Wrote new tweet to file (user jimmyfallon)\n",
      "Wrote new tweet to file (user jimmyfallon)\n",
      "Wrote new tweet to file (user jimmyfallon)\n",
      "Wrote new tweet to file (user jimmyfallon)\n",
      "Wrote new tweet to file (user jimmyfallon)\n",
      "Wrote new tweet to file (user jimmyfallon)\n",
      "Wrote new tweet to file (user jimmyfallon)\n",
      "Wrote new tweet to file (user jimmyfallon)\n",
      "Wrote new tweet to file (user jimmyfallon)\n",
      "Wrote new tweet to file (user jimmyfallon)\n",
      "Wrote new tweet to file (user jimmyfallon)\n",
      "Wrote new tweet to file (user jimmyfallon)\n",
      "Wrote new tweet to file (user jimmyfallon)\n",
      "Wrote new tweet to file (user jimmyfallon)\n",
      "Wrote new tweet to file (user jimmyfallon)\n",
      "Wrote new tweet to file (user jimmyfallon)\n",
      "Wrote new tweet to file (user jimmyfallon)\n",
      "Wrote new tweet to file (user jimmyfallon)\n",
      "Wrote new tweet to file (user jimmyfallon)\n",
      "Wrote new tweet to file (user jimmyfallon)\n",
      "Wrote new tweet to file (user jimmyfallon)\n",
      "Wrote new tweet to file (user jimmyfallon)\n",
      "Wrote new tweet to file (user jimmyfallon)\n",
      "Wrote new tweet to file (user jimmyfallon)\n",
      "Wrote new tweet to file (user jimmyfallon)\n",
      "Wrote new tweet to file (user jimmyfallon)\n",
      "Wrote new tweet to file (user jimmyfallon)\n",
      "Wrote new tweet to file (user jimmyfallon)\n",
      "Wrote new tweet to file (user jimmyfallon)\n",
      "Wrote new tweet to file (user jimmyfallon)\n",
      "Wrote new tweet to file (user jimmyfallon)\n",
      "Wrote new tweet to file (user jimmyfallon)\n",
      "Wrote new tweet to file (user jimmyfallon)\n",
      "Wrote new tweet to file (user jimmyfallon)\n",
      "Wrote new tweet to file (user jimmyfallon)\n",
      "Wrote new tweet to file (user jimmyfallon)\n",
      "Wrote new tweet to file (user jimmyfallon)\n",
      "Wrote new tweet to file (user jimmyfallon)\n",
      "Wrote new tweet to file (user jimmyfallon)\n",
      "Wrote new tweet to file (user jimmyfallon)\n",
      "Wrote new tweet to file (user jimmyfallon)\n",
      "Wrote new tweet to file (user jimmyfallon)\n",
      "Wrote new tweet to file (user jimmyfallon)\n",
      "Wrote new tweet to file (user jimmyfallon)\n",
      "Wrote new tweet to file (user jimmyfallon)\n",
      "Wrote new tweet to file (user jimmyfallon)\n",
      "Wrote new tweet to file (user jimmyfallon)\n",
      "Wrote new tweet to file (user jimmyfallon)\n",
      "Wrote new tweet to file (user jimmyfallon)\n",
      "Wrote new tweet to file (user jimmyfallon)\n",
      "Wrote new tweet to file (user jimmyfallon)\n",
      "Wrote new tweet to file (user jimmyfallon)\n",
      "Wrote new tweet to file (user jimmyfallon)\n",
      "Wrote new tweet to file (user jimmyfallon)\n",
      "Wrote new tweet to file (user jimmyfallon)\n",
      "Wrote new tweet to file (user jimmyfallon)\n",
      "Wrote new tweet to file (user jimmyfallon)\n",
      "Wrote new tweet to file (user jimmyfallon)\n",
      "Wrote new tweet to file (user jimmyfallon)\n",
      "Wrote new tweet to file (user jimmyfallon)\n",
      "Wrote new tweet to file (user jimmyfallon)\n",
      "Wrote new tweet to file (user jimmyfallon)\n",
      "Wrote new tweet to file (user jimmyfallon)\n",
      "Wrote new tweet to file (user jimmyfallon)\n",
      "Wrote new tweet to file (user jimmyfallon)\n",
      "Wrote new tweet to file (user jimmyfallon)\n",
      "Wrote new tweet to file (user jimmyfallon)\n",
      "Wrote new tweet to file (user jimmyfallon)\n",
      "Wrote new tweet to file (user jimmyfallon)\n",
      "Wrote new tweet to file (user jimmyfallon)\n",
      "Wrote new tweet to file (user jimmyfallon)\n",
      "Wrote new tweet to file (user jimmyfallon)\n",
      "Wrote new tweet to file (user jimmyfallon)\n",
      "Wrote new tweet to file (user jimmyfallon)\n",
      "Wrote new tweet to file (user jimmyfallon)\n",
      "Wrote new tweet to file (user jimmyfallon)\n",
      "Wrote new tweet to file (user jimmyfallon)\n",
      "Wrote new tweet to file (user jimmyfallon)\n",
      "Wrote new tweet to file (user jimmyfallon)\n",
      "Wrote new tweet to file (user jimmyfallon)\n",
      "Wrote new tweet to file (user jimmyfallon)\n"
     ]
    },
    {
     "name": "stdout",
     "output_type": "stream",
     "text": [
      "Wrote new tweet to file (user jimmyfallon)\n",
      "Wrote new tweet to file (user jimmyfallon)\n",
      "Wrote new tweet to file (user jimmyfallon)\n",
      "Wrote new tweet to file (user jimmyfallon)\n",
      "Wrote new tweet to file (user jimmyfallon)\n",
      "Wrote new tweet to file (user jimmyfallon)\n",
      "Wrote new tweet to file (user jimmyfallon)\n",
      "Finished running script twitter_parties.py at Sat Jul 14 11:46:44 2018\n",
      "Wrote 921 new tweets to file\n"
     ]
    }
   ],
   "source": [
    "# Write text as normal for every user/tweeter:\n",
    "for tweeter in tweeters:\n",
    "    getusertweets(tweeter)\n",
    "\n",
    "# As script finishes, make changes in the last\n",
    "# characters of the txt document:\n",
    "if counter>0:\n",
    "    last = -2\n",
    "if counter==0: # if no new tweets were added.\n",
    "    last = -1\n",
    "with open(doc_path, 'a+') as f:\n",
    "    # Delete last \"\\n\" and last \",\"\n",
    "    f.seek(last, os.SEEK_END)\n",
    "    f.truncate()\n",
    "\n",
    "    # Add last \"]\"\n",
    "    f.write(u']')\n",
    "    # Close file.\n",
    "\n",
    "\n",
    "# Tell how many new tweets were added to the file.\n",
    "print \"Finished running script twitter_parties.py at %s\" % time.ctime()\n",
    "print \"Wrote %d new tweets to file\" % counter"
   ]
  },
  {
   "cell_type": "code",
   "execution_count": 72,
   "metadata": {},
   "outputs": [
    {
     "ename": "AttributeError",
     "evalue": "'str' object has no attribute 'read'",
     "output_type": "error",
     "traceback": [
      "\u001b[1;31m---------------------------------------------------------------------------\u001b[0m",
      "\u001b[1;31mAttributeError\u001b[0m                            Traceback (most recent call last)",
      "\u001b[1;32m<ipython-input-72-99b274a263c0>\u001b[0m in \u001b[0;36m<module>\u001b[1;34m()\u001b[0m\n\u001b[0;32m      3\u001b[0m     \u001b[1;31m#data = json.load(f)\u001b[0m\u001b[1;33m\u001b[0m\u001b[1;33m\u001b[0m\u001b[0m\n\u001b[0;32m      4\u001b[0m     \u001b[0mtemp\u001b[0m \u001b[1;33m=\u001b[0m \u001b[0mtemp\u001b[0m\u001b[1;33m[\u001b[0m\u001b[1;36m1\u001b[0m\u001b[1;33m:\u001b[0m \u001b[1;33m(\u001b[0m\u001b[0mlen\u001b[0m\u001b[1;33m(\u001b[0m\u001b[0mtemp\u001b[0m\u001b[1;33m)\u001b[0m\u001b[1;33m-\u001b[0m\u001b[1;36m2\u001b[0m\u001b[1;33m)\u001b[0m\u001b[1;33m]\u001b[0m\u001b[1;33m\u001b[0m\u001b[0m\n\u001b[1;32m----> 5\u001b[1;33m     \u001b[0mdata\u001b[0m \u001b[1;33m=\u001b[0m \u001b[0mjson\u001b[0m\u001b[1;33m.\u001b[0m\u001b[0mload\u001b[0m\u001b[1;33m(\u001b[0m\u001b[0mtemp\u001b[0m\u001b[1;33m)\u001b[0m\u001b[1;33m\u001b[0m\u001b[0m\n\u001b[0m\u001b[0;32m      6\u001b[0m     \u001b[1;31m#test =pd.read_json(temp, lines=True)\u001b[0m\u001b[1;33m\u001b[0m\u001b[1;33m\u001b[0m\u001b[0m\n\u001b[0;32m      7\u001b[0m     \u001b[1;31m#objects = ijson.items(temp, 'meta.view.columns.item')\u001b[0m\u001b[1;33m\u001b[0m\u001b[1;33m\u001b[0m\u001b[0m\n",
      "\u001b[1;32mC:\\Users\\burke\\Anaconda2\\lib\\json\\__init__.pyc\u001b[0m in \u001b[0;36mload\u001b[1;34m(fp, encoding, cls, object_hook, parse_float, parse_int, parse_constant, object_pairs_hook, **kw)\u001b[0m\n\u001b[0;32m    285\u001b[0m \u001b[1;33m\u001b[0m\u001b[0m\n\u001b[0;32m    286\u001b[0m     \"\"\"\n\u001b[1;32m--> 287\u001b[1;33m     return loads(fp.read(),\n\u001b[0m\u001b[0;32m    288\u001b[0m         \u001b[0mencoding\u001b[0m\u001b[1;33m=\u001b[0m\u001b[0mencoding\u001b[0m\u001b[1;33m,\u001b[0m \u001b[0mcls\u001b[0m\u001b[1;33m=\u001b[0m\u001b[0mcls\u001b[0m\u001b[1;33m,\u001b[0m \u001b[0mobject_hook\u001b[0m\u001b[1;33m=\u001b[0m\u001b[0mobject_hook\u001b[0m\u001b[1;33m,\u001b[0m\u001b[1;33m\u001b[0m\u001b[0m\n\u001b[0;32m    289\u001b[0m         \u001b[0mparse_float\u001b[0m\u001b[1;33m=\u001b[0m\u001b[0mparse_float\u001b[0m\u001b[1;33m,\u001b[0m \u001b[0mparse_int\u001b[0m\u001b[1;33m=\u001b[0m\u001b[0mparse_int\u001b[0m\u001b[1;33m,\u001b[0m\u001b[1;33m\u001b[0m\u001b[0m\n",
      "\u001b[1;31mAttributeError\u001b[0m: 'str' object has no attribute 'read'"
     ]
    }
   ],
   "source": [
    "import ijson\n",
    "with open(doc_path, 'r') as f:\n",
    "    #data = json.load(f)\n",
    "    temp = temp[1: (len(temp)-2)]\n",
    "    data = json.load(temp)\n",
    "    #test =pd.read_json(temp, lines=True)\n",
    "    #objects = ijson.items(temp, 'meta.view.columns.item')\n",
    "    #columns = list(objects)"
   ]
  },
  {
   "cell_type": "code",
   "execution_count": null,
   "metadata": {
    "collapsed": true
   },
   "outputs": [],
   "source": []
  },
  {
   "cell_type": "code",
   "execution_count": null,
   "metadata": {
    "collapsed": true
   },
   "outputs": [],
   "source": []
  },
  {
   "cell_type": "code",
   "execution_count": null,
   "metadata": {
    "collapsed": true
   },
   "outputs": [],
   "source": []
  },
  {
   "cell_type": "code",
   "execution_count": null,
   "metadata": {
    "collapsed": true
   },
   "outputs": [],
   "source": []
  }
 ],
 "metadata": {
  "kernelspec": {
   "display_name": "Python 2",
   "language": "python",
   "name": "python2"
  },
  "language_info": {
   "codemirror_mode": {
    "name": "ipython",
    "version": 2
   },
   "file_extension": ".py",
   "mimetype": "text/x-python",
   "name": "python",
   "nbconvert_exporter": "python",
   "pygments_lexer": "ipython2",
   "version": "2.7.14"
  }
 },
 "nbformat": 4,
 "nbformat_minor": 2
}
