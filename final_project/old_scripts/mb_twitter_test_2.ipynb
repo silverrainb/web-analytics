{
 "cells": [
  {
   "cell_type": "code",
   "execution_count": 111,
   "metadata": {
    "collapsed": true
   },
   "outputs": [],
   "source": [
    "#import twt_cred as mykey # my credentials twitter\n",
    "import tweepy\n",
    "#import csv\n",
    "#import pandas as pd\n",
    "####input your credentials here\n",
    "consumer_key = ''\n",
    "consumer_secret =''\n",
    "access_token = ''\n",
    "access_token_secret = ''\n",
    "\n",
    "auth = tweepy.OAuthHandler(consumer_key, consumer_secret)\n",
    "auth.set_access_token(access_token, access_token_secret)\n",
    "api = tweepy.API(auth,wait_on_rate_limit=True)\n"
   ]
  },
  {
   "cell_type": "code",
   "execution_count": 203,
   "metadata": {},
   "outputs": [
    {
     "name": "stdout",
     "output_type": "stream",
     "text": [
      "Downloading max 10000 tweets\n",
      "Downloaded 100 tweets\n",
      "Downloaded 200 tweets\n",
      "Downloaded 300 tweets\n",
      "Downloaded 400 tweets\n",
      "Downloaded 500 tweets\n",
      "Downloaded 600 tweets\n",
      "Downloaded 700 tweets\n",
      "Downloaded 800 tweets\n",
      "Downloaded 900 tweets\n",
      "Downloaded 1000 tweets\n",
      "Downloaded 1100 tweets\n",
      "Downloaded 1200 tweets\n",
      "Downloaded 1300 tweets\n",
      "Downloaded 1400 tweets\n",
      "Downloaded 1500 tweets\n",
      "Downloaded 1600 tweets\n",
      "Downloaded 1700 tweets\n",
      "Downloaded 1799 tweets\n",
      "Downloaded 1899 tweets\n",
      "Downloaded 1999 tweets\n",
      "Downloaded 2099 tweets\n",
      "Downloaded 2199 tweets\n",
      "Downloaded 2299 tweets\n",
      "Downloaded 2399 tweets\n",
      "Downloaded 2499 tweets\n",
      "Downloaded 2599 tweets\n",
      "Downloaded 2699 tweets\n",
      "Downloaded 2799 tweets\n",
      "Downloaded 2899 tweets\n",
      "Downloaded 2999 tweets\n",
      "Downloaded 3099 tweets\n",
      "Downloaded 3199 tweets\n",
      "Downloaded 3220 tweets\n",
      "No more tweets found\n",
      "Downloaded 3220 tweets, Saved to tweets.txt\n"
     ]
    }
   ],
   "source": [
    "import sys\n",
    "import jsonpickle\n",
    "import os\n",
    "\n",
    "searchQuery = '@jimmyfallon' #'#someHashtag'  # this is what we're searching for\n",
    "maxTweets = 10000# Some arbitrary large number\n",
    "tweetsPerQry = 100 # this is the max the API permits\n",
    "fName = 'tweets.txt' # We'll store the tweets in a text file.\n",
    "\n",
    "\n",
    "# If results from a specific ID onwards are reqd, set since_id to that ID.\n",
    "# else default to no lower limit, go as far back as API allows\n",
    "sinceId = None\n",
    "\n",
    "# If results only below a specific ID are, set max_id to that ID.\n",
    "# else default to no upper limit, start from the most recent tweet matching the search query.\n",
    "max_id = -1L\n",
    "\n",
    "tweetCount = 0\n",
    "print(\"Downloading max {0} tweets\".format(maxTweets))\n",
    "with open(fName, 'w') as f:\n",
    "    while tweetCount < maxTweets:\n",
    "        try:\n",
    "            if (max_id <= 0):\n",
    "                if (not sinceId):\n",
    "                    new_tweets = api.user_timeline(screen_name = searchQuery, # user_id=tweeters,\n",
    "                                include_rts=True,\n",
    "                                exclude_replies =False,\n",
    "                                count=tweetsPerQry)\n",
    "                else:\n",
    "                    new_tweets = api.user_timeline(screen_name = searchQuery, # user_id=tweeters,\n",
    "                                include_rts=True,\n",
    "                                exclude_replies =False,\n",
    "                                count=tweetsPerQry,\n",
    "                                max_id=str(max_id - 1),\n",
    "                                since_id=sinceId)\n",
    "            else:\n",
    "                if (not sinceId):\n",
    "                    new_tweets = api.user_timeline(screen_name = searchQuery, # user_id=tweeters,\n",
    "                                include_rts=True,\n",
    "                                exclude_replies =False, \n",
    "                                count=tweetsPerQry,\n",
    "                                max_id=str(max_id - 1))\n",
    "                else:\n",
    "                    new_tweets = api.user_timeline(screen_name = searchQuery, # user_id=tweeters,\n",
    "                                include_rts=True,\n",
    "                                exclude_replies =False, count=tweetsPerQry,\n",
    "                                            max_id=str(max_id - 1),\n",
    "                                            since_id=sinceId)\n",
    "            if not new_tweets:\n",
    "                print(\"No more tweets found\")\n",
    "                break\n",
    "            for tweet in new_tweets:\n",
    "                f.write(jsonpickle.encode(tweet._json, unpicklable=False) +\n",
    "                        '\\n')\n",
    "            tweetCount += len(new_tweets)\n",
    "            print(\"Downloaded {0} tweets\".format(tweetCount))\n",
    "            max_id = new_tweets[-1].id\n",
    "        except tweepy.TweepError as e:\n",
    "            # Just exit if any error\n",
    "            print(\"some error : \" + str(e))\n",
    "            break\n",
    "\n",
    "print (\"Downloaded {0} tweets, Saved to {1}\".format(tweetCount, fName))"
   ]
  },
  {
   "cell_type": "code",
   "execution_count": 204,
   "metadata": {
    "collapsed": true
   },
   "outputs": [],
   "source": [
    "import json\n",
    "import pandas as pd\n",
    "import matplotlib.pyplot as plt\n"
   ]
  },
  {
   "cell_type": "code",
   "execution_count": 205,
   "metadata": {
    "collapsed": true
   },
   "outputs": [],
   "source": [
    "tweets_data_path = 'tweets.txt'\n",
    "\n",
    "tweets_data = []\n",
    "tweets_file = open(tweets_data_path, \"r\")\n",
    "for line in tweets_file:\n",
    "    try:\n",
    "        tweet = json.loads(line)\n",
    "        tweets_data.append(tweet)\n",
    "    except:\n",
    "        continue"
   ]
  },
  {
   "cell_type": "code",
   "execution_count": 206,
   "metadata": {},
   "outputs": [
    {
     "name": "stdout",
     "output_type": "stream",
     "text": [
      "3220\n"
     ]
    }
   ],
   "source": [
    "print len(tweets_data)"
   ]
  },
  {
   "cell_type": "code",
   "execution_count": 286,
   "metadata": {},
   "outputs": [
    {
     "data": {
      "text/plain": [
       "{u'contributors': None,\n",
       " u'coordinates': None,\n",
       " u'created_at': u'Sun Jul 08 15:07:28 +0000 2018',\n",
       " u'entities': {u'hashtags': [{u'indices': [75, 98],\n",
       "    u'text': u'TonightShowSummerReads'}],\n",
       "  u'symbols': [],\n",
       "  u'urls': [{u'display_url': u'soundcloud.com/tonightshowsum\\u2026',\n",
       "    u'expanded_url': u'https://soundcloud.com/tonightshowsummerreads/chapters3-5',\n",
       "    u'indices': [51, 74],\n",
       "    u'url': u'https://t.co/HBIGe1A2iz'}],\n",
       "  u'user_mentions': []},\n",
       " u'favorite_count': 1034,\n",
       " u'favorited': False,\n",
       " u'geo': None,\n",
       " u'id': 1015975660890796032L,\n",
       " u'id_str': u'1015975660890796032',\n",
       " u'in_reply_to_screen_name': None,\n",
       " u'in_reply_to_status_id': None,\n",
       " u'in_reply_to_status_id_str': None,\n",
       " u'in_reply_to_user_id': None,\n",
       " u'in_reply_to_user_id_str': None,\n",
       " u'is_quote_status': False,\n",
       " u'lang': u'en',\n",
       " u'place': None,\n",
       " u'possibly_sensitive': False,\n",
       " u'retweet_count': 127,\n",
       " u'retweeted': False,\n",
       " u'source': u'<a href=\"http://twitter.com\" rel=\"nofollow\">Twitter Web Client</a>',\n",
       " u'text': u'Chapters 3-5 recap of \"Children of Blood and Bone\" https://t.co/HBIGe1A2iz #TonightShowSummerReads',\n",
       " u'truncated': False,\n",
       " u'user': {u'contributors_enabled': False,\n",
       "  u'created_at': u'Fri Jul 18 19:46:50 +0000 2008',\n",
       "  u'default_profile': False,\n",
       "  u'default_profile_image': False,\n",
       "  u'description': u'astrophysicist',\n",
       "  u'entities': {u'description': {u'urls': []},\n",
       "   u'url': {u'urls': [{u'display_url': u'tonightshow.com',\n",
       "      u'expanded_url': u'http://www.tonightshow.com',\n",
       "      u'indices': [0, 22],\n",
       "      u'url': u'http://t.co/fgp5RYqr3T'}]}},\n",
       "  u'favourites_count': 175,\n",
       "  u'follow_request_sent': False,\n",
       "  u'followers_count': 50232346,\n",
       "  u'following': False,\n",
       "  u'friends_count': 8158,\n",
       "  u'geo_enabled': True,\n",
       "  u'has_extended_profile': False,\n",
       "  u'id': 15485441,\n",
       "  u'id_str': u'15485441',\n",
       "  u'is_translation_enabled': True,\n",
       "  u'is_translator': False,\n",
       "  u'lang': u'en',\n",
       "  u'listed_count': 67915,\n",
       "  u'location': u'New York, New York',\n",
       "  u'name': u'jimmy fallon',\n",
       "  u'notifications': False,\n",
       "  u'profile_background_color': u'131516',\n",
       "  u'profile_background_image_url': u'http://abs.twimg.com/images/themes/theme14/bg.gif',\n",
       "  u'profile_background_image_url_https': u'https://abs.twimg.com/images/themes/theme14/bg.gif',\n",
       "  u'profile_background_tile': False,\n",
       "  u'profile_banner_url': u'https://pbs.twimg.com/profile_banners/15485441/1501035926',\n",
       "  u'profile_image_url': u'http://pbs.twimg.com/profile_images/890035968656396288/nQU6aYAs_normal.jpg',\n",
       "  u'profile_image_url_https': u'https://pbs.twimg.com/profile_images/890035968656396288/nQU6aYAs_normal.jpg',\n",
       "  u'profile_link_color': u'009999',\n",
       "  u'profile_sidebar_border_color': u'FFFFFF',\n",
       "  u'profile_sidebar_fill_color': u'EFEFEF',\n",
       "  u'profile_text_color': u'333333',\n",
       "  u'profile_use_background_image': True,\n",
       "  u'protected': False,\n",
       "  u'screen_name': u'jimmyfallon',\n",
       "  u'statuses_count': 10969,\n",
       "  u'time_zone': None,\n",
       "  u'translator_type': u'regular',\n",
       "  u'url': u'http://t.co/fgp5RYqr3T',\n",
       "  u'utc_offset': None,\n",
       "  u'verified': True}}"
      ]
     },
     "execution_count": 286,
     "metadata": {},
     "output_type": "execute_result"
    }
   ],
   "source": [
    "tweets_data[1]"
   ]
  },
  {
   "cell_type": "code",
   "execution_count": 262,
   "metadata": {},
   "outputs": [],
   "source": [
    "tweets = pd.DataFrame() #df\n",
    "tweets['TimeStamp'] = map(lambda tweet: tweet['created_at'], tweets_data) #\n",
    "tweets['Name'] = map(lambda tweet: tweet[\"user\"][\"screen_name\"], tweets_data) #\n",
    "tweets['text'] = map(lambda tweet: tweet['text'], tweets_data) # map fuction like apply in R function, data\n",
    "tweets['lang'] = map(lambda tweet: tweet['lang'], tweets_data)\n",
    "tweets['tweet_id'] = map(lambda tweet: tweet['id'], tweets_data)\n",
    "tweets['Favorites'] = map(lambda tweet: tweet['favorite_count'], tweets_data)\n",
    "tweets['Retweet'] = map(lambda tweet: tweet['retweet_count'], tweets_data)\n",
    "tweets['in_reply_to_status_id_str'] =map(lambda tweet: tweet['in_reply_to_status_id_str'], tweets_data)\n",
    "tweets['in_reply_to_screen_name'] =map(lambda tweet: tweet['in_reply_to_screen_name'], tweets_data)"
   ]
  },
  {
   "cell_type": "code",
   "execution_count": 263,
   "metadata": {},
   "outputs": [],
   "source": [
    "import numpy as np\n",
    "import nltk\n",
    "from nltk.sentiment.vader import SentimentIntensityAnalyzer\n",
    "from matplotlib import pyplot as plt"
   ]
  },
  {
   "cell_type": "code",
   "execution_count": 264,
   "metadata": {
    "collapsed": true
   },
   "outputs": [],
   "source": [
    "sentiment_analyzer = SentimentIntensityAnalyzer()\n",
    "def tweet_scale(score):\n",
    "    if score <= -.6:\n",
    "        return \"most_negative\"\n",
    "    if score <= -.2:\n",
    "        return \"negative\"\n",
    "    if score <= .2:\n",
    "        return \"neutral\"\n",
    "    if score <= .6:\n",
    "        return \"positive\"\n",
    "    if score <= .8:\n",
    "        return \"more_positive\"\n",
    "    if score <= 1:\n",
    "        return \"most_positive\""
   ]
  },
  {
   "cell_type": "code",
   "execution_count": 265,
   "metadata": {},
   "outputs": [],
   "source": [
    "def polarity_tweets(tweets):\n",
    "    sentiment = []\n",
    "    score = []\n",
    "    for tweet in tweets:\n",
    "        ss = sentiment_analyzer.polarity_scores(str(tweet))\n",
    "        sentiment.append(tweet_scale(ss['compound']))\n",
    "        score.append(ss['compound'])\n",
    "    \n",
    "    return sentiment, score\n",
    "\n",
    "sentiment, score = polarity_tweets(tweets_data)    \n",
    "\n",
    "tweets['Sentiment'] = sentiment\n",
    "tweets['Score'] = score"
   ]
  },
  {
   "cell_type": "code",
   "execution_count": 266,
   "metadata": {},
   "outputs": [
    {
     "data": {
      "text/html": [
       "<div>\n",
       "<style>\n",
       "    .dataframe thead tr:only-child th {\n",
       "        text-align: right;\n",
       "    }\n",
       "\n",
       "    .dataframe thead th {\n",
       "        text-align: left;\n",
       "    }\n",
       "\n",
       "    .dataframe tbody tr th {\n",
       "        vertical-align: top;\n",
       "    }\n",
       "</style>\n",
       "<table border=\"1\" class=\"dataframe\">\n",
       "  <thead>\n",
       "    <tr style=\"text-align: right;\">\n",
       "      <th></th>\n",
       "      <th>TimeStamp</th>\n",
       "      <th>Name</th>\n",
       "      <th>text</th>\n",
       "      <th>lang</th>\n",
       "      <th>tweet_id</th>\n",
       "      <th>Favorites</th>\n",
       "      <th>Retweet</th>\n",
       "      <th>in_reply_to_status_id_str</th>\n",
       "      <th>in_reply_to_screen_name</th>\n",
       "      <th>Sentiment</th>\n",
       "      <th>Score</th>\n",
       "    </tr>\n",
       "  </thead>\n",
       "  <tbody>\n",
       "    <tr>\n",
       "      <th>0</th>\n",
       "      <td>Sun Jul 08 15:09:06 +0000 2018</td>\n",
       "      <td>jimmyfallon</td>\n",
       "      <td>And share photos of where you are reading and ...</td>\n",
       "      <td>en</td>\n",
       "      <td>1015976073576804352</td>\n",
       "      <td>714</td>\n",
       "      <td>76</td>\n",
       "      <td>1015975660890796032</td>\n",
       "      <td>jimmyfallon</td>\n",
       "      <td>most_positive</td>\n",
       "      <td>0.9183</td>\n",
       "    </tr>\n",
       "    <tr>\n",
       "      <th>1</th>\n",
       "      <td>Sun Jul 08 15:07:28 +0000 2018</td>\n",
       "      <td>jimmyfallon</td>\n",
       "      <td>Chapters 3-5 recap of \"Children of Blood and B...</td>\n",
       "      <td>en</td>\n",
       "      <td>1015975660890796032</td>\n",
       "      <td>1034</td>\n",
       "      <td>127</td>\n",
       "      <td>None</td>\n",
       "      <td>None</td>\n",
       "      <td>most_positive</td>\n",
       "      <td>0.8807</td>\n",
       "    </tr>\n",
       "    <tr>\n",
       "      <th>2</th>\n",
       "      <td>Sun Jul 08 14:24:03 +0000 2018</td>\n",
       "      <td>jimmyfallon</td>\n",
       "      <td>Gonna put out a sound cloud soon to check in. ...</td>\n",
       "      <td>en</td>\n",
       "      <td>1015964735039262721</td>\n",
       "      <td>866</td>\n",
       "      <td>58</td>\n",
       "      <td>None</td>\n",
       "      <td>None</td>\n",
       "      <td>most_positive</td>\n",
       "      <td>0.9778</td>\n",
       "    </tr>\n",
       "    <tr>\n",
       "      <th>3</th>\n",
       "      <td>Sun Jul 08 14:21:35 +0000 2018</td>\n",
       "      <td>jimmyfallon</td>\n",
       "      <td>Oh I’m in deep now. But I’ll be checking in to...</td>\n",
       "      <td>en</td>\n",
       "      <td>1015964114202583040</td>\n",
       "      <td>1316</td>\n",
       "      <td>91</td>\n",
       "      <td>None</td>\n",
       "      <td>None</td>\n",
       "      <td>most_positive</td>\n",
       "      <td>0.9441</td>\n",
       "    </tr>\n",
       "    <tr>\n",
       "      <th>4</th>\n",
       "      <td>Sun Jul 08 14:11:54 +0000 2018</td>\n",
       "      <td>jimmyfallon</td>\n",
       "      <td>Well if that’s not a great review. It’s a fun ...</td>\n",
       "      <td>en</td>\n",
       "      <td>1015961678964494336</td>\n",
       "      <td>1229</td>\n",
       "      <td>109</td>\n",
       "      <td>None</td>\n",
       "      <td>None</td>\n",
       "      <td>most_positive</td>\n",
       "      <td>0.9855</td>\n",
       "    </tr>\n",
       "  </tbody>\n",
       "</table>\n",
       "</div>"
      ],
      "text/plain": [
       "                        TimeStamp         Name  \\\n",
       "0  Sun Jul 08 15:09:06 +0000 2018  jimmyfallon   \n",
       "1  Sun Jul 08 15:07:28 +0000 2018  jimmyfallon   \n",
       "2  Sun Jul 08 14:24:03 +0000 2018  jimmyfallon   \n",
       "3  Sun Jul 08 14:21:35 +0000 2018  jimmyfallon   \n",
       "4  Sun Jul 08 14:11:54 +0000 2018  jimmyfallon   \n",
       "\n",
       "                                                text lang  \\\n",
       "0  And share photos of where you are reading and ...   en   \n",
       "1  Chapters 3-5 recap of \"Children of Blood and B...   en   \n",
       "2  Gonna put out a sound cloud soon to check in. ...   en   \n",
       "3  Oh I’m in deep now. But I’ll be checking in to...   en   \n",
       "4  Well if that’s not a great review. It’s a fun ...   en   \n",
       "\n",
       "              tweet_id  Favorites  Retweet in_reply_to_status_id_str  \\\n",
       "0  1015976073576804352        714       76       1015975660890796032   \n",
       "1  1015975660890796032       1034      127                      None   \n",
       "2  1015964735039262721        866       58                      None   \n",
       "3  1015964114202583040       1316       91                      None   \n",
       "4  1015961678964494336       1229      109                      None   \n",
       "\n",
       "  in_reply_to_screen_name      Sentiment   Score  \n",
       "0             jimmyfallon  most_positive  0.9183  \n",
       "1                    None  most_positive  0.8807  \n",
       "2                    None  most_positive  0.9778  \n",
       "3                    None  most_positive  0.9441  \n",
       "4                    None  most_positive  0.9855  "
      ]
     },
     "execution_count": 266,
     "metadata": {},
     "output_type": "execute_result"
    }
   ],
   "source": [
    "tweets.head()"
   ]
  },
  {
   "cell_type": "markdown",
   "metadata": {},
   "source": []
  },
  {
   "cell_type": "code",
   "execution_count": 278,
   "metadata": {},
   "outputs": [
    {
     "data": {
      "text/html": [
       "<div>\n",
       "<style>\n",
       "    .dataframe thead tr:only-child th {\n",
       "        text-align: right;\n",
       "    }\n",
       "\n",
       "    .dataframe thead th {\n",
       "        text-align: left;\n",
       "    }\n",
       "\n",
       "    .dataframe tbody tr th {\n",
       "        vertical-align: top;\n",
       "    }\n",
       "</style>\n",
       "<table border=\"1\" class=\"dataframe\">\n",
       "  <thead>\n",
       "    <tr style=\"text-align: right;\">\n",
       "      <th></th>\n",
       "      <th>Sentiment</th>\n",
       "      <th>Score</th>\n",
       "    </tr>\n",
       "  </thead>\n",
       "  <tbody>\n",
       "    <tr>\n",
       "      <th>2</th>\n",
       "      <td>most_positive</td>\n",
       "      <td>3154</td>\n",
       "    </tr>\n",
       "    <tr>\n",
       "      <th>0</th>\n",
       "      <td>more_positive</td>\n",
       "      <td>60</td>\n",
       "    </tr>\n",
       "    <tr>\n",
       "      <th>4</th>\n",
       "      <td>positive</td>\n",
       "      <td>4</td>\n",
       "    </tr>\n",
       "    <tr>\n",
       "      <th>1</th>\n",
       "      <td>most_negative</td>\n",
       "      <td>1</td>\n",
       "    </tr>\n",
       "    <tr>\n",
       "      <th>3</th>\n",
       "      <td>neutral</td>\n",
       "      <td>1</td>\n",
       "    </tr>\n",
       "  </tbody>\n",
       "</table>\n",
       "</div>"
      ],
      "text/plain": [
       "       Sentiment  Score\n",
       "2  most_positive   3154\n",
       "0  more_positive     60\n",
       "4       positive      4\n",
       "1  most_negative      1\n",
       "3        neutral      1"
      ]
     },
     "execution_count": 278,
     "metadata": {},
     "output_type": "execute_result"
    }
   ],
   "source": [
    "#Sentiment Count of Tweets \n",
    "tweets.groupby(['Sentiment'])['Score'].count().reset_index().sort_values(['Score'], ascending = False)"
   ]
  },
  {
   "cell_type": "code",
   "execution_count": 275,
   "metadata": {},
   "outputs": [
    {
     "data": {
      "text/html": [
       "<div>\n",
       "<style>\n",
       "    .dataframe thead tr:only-child th {\n",
       "        text-align: right;\n",
       "    }\n",
       "\n",
       "    .dataframe thead th {\n",
       "        text-align: left;\n",
       "    }\n",
       "\n",
       "    .dataframe tbody tr th {\n",
       "        vertical-align: top;\n",
       "    }\n",
       "</style>\n",
       "<table border=\"1\" class=\"dataframe\">\n",
       "  <thead>\n",
       "    <tr style=\"text-align: right;\">\n",
       "      <th></th>\n",
       "      <th>Sentiment</th>\n",
       "      <th>Favorites</th>\n",
       "    </tr>\n",
       "  </thead>\n",
       "  <tbody>\n",
       "    <tr>\n",
       "      <th>2</th>\n",
       "      <td>most_positive</td>\n",
       "      <td>2887.913126</td>\n",
       "    </tr>\n",
       "    <tr>\n",
       "      <th>0</th>\n",
       "      <td>more_positive</td>\n",
       "      <td>2629.216667</td>\n",
       "    </tr>\n",
       "    <tr>\n",
       "      <th>4</th>\n",
       "      <td>positive</td>\n",
       "      <td>1879.000000</td>\n",
       "    </tr>\n",
       "    <tr>\n",
       "      <th>1</th>\n",
       "      <td>most_negative</td>\n",
       "      <td>647.000000</td>\n",
       "    </tr>\n",
       "    <tr>\n",
       "      <th>3</th>\n",
       "      <td>neutral</td>\n",
       "      <td>0.000000</td>\n",
       "    </tr>\n",
       "  </tbody>\n",
       "</table>\n",
       "</div>"
      ],
      "text/plain": [
       "       Sentiment    Favorites\n",
       "2  most_positive  2887.913126\n",
       "0  more_positive  2629.216667\n",
       "4       positive  1879.000000\n",
       "1  most_negative   647.000000\n",
       "3        neutral     0.000000"
      ]
     },
     "execution_count": 275,
     "metadata": {},
     "output_type": "execute_result"
    }
   ],
   "source": [
    "#Sentiment By Mean \"Favorites\"\n",
    "tweets.groupby(['Sentiment'])['Favorites'].mean().reset_index().sort_values(['Favorites'], ascending = False)\n"
   ]
  },
  {
   "cell_type": "code",
   "execution_count": 279,
   "metadata": {},
   "outputs": [
    {
     "data": {
      "text/html": [
       "<div>\n",
       "<style>\n",
       "    .dataframe thead tr:only-child th {\n",
       "        text-align: right;\n",
       "    }\n",
       "\n",
       "    .dataframe thead th {\n",
       "        text-align: left;\n",
       "    }\n",
       "\n",
       "    .dataframe tbody tr th {\n",
       "        vertical-align: top;\n",
       "    }\n",
       "</style>\n",
       "<table border=\"1\" class=\"dataframe\">\n",
       "  <thead>\n",
       "    <tr style=\"text-align: right;\">\n",
       "      <th></th>\n",
       "      <th>Sentiment</th>\n",
       "      <th>Retweet</th>\n",
       "    </tr>\n",
       "  </thead>\n",
       "  <tbody>\n",
       "    <tr>\n",
       "      <th>3</th>\n",
       "      <td>neutral</td>\n",
       "      <td>952.000000</td>\n",
       "    </tr>\n",
       "    <tr>\n",
       "      <th>2</th>\n",
       "      <td>most_positive</td>\n",
       "      <td>868.004439</td>\n",
       "    </tr>\n",
       "    <tr>\n",
       "      <th>0</th>\n",
       "      <td>more_positive</td>\n",
       "      <td>694.633333</td>\n",
       "    </tr>\n",
       "    <tr>\n",
       "      <th>4</th>\n",
       "      <td>positive</td>\n",
       "      <td>269.750000</td>\n",
       "    </tr>\n",
       "    <tr>\n",
       "      <th>1</th>\n",
       "      <td>most_negative</td>\n",
       "      <td>69.000000</td>\n",
       "    </tr>\n",
       "  </tbody>\n",
       "</table>\n",
       "</div>"
      ],
      "text/plain": [
       "       Sentiment     Retweet\n",
       "3        neutral  952.000000\n",
       "2  most_positive  868.004439\n",
       "0  more_positive  694.633333\n",
       "4       positive  269.750000\n",
       "1  most_negative   69.000000"
      ]
     },
     "execution_count": 279,
     "metadata": {},
     "output_type": "execute_result"
    }
   ],
   "source": [
    "#Sentiment By Mean \"Retweets\"\n",
    "tweets.groupby(['Sentiment'])['Retweet'].mean().reset_index().sort_values(['Retweet'], ascending = False)"
   ]
  },
  {
   "cell_type": "code",
   "execution_count": 283,
   "metadata": {},
   "outputs": [],
   "source": [
    "#most positive/ most negative tweets\n",
    "sentiment = tweets.sort_values(['Score'], ascending = False).reset_index()\n",
    "most_positive = sentiment .iloc[0]\n",
    "most_negative = sentiment .iloc[(len(test)-1)]"
   ]
  },
  {
   "cell_type": "code",
   "execution_count": 284,
   "metadata": {},
   "outputs": [
    {
     "data": {
      "text/plain": [
       "index                                                                     1255\n",
       "TimeStamp                                       Fri Apr 07 00:49:31 +0000 2017\n",
       "Name                                                               jimmyfallon\n",
       "text                         RT @TheRock: The. Best. Time. Hot as f*ck in t...\n",
       "lang                                                                        en\n",
       "tweet_id                                                    850148499614314496\n",
       "Favorites                                                                    0\n",
       "Retweet                                                                    492\n",
       "in_reply_to_status_id_str                                                 None\n",
       "in_reply_to_screen_name                                                   None\n",
       "Sentiment                                                        most_positive\n",
       "Score                                                                   0.9982\n",
       "Name: 0, dtype: object"
      ]
     },
     "execution_count": 284,
     "metadata": {},
     "output_type": "execute_result"
    }
   ],
   "source": [
    "most_positive"
   ]
  },
  {
   "cell_type": "code",
   "execution_count": 285,
   "metadata": {},
   "outputs": [
    {
     "data": {
      "text/plain": [
       "index                                                                      239\n",
       "TimeStamp                                       Thu Apr 26 04:29:24 +0000 2018\n",
       "Name                                                               jimmyfallon\n",
       "text                         Nono no no no no no!!!!! No no no no no no no ...\n",
       "lang                                                                        it\n",
       "tweet_id                                                    989360772739461120\n",
       "Favorites                                                                  647\n",
       "Retweet                                                                     69\n",
       "in_reply_to_status_id_str                                                 None\n",
       "in_reply_to_screen_name                                                   None\n",
       "Sentiment                                                        most_negative\n",
       "Score                                                                  -0.9227\n",
       "Name: 3219, dtype: object"
      ]
     },
     "execution_count": 285,
     "metadata": {},
     "output_type": "execute_result"
    }
   ],
   "source": [
    "most_negative"
   ]
  },
  {
   "cell_type": "code",
   "execution_count": null,
   "metadata": {},
   "outputs": [],
   "source": []
  },
  {
   "cell_type": "code",
   "execution_count": null,
   "metadata": {
    "collapsed": true
   },
   "outputs": [],
   "source": []
  },
  {
   "cell_type": "code",
   "execution_count": null,
   "metadata": {
    "collapsed": true
   },
   "outputs": [],
   "source": []
  },
  {
   "cell_type": "code",
   "execution_count": null,
   "metadata": {
    "collapsed": true
   },
   "outputs": [],
   "source": []
  },
  {
   "cell_type": "code",
   "execution_count": null,
   "metadata": {
    "collapsed": true
   },
   "outputs": [],
   "source": []
  },
  {
   "cell_type": "code",
   "execution_count": null,
   "metadata": {
    "collapsed": true
   },
   "outputs": [],
   "source": []
  },
  {
   "cell_type": "code",
   "execution_count": null,
   "metadata": {
    "collapsed": true
   },
   "outputs": [],
   "source": []
  },
  {
   "cell_type": "code",
   "execution_count": null,
   "metadata": {
    "collapsed": true
   },
   "outputs": [],
   "source": []
  },
  {
   "cell_type": "code",
   "execution_count": null,
   "metadata": {
    "collapsed": true
   },
   "outputs": [],
   "source": []
  },
  {
   "cell_type": "markdown",
   "metadata": {},
   "source": [
    "# Sources\n",
    "\n",
    "http://adilmoujahid.com/posts/2014/07/twitter-analytics/\n",
    "\n",
    "\n",
    "https://www.karambelkar.info/2015/01/how-to-use-twitters-search-rest-api-most-effectively./\n",
    "\n",
    "https://developer.twitter.com/en/docs/tweets/data-dictionary/overview/tweet-object.html\n"
   ]
  },
  {
   "cell_type": "code",
   "execution_count": null,
   "metadata": {
    "collapsed": true
   },
   "outputs": [],
   "source": []
  }
 ],
 "metadata": {
  "kernelspec": {
   "display_name": "Python 2",
   "language": "python",
   "name": "python2"
  },
  "language_info": {
   "codemirror_mode": {
    "name": "ipython",
    "version": 2
   },
   "file_extension": ".py",
   "mimetype": "text/x-python",
   "name": "python",
   "nbconvert_exporter": "python",
   "pygments_lexer": "ipython2",
   "version": "2.7.14"
  }
 },
 "nbformat": 4,
 "nbformat_minor": 2
}
