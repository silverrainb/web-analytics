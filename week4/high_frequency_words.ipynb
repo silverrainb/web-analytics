{
 "cells": [
  {
   "cell_type": "markdown",
   "metadata": {},
   "source": [
    "## Week 4 Part 2 Assignment:\n",
    "## CUNY MSDS DATA620 - Web Analytics\n",
    "---\n",
    "### Team5: Christopher Estevez, Meaghan Burke, Rickidon Singh,  Ritesh Lohiya, Rose Koh\n",
    "### 07/02/2018 (due date)\n",
    "##### python version: ?\n",
    "---\n",
    "\n",
    "## High Frequency Words\n",
    "\n",
    "\n",
    "Please answer the following questions in an IPython Notebook, posted to GitHub.\n",
    "\n",
    "    1.Choose a corpus of interest.\n",
    "    \n",
    "    2.How many total unique words are in the corpus?  (Please feel free to define unique words in any interesting, \n",
    "    defensible way).\n",
    "\n",
    "    3.Taking the most common words, how many unique words represent half of the total words in the corpus?\n",
    "    \n",
    "    4.Identify the 200 highest frequency words in this corpus.\n",
    "    \n",
    "    5.Create a graph that shows the relative frequency of these 200 words.\n",
    "    \n",
    "    6.Does the observed relative frequency of these words follow Zipf’s law? Explain.\n",
    "    \n",
    "    7.In what ways do you think the frequency of the words in this corpus differ from “all words in all corpora.”"
   ]
  }
 ],
 "metadata": {
  "kernelspec": {
   "display_name": "Python 2",
   "language": "python",
   "name": "python2"
  },
  "language_info": {
   "codemirror_mode": {
    "name": "ipython",
    "version": 2
   },
   "file_extension": ".py",
   "mimetype": "text/x-python",
   "name": "python",
   "nbconvert_exporter": "python",
   "pygments_lexer": "ipython2",
   "version": "2.7.14"
  }
 },
 "nbformat": 4,
 "nbformat_minor": 2
}
